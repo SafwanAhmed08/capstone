{
 "cells": [
  {
   "cell_type": "code",
   "execution_count": 1,
   "metadata": {},
   "outputs": [
    {
     "name": "stdout",
     "output_type": "stream",
     "text": [
      "Requirement already satisfied: pandas in ./.venv/lib/python3.9/site-packages (2.2.3)\n",
      "Requirement already satisfied: scapy in ./.venv/lib/python3.9/site-packages (2.6.1)\n",
      "Requirement already satisfied: matplotlib in ./.venv/lib/python3.9/site-packages (3.5.3)\n",
      "Requirement already satisfied: seaborn in ./.venv/lib/python3.9/site-packages (0.13.2)\n",
      "Requirement already satisfied: category_encoders in ./.venv/lib/python3.9/site-packages (2.6.4)\n",
      "Requirement already satisfied: numpy>=1.22.4 in ./.venv/lib/python3.9/site-packages (from pandas) (1.23.5)\n",
      "Requirement already satisfied: python-dateutil>=2.8.2 in ./.venv/lib/python3.9/site-packages (from pandas) (2.8.2)\n",
      "Requirement already satisfied: pytz>=2020.1 in ./.venv/lib/python3.9/site-packages (from pandas) (2022.7.1)\n",
      "Requirement already satisfied: tzdata>=2022.7 in ./.venv/lib/python3.9/site-packages (from pandas) (2025.2)\n",
      "Requirement already satisfied: cycler>=0.10 in ./.venv/lib/python3.9/site-packages (from matplotlib) (0.12.1)\n",
      "Requirement already satisfied: fonttools>=4.22.0 in ./.venv/lib/python3.9/site-packages (from matplotlib) (4.55.3)\n",
      "Requirement already satisfied: kiwisolver>=1.0.1 in ./.venv/lib/python3.9/site-packages (from matplotlib) (1.4.7)\n",
      "Requirement already satisfied: packaging>=20.0 in ./.venv/lib/python3.9/site-packages (from matplotlib) (24.2)\n",
      "Requirement already satisfied: pillow>=6.2.0 in ./.venv/lib/python3.9/site-packages (from matplotlib) (11.1.0)\n",
      "Requirement already satisfied: pyparsing>=2.2.1 in ./.venv/lib/python3.9/site-packages (from matplotlib) (3.2.1)\n",
      "Requirement already satisfied: scikit-learn>=0.20.0 in ./.venv/lib/python3.9/site-packages (from category_encoders) (1.1.3)\n",
      "Requirement already satisfied: scipy>=1.0.0 in ./.venv/lib/python3.9/site-packages (from category_encoders) (1.10.1)\n",
      "Requirement already satisfied: statsmodels>=0.9.0 in ./.venv/lib/python3.9/site-packages (from category_encoders) (0.14.4)\n",
      "Requirement already satisfied: patsy>=0.5.1 in ./.venv/lib/python3.9/site-packages (from category_encoders) (1.0.1)\n",
      "Requirement already satisfied: six>=1.5 in ./.venv/lib/python3.9/site-packages (from python-dateutil>=2.8.2->pandas) (1.17.0)\n",
      "Requirement already satisfied: joblib>=1.0.0 in ./.venv/lib/python3.9/site-packages (from scikit-learn>=0.20.0->category_encoders) (1.4.2)\n",
      "Requirement already satisfied: threadpoolctl>=2.0.0 in ./.venv/lib/python3.9/site-packages (from scikit-learn>=0.20.0->category_encoders) (3.5.0)\n",
      "\n",
      "\u001b[1m[\u001b[0m\u001b[34;49mnotice\u001b[0m\u001b[1;39;49m]\u001b[0m\u001b[39;49m A new release of pip is available: \u001b[0m\u001b[31;49m24.3.1\u001b[0m\u001b[39;49m -> \u001b[0m\u001b[32;49m25.0.1\u001b[0m\n",
      "\u001b[1m[\u001b[0m\u001b[34;49mnotice\u001b[0m\u001b[1;39;49m]\u001b[0m\u001b[39;49m To update, run: \u001b[0m\u001b[32;49mpip install --upgrade pip\u001b[0m\n",
      "Note: you may need to restart the kernel to use updated packages.\n"
     ]
    }
   ],
   "source": [
    "%pip install pandas scapy matplotlib seaborn category_encoders"
   ]
  },
  {
   "cell_type": "code",
   "execution_count": 3,
   "metadata": {},
   "outputs": [],
   "source": [
    "import pandas as pd\n",
    "\n",
    "df = pd.read_csv(\"/Users/safwanahmed/Desktop/capstone/DNN/dataset/DNN-EdgeIIoT-dataset.csv\",low_memory=False)"
   ]
  },
  {
   "cell_type": "code",
   "execution_count": 4,
   "metadata": {},
   "outputs": [],
   "source": [
    "df = df[df['Attack_type'] != 'Fingerprinting'].reset_index(drop=True)"
   ]
  },
  {
   "cell_type": "code",
   "execution_count": 5,
   "metadata": {},
   "outputs": [],
   "source": [
    "taken_features = ['ip.src_host', 'ip.dst_host','arp.opcode', 'arp.hw.size', 'icmp.checksum', 'icmp.seq_le', 'http.content_length', 'http.request.method', 'http.referer', 'http.request.version', 'http.response', 'tcp.ack', 'tcp.ack_raw', 'tcp.checksum', 'tcp.connection.fin', 'tcp.connection.rst', 'tcp.connection.syn', 'tcp.connection.synack', 'tcp.flags', 'tcp.flags.ack', 'tcp.len', 'tcp.seq', 'udp.stream', 'udp.time_delta', 'dns.qry.name', 'dns.qry.name.len', 'dns.qry.qu', 'dns.retransmission', 'dns.retransmit_request', 'mqtt.conack.flags', 'mqtt.conflag.cleansess', 'mqtt.conflags', 'mqtt.hdrflags', 'mqtt.len', 'mqtt.msgtype', 'mqtt.proto_len', 'mqtt.protoname', 'mqtt.topic', 'mqtt.topic_len', 'mqtt.ver', 'Attack_label', 'Attack_type','http.request.uri.query','http.file_data','tcp.dstport','tcp.srcport','tcp.options']\n",
    "total_features = df.columns\n",
    "features_to_be_dropped = []\n",
    "for feature in total_features:\n",
    "    if feature not in taken_features:\n",
    "        features_to_be_dropped.append(feature)\n"
   ]
  },
  {
   "cell_type": "code",
   "execution_count": 6,
   "metadata": {},
   "outputs": [
    {
     "data": {
      "text/plain": [
       "['frame.time',\n",
       " 'arp.dst.proto_ipv4',\n",
       " 'arp.src.proto_ipv4',\n",
       " 'icmp.transmit_timestamp',\n",
       " 'icmp.unused',\n",
       " 'http.request.full_uri',\n",
       " 'http.tls_port',\n",
       " 'tcp.payload',\n",
       " 'udp.port',\n",
       " 'dns.qry.type',\n",
       " 'dns.retransmit_request_in',\n",
       " 'mqtt.msg_decoded_as',\n",
       " 'mqtt.msg',\n",
       " 'mbtcp.len',\n",
       " 'mbtcp.trans_id',\n",
       " 'mbtcp.unit_id']"
      ]
     },
     "execution_count": 6,
     "metadata": {},
     "output_type": "execute_result"
    }
   ],
   "source": [
    "features_to_be_dropped"
   ]
  },
  {
   "cell_type": "code",
   "execution_count": 7,
   "metadata": {},
   "outputs": [],
   "source": [
    "df = df.drop(columns = features_to_be_dropped)"
   ]
  },
  {
   "cell_type": "code",
   "execution_count": 8,
   "metadata": {},
   "outputs": [
    {
     "data": {
      "text/plain": [
       "array(['Normal', 'MITM', 'Uploading', 'Ransomware', 'SQL_injection',\n",
       "       'DDoS_HTTP', 'DDoS_TCP', 'Password', 'Port_Scanning',\n",
       "       'Vulnerability_scanner', 'Backdoor', 'XSS', 'DDoS_UDP',\n",
       "       'DDoS_ICMP'], dtype=object)"
      ]
     },
     "execution_count": 8,
     "metadata": {},
     "output_type": "execute_result"
    }
   ],
   "source": [
    "df['Attack_type'].unique()\n"
   ]
  },
  {
   "cell_type": "code",
   "execution_count": 9,
   "metadata": {},
   "outputs": [],
   "source": [
    "df.dropna(inplace=True)"
   ]
  },
  {
   "cell_type": "code",
   "execution_count": 10,
   "metadata": {},
   "outputs": [],
   "source": [
    "df.drop_duplicates(inplace=True)"
   ]
  },
  {
   "cell_type": "code",
   "execution_count": 11,
   "metadata": {},
   "outputs": [],
   "source": [
    "from sklearn.utils import shuffle\n",
    "df = shuffle(df).reset_index(drop=True)"
   ]
  },
  {
   "cell_type": "code",
   "execution_count": 12,
   "metadata": {},
   "outputs": [
    {
     "name": "stdout",
     "output_type": "stream",
     "text": [
      "Index(['ip.src_host', 'ip.dst_host', 'http.file_data',\n",
      "       'http.request.uri.query', 'http.request.method', 'http.referer',\n",
      "       'http.request.version', 'tcp.options', 'tcp.srcport',\n",
      "       'dns.qry.name.len', 'mqtt.conack.flags', 'mqtt.protoname', 'mqtt.topic',\n",
      "       'Attack_type'],\n",
      "      dtype='object')\n"
     ]
    }
   ],
   "source": [
    "print(df.select_dtypes(include=['object']).columns)"
   ]
  },
  {
   "cell_type": "code",
   "execution_count": 13,
   "metadata": {},
   "outputs": [
    {
     "data": {
      "text/plain": [
       "array(['Normal', 'Password', 'DDoS_HTTP', 'DDoS_ICMP', 'SQL_injection',\n",
       "       'DDoS_UDP', 'Backdoor', 'DDoS_TCP', 'Vulnerability_scanner',\n",
       "       'Uploading', 'XSS', 'Ransomware', 'Port_Scanning', 'MITM'],\n",
       "      dtype=object)"
      ]
     },
     "execution_count": 13,
     "metadata": {},
     "output_type": "execute_result"
    }
   ],
   "source": [
    "df['Attack_label'].unique()\n",
    "df['Attack_type'].unique()"
   ]
  },
  {
   "cell_type": "code",
   "execution_count": 14,
   "metadata": {},
   "outputs": [],
   "source": [
    "def summarize_by_category(df):\n",
    "    return df['Attack_type'].value_counts() "
   ]
  },
  {
   "cell_type": "code",
   "execution_count": 15,
   "metadata": {},
   "outputs": [],
   "source": [
    "original_DNN_data = pd.read_csv(\"/Users/safwanahmed/Desktop/capstone/DNN/dataset/DNN-EdgeIIoT-dataset.csv\", low_memory=False)\n",
    "summary_original_DNN = summarize_by_category(original_DNN_data)"
   ]
  },
  {
   "cell_type": "code",
   "execution_count": 16,
   "metadata": {},
   "outputs": [],
   "source": [
    "summary_preprocessed_DNN = summarize_by_category(df)"
   ]
  },
  {
   "cell_type": "code",
   "execution_count": 17,
   "metadata": {},
   "outputs": [
    {
     "name": "stdout",
     "output_type": "stream",
     "text": [
      "DNN data: original\n",
      "Attack_type\n",
      "Normal                   1615643\n",
      "DDoS_UDP                  121568\n",
      "DDoS_ICMP                 116436\n",
      "SQL_injection              51203\n",
      "Password                   50153\n",
      "Vulnerability_scanner      50110\n",
      "DDoS_TCP                   50062\n",
      "DDoS_HTTP                  49911\n",
      "Uploading                  37634\n",
      "Backdoor                   24862\n",
      "Port_Scanning              22564\n",
      "XSS                        15915\n",
      "Ransomware                 10925\n",
      "MITM                        1214\n",
      "Fingerprinting              1001\n",
      "Name: count, dtype: int64\n",
      "DNN data: preprocessed\n",
      "Attack_type\n",
      "Normal                   1435534\n",
      "DDoS_UDP                  121567\n",
      "DDoS_ICMP                 116431\n",
      "SQL_injection              50974\n",
      "Password                   50078\n",
      "DDoS_TCP                   50062\n",
      "Vulnerability_scanner      50029\n",
      "DDoS_HTTP                  49836\n",
      "Uploading                  37237\n",
      "Backdoor                   24034\n",
      "Port_Scanning              19979\n",
      "XSS                        15081\n",
      "Ransomware                  9693\n",
      "MITM                         364\n",
      "Name: count, dtype: int64\n"
     ]
    }
   ],
   "source": [
    "print(\"DNN data: original\")\n",
    "print(summary_original_DNN)\n",
    "print(\"DNN data: preprocessed\")\n",
    "\n",
    "print(summary_preprocessed_DNN)"
   ]
  },
  {
   "cell_type": "code",
   "execution_count": 18,
   "metadata": {},
   "outputs": [],
   "source": [
    "df.drop(columns=['ip.src_host','ip.dst_host'], inplace=True)"
   ]
  },
  {
   "cell_type": "code",
   "execution_count": 19,
   "metadata": {},
   "outputs": [
    {
     "name": "stdout",
     "output_type": "stream",
     "text": [
      "<class 'pandas.core.frame.DataFrame'>\n",
      "RangeIndex: 2030899 entries, 0 to 2030898\n",
      "Data columns (total 45 columns):\n",
      " #   Column                  Dtype  \n",
      "---  ------                  -----  \n",
      " 0   arp.opcode              float64\n",
      " 1   arp.hw.size             float64\n",
      " 2   icmp.checksum           float64\n",
      " 3   icmp.seq_le             float64\n",
      " 4   http.file_data          object \n",
      " 5   http.content_length     float64\n",
      " 6   http.request.uri.query  object \n",
      " 7   http.request.method     object \n",
      " 8   http.referer            object \n",
      " 9   http.request.version    object \n",
      " 10  http.response           float64\n",
      " 11  tcp.ack                 float64\n",
      " 12  tcp.ack_raw             float64\n",
      " 13  tcp.checksum            float64\n",
      " 14  tcp.connection.fin      float64\n",
      " 15  tcp.connection.rst      float64\n",
      " 16  tcp.connection.syn      float64\n",
      " 17  tcp.connection.synack   float64\n",
      " 18  tcp.dstport             float64\n",
      " 19  tcp.flags               float64\n",
      " 20  tcp.flags.ack           float64\n",
      " 21  tcp.len                 float64\n",
      " 22  tcp.options             object \n",
      " 23  tcp.seq                 float64\n",
      " 24  tcp.srcport             object \n",
      " 25  udp.stream              float64\n",
      " 26  udp.time_delta          float64\n",
      " 27  dns.qry.name            float64\n",
      " 28  dns.qry.name.len        object \n",
      " 29  dns.qry.qu              float64\n",
      " 30  dns.retransmission      float64\n",
      " 31  dns.retransmit_request  float64\n",
      " 32  mqtt.conack.flags       object \n",
      " 33  mqtt.conflag.cleansess  float64\n",
      " 34  mqtt.conflags           float64\n",
      " 35  mqtt.hdrflags           float64\n",
      " 36  mqtt.len                float64\n",
      " 37  mqtt.msgtype            float64\n",
      " 38  mqtt.proto_len          float64\n",
      " 39  mqtt.protoname          object \n",
      " 40  mqtt.topic              object \n",
      " 41  mqtt.topic_len          float64\n",
      " 42  mqtt.ver                float64\n",
      " 43  Attack_label            int64  \n",
      " 44  Attack_type             object \n",
      "dtypes: float64(32), int64(1), object(12)\n",
      "memory usage: 697.3+ MB\n"
     ]
    }
   ],
   "source": [
    "df.info()"
   ]
  },
  {
   "cell_type": "code",
   "execution_count": 20,
   "metadata": {},
   "outputs": [
    {
     "data": {
      "image/png": "[encoded data removed]",
      "text/plain": [
       "<Figure size 1000x600 with 1 Axes>"
      ]
     },
     "metadata": {},
     "output_type": "display_data"
    }
   ],
   "source": [
    "import seaborn as sns\n",
    "import matplotlib.pyplot as plt\n",
    "\n",
    "# Compute correlation with attack label\n",
    "correlation_matrix = df.corr(numeric_only=True)\n",
    "\n",
    "attack_correlation = correlation_matrix[\"Attack_label\"].sort_values(ascending=False)\n",
    "\n",
    "# Visualize top correlated features\n",
    "plt.figure(figsize=(10, 6))\n",
    "sns.barplot(x=attack_correlation.index, y=attack_correlation.values)\n",
    "plt.xticks(rotation=90)\n",
    "plt.title(\"Feature Correlation with Attack Label\")\n",
    "plt.show()"
   ]
  },
  {
   "cell_type": "code",
   "execution_count": 21,
   "metadata": {},
   "outputs": [],
   "source": [
    "categ_cols = [\"http.request.method\",\"http.referer\",\"http.request.version\",\"dns.qry.name.len\",\"mqtt.conack.flags\",\"mqtt.protoname\",\"mqtt.topic\"]\n",
    "\n",
    "DNN_data_encoded = pd.get_dummies(df, columns=categ_cols, dtype=int)"
   ]
  },
  {
   "cell_type": "code",
   "execution_count": 22,
   "metadata": {},
   "outputs": [],
   "source": [
    "def add_6_categories_column(Attack_type):\n",
    "    new_column = []\n",
    "    for attack in Attack_type:\n",
    "        if attack in [\"DDoS_TCP\",\"DDoS_UDP\", \"DDoS_ICMP\", \"DDoS_HTTP\"]:\n",
    "            new_column.append(\"DoS/DDoS\")\n",
    "\n",
    "        if attack in [\"Vulnerability_scanner\",\"Port_Scanning\", \"Fingerprinting\"]:\n",
    "            new_column.append(\"Scanning_Attacks\")\n",
    "\n",
    "        if attack in [\"MITM\"]:\n",
    "            new_column.append(\"MITM\")\n",
    "\n",
    "        if attack in [\"XSS\",\"SQL_injection\", \"Uploading\"]:\n",
    "            new_column.append(\"Injection Attacks\")\n",
    "\n",
    "        if attack in [\"Ransomware\", \"Backdoor\",\"Password\"]:\n",
    "            new_column.append(\"Malware\")\n",
    "\n",
    "        if attack in [\"Normal\"]:\n",
    "            new_column.append(\"Normal\")\n",
    "    return new_column    "
   ]
  },
  {
   "cell_type": "code",
   "execution_count": 23,
   "metadata": {},
   "outputs": [],
   "source": [
    "DNN_categories = add_6_categories_column(DNN_data_encoded[\"Attack_type\"])\n"
   ]
  },
  {
   "cell_type": "code",
   "execution_count": 24,
   "metadata": {},
   "outputs": [
    {
     "data": {
      "text/plain": [
       "array(['Normal', 'Password', 'DDoS_HTTP', 'DDoS_ICMP', 'SQL_injection',\n",
       "       'DDoS_UDP', 'Backdoor', 'DDoS_TCP', 'Vulnerability_scanner',\n",
       "       'Uploading', 'XSS', 'Ransomware', 'Port_Scanning', 'MITM'],\n",
       "      dtype=object)"
      ]
     },
     "execution_count": 24,
     "metadata": {},
     "output_type": "execute_result"
    }
   ],
   "source": [
    "DNN_data_encoded[\"Attack_class\"] = DNN_categories\n",
    "DNN_data_encoded[\"Attack_type\"].unique()"
   ]
  },
  {
   "cell_type": "code",
   "execution_count": 25,
   "metadata": {},
   "outputs": [
    {
     "data": {
      "text/plain": [
       "(2030899, 95)"
      ]
     },
     "execution_count": 25,
     "metadata": {},
     "output_type": "execute_result"
    }
   ],
   "source": [
    "DNN_data_encoded.shape"
   ]
  },
  {
   "cell_type": "code",
   "execution_count": 26,
   "metadata": {},
   "outputs": [],
   "source": [
    "DNN_data_encoded.to_csv(\"/Users/safwanahmed/Desktop/capstone/DNN/dataset/processed_dataset.csv\", index=False)\n"
   ]
  }
 ],
 "metadata": {
  "kernelspec": {
   "display_name": ".venv",
   "language": "python",
   "name": "python3"
  },
  "language_info": {
   "codemirror_mode": {
    "name": "ipython",
    "version": 3
   },
   "file_extension": ".py",
   "mimetype": "text/x-python",
   "name": "python",
   "nbconvert_exporter": "python",
   "pygments_lexer": "ipython3",
   "version": "3.9.6"
  }
 },
 "nbformat": 4,
 "nbformat_minor": 2
}
