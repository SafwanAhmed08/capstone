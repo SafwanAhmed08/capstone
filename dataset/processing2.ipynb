{
 "cells": [
  {
   "cell_type": "code",
   "execution_count": 1,
   "id": "cb9ce209",
   "metadata": {},
   "outputs": [],
   "source": [
    "import pandas as pd\n",
    "import numpy as np\n",
    "import string\n",
    "\n",
    "df = pd.read_csv(\"/Users/safwanahmed/Desktop/capstone/DNN/dataset/processed_dataset.csv\",low_memory=False)\n"
   ]
  },
  {
   "cell_type": "code",
   "execution_count": 2,
   "id": "b44b6350",
   "metadata": {},
   "outputs": [],
   "source": [
    "def compute_entropy(s):\n",
    "    from collections import Counter\n",
    "    p, lns = Counter(s), float(len(s))\n",
    "    return -sum(count/lns * np.log2(count/lns) for count in p.values()) if s else 0\n",
    "\n",
    "# Example transformations:\n",
    "df['uri_query_len'] = df['http.request.uri.query'].astype(str).apply(len)\n",
    "df['uri_query_entropy'] = df['http.request.uri.query'].astype(str).apply(compute_entropy)\n",
    "df['uri_special_char_count'] = df['http.request.uri.query'].astype(str).apply(lambda x: sum(c in string.punctuation for c in x))\n",
    "\n",
    "# Drop the raw text column after extraction\n",
    "df.drop(columns=['http.request.uri.query'], inplace=True)"
   ]
  },
  {
   "cell_type": "code",
   "execution_count": 3,
   "id": "5b85bee1",
   "metadata": {},
   "outputs": [
    {
     "name": "stdout",
     "output_type": "stream",
     "text": [
      "Non-numeric columns: ['http.file_data', 'tcp.options', 'tcp.srcport', 'Attack_type', 'Attack_class']\n"
     ]
    }
   ],
   "source": [
    "non_numeric_cols = df.select_dtypes(include='object').columns.tolist()\n",
    "print(\"Non-numeric columns:\", non_numeric_cols)\n"
   ]
  },
  {
   "cell_type": "code",
   "execution_count": 4,
   "id": "80f44f02",
   "metadata": {},
   "outputs": [],
   "source": [
    "import string\n",
    "\n",
    "df['file_data_len'] = df['http.file_data'].astype(str).apply(len)\n",
    "df['file_data_entropy'] = df['http.file_data'].astype(str).apply(lambda s: compute_entropy(s))\n",
    "df['file_data_special_chars'] = df['http.file_data'].astype(str).apply(lambda x: sum(c in string.punctuation for c in x))\n",
    "\n",
    "df.drop(columns=['http.file_data'], inplace=True)"
   ]
  },
  {
   "cell_type": "code",
   "execution_count": 5,
   "id": "1e33e70e",
   "metadata": {},
   "outputs": [],
   "source": [
    "df['tcp_option_count'] = df['tcp.options'].astype(str).apply(lambda x: x.count('='))\n",
    "df.drop(columns=['tcp.options'], inplace=True)"
   ]
  },
  {
   "cell_type": "code",
   "execution_count": 6,
   "id": "8967e934",
   "metadata": {},
   "outputs": [],
   "source": [
    "df['tcp.srcport'] = pd.to_numeric(df['tcp.srcport'], errors='coerce')\n"
   ]
  },
  {
   "cell_type": "code",
   "execution_count": 7,
   "id": "65b1f32e",
   "metadata": {},
   "outputs": [],
   "source": [
    "df.to_csv(\"/Users/safwanahmed/Desktop/capstone/DNN/dataset/processed_dataset.csv\")"
   ]
  }
 ],
 "metadata": {
  "kernelspec": {
   "display_name": ".venv",
   "language": "python",
   "name": "python3"
  },
  "language_info": {
   "codemirror_mode": {
    "name": "ipython",
    "version": 3
   },
   "file_extension": ".py",
   "mimetype": "text/x-python",
   "name": "python",
   "nbconvert_exporter": "python",
   "pygments_lexer": "ipython3",
   "version": "3.9.6"
  }
 },
 "nbformat": 4,
 "nbformat_minor": 5
}
