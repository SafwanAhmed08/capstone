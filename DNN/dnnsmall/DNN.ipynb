{
 "cells": [
  {
   "cell_type": "code",
   "execution_count": 79,
   "metadata": {},
   "outputs": [],
   "source": [
    "import pandas as pd\n",
    "from sklearn.metrics import classification_report, confusion_matrix\n",
    "import numpy as np\n",
    "import joblib\n",
    "from sklearn.preprocessing import StandardScaler\n",
    "from sklearn.decomposition import PCA\n",
    "from sklearn.model_selection import train_test_split\n",
    "import torch\n",
    "import torch.nn as nn\n",
    "import torch.optim as optim\n",
    "from torch.utils.data import DataLoader, TensorDataset\n",
    "from tqdm import tqdm\n",
    "from sklearn.metrics import classification_report, confusion_matrix\n",
    "from imblearn.over_sampling import SMOTE\n",
    "from imblearn.under_sampling import RandomUnderSampler\n",
    "from sklearn.preprocessing import LabelEncoder\n",
    "from sklearn.utils.class_weight import compute_class_weight\n",
    "from collections import Counter"
   ]
  },
  {
   "cell_type": "code",
   "execution_count": 80,
   "metadata": {},
   "outputs": [
    {
     "name": "stdout",
     "output_type": "stream",
     "text": [
      "Requirement already satisfied: imblearn in /Users/safwanahmed/Desktop/capstone/.venv/lib/python3.9/site-packages (0.0)\n",
      "Requirement already satisfied: imbalanced-learn in /Users/safwanahmed/Desktop/capstone/.venv/lib/python3.9/site-packages (from imblearn) (0.12.4)\n",
      "Requirement already satisfied: numpy>=1.17.3 in /Users/safwanahmed/Desktop/capstone/.venv/lib/python3.9/site-packages (from imbalanced-learn->imblearn) (1.26.4)\n",
      "Requirement already satisfied: scipy>=1.5.0 in /Users/safwanahmed/Desktop/capstone/.venv/lib/python3.9/site-packages (from imbalanced-learn->imblearn) (1.10.1)\n",
      "Requirement already satisfied: scikit-learn>=1.0.2 in /Users/safwanahmed/Desktop/capstone/.venv/lib/python3.9/site-packages (from imbalanced-learn->imblearn) (1.1.3)\n",
      "Requirement already satisfied: joblib>=1.1.1 in /Users/safwanahmed/Desktop/capstone/.venv/lib/python3.9/site-packages (from imbalanced-learn->imblearn) (1.5.1)\n",
      "Requirement already satisfied: threadpoolctl>=2.0.0 in /Users/safwanahmed/Desktop/capstone/.venv/lib/python3.9/site-packages (from imbalanced-learn->imblearn) (3.5.0)\n",
      "\n",
      "\u001b[1m[\u001b[0m\u001b[34;49mnotice\u001b[0m\u001b[1;39;49m]\u001b[0m\u001b[39;49m A new release of pip is available: \u001b[0m\u001b[31;49m24.3.1\u001b[0m\u001b[39;49m -> \u001b[0m\u001b[32;49m25.2\u001b[0m\n",
      "\u001b[1m[\u001b[0m\u001b[34;49mnotice\u001b[0m\u001b[1;39;49m]\u001b[0m\u001b[39;49m To update, run: \u001b[0m\u001b[32;49mpip install --upgrade pip\u001b[0m\n",
      "\n",
      "\u001b[1m[\u001b[0m\u001b[34;49mnotice\u001b[0m\u001b[1;39;49m]\u001b[0m\u001b[39;49m A new release of pip is available: \u001b[0m\u001b[31;49m24.3.1\u001b[0m\u001b[39;49m -> \u001b[0m\u001b[32;49m25.2\u001b[0m\n",
      "\u001b[1m[\u001b[0m\u001b[34;49mnotice\u001b[0m\u001b[1;39;49m]\u001b[0m\u001b[39;49m To update, run: \u001b[0m\u001b[32;49mpip install --upgrade pip\u001b[0m\n"
     ]
    }
   ],
   "source": [
    "!pip install imblearn"
   ]
  },
  {
   "cell_type": "code",
   "execution_count": 81,
   "metadata": {},
   "outputs": [],
   "source": [
    "df = pd.read_csv(\"./dataset/processed_dataset_attacks_only.csv\", low_memory=False)\n",
    "df = df.dropna()"
   ]
  },
  {
   "cell_type": "code",
   "execution_count": 82,
   "metadata": {},
   "outputs": [
    {
     "name": "stdout",
     "output_type": "stream",
     "text": [
      "Available columns:\n",
      "['arp.opcode', 'icmp.checksum', 'icmp.seq_le', 'http.content_length', 'http.response', 'tcp.checksum', 'tcp.connection.fin', 'tcp.connection.rst', 'tcp.connection.syn', 'tcp.flags', 'tcp.flags.ack', 'tcp.len', 'udp.stream', 'udp.time_delta', 'dns.qry.qu', 'dns.retransmission', 'dns.retransmit_request', 'mqtt.conflags', 'mqtt.hdrflags', 'mqtt.len', 'mqtt.msgtype', 'mqtt.proto_len', 'mqtt.ver', 'Attack_label', 'Attack_type']\n",
      "Dropped columns: ['Attack_label']\n",
      "Feature scaling complete!\n"
     ]
    }
   ],
   "source": [
    "scaler = StandardScaler()\n",
    "\n",
    "# Check what columns exist in the dataset\n",
    "print(\"Available columns:\")\n",
    "print(df.columns.tolist())\n",
    "\n",
    "# Drop columns that exist\n",
    "columns_to_drop = []\n",
    "if \"Attack_label\" in df.columns:\n",
    "    columns_to_drop.append(\"Attack_label\")\n",
    "if \"Attack_class\" in df.columns:\n",
    "    columns_to_drop.append(\"Attack_class\")\n",
    "\n",
    "if columns_to_drop:\n",
    "    df = df.drop(columns=columns_to_drop)\n",
    "    print(f\"Dropped columns: {columns_to_drop}\")\n",
    "\n",
    "X_scaled = scaler.fit_transform(df.drop(columns=[\"Attack_type\"]))\n",
    "y = df[\"Attack_type\"]\n",
    "print(\"Feature scaling complete!\")"
   ]
  },
  {
   "cell_type": "code",
   "execution_count": 127,
   "metadata": {},
   "outputs": [
    {
     "data": {
      "text/plain": [
       "Index(['arp.opcode', 'icmp.checksum', 'icmp.seq_le', 'http.content_length',\n",
       "       'http.response', 'tcp.checksum', 'tcp.connection.fin',\n",
       "       'tcp.connection.rst', 'tcp.connection.syn', 'tcp.flags',\n",
       "       'tcp.flags.ack', 'tcp.len', 'udp.stream', 'udp.time_delta',\n",
       "       'dns.qry.qu', 'dns.retransmission', 'dns.retransmit_request',\n",
       "       'mqtt.conflags', 'mqtt.hdrflags', 'mqtt.len', 'mqtt.msgtype',\n",
       "       'mqtt.proto_len', 'mqtt.ver', 'Attack_type'],\n",
       "      dtype='object')"
      ]
     },
     "execution_count": 127,
     "metadata": {},
     "output_type": "execute_result"
    }
   ],
   "source": [
    "df.columns"
   ]
  },
  {
   "cell_type": "code",
   "execution_count": 83,
   "metadata": {},
   "outputs": [
    {
     "name": "stdout",
     "output_type": "stream",
     "text": [
      "Original features: 23, Reduced features: 14\n",
      "PCA and scaler saved to models/ directory\n"
     ]
    }
   ],
   "source": [
    "pca = PCA(n_components=0.99)  # Increased from 0.95 to 0.99\n",
    "X_pca = pca.fit_transform(X_scaled)\n",
    "\n",
    "# Create models directory if it doesn't exist\n",
    "import os\n",
    "os.makedirs('models', exist_ok=True)\n",
    "\n",
    "# Save PCA and scaler\n",
    "joblib.dump(pca, 'models/pca.pkl')\n",
    "joblib.dump(scaler, 'models/standard_scaler.pkl')\n",
    "print(f\"Original features: {X_scaled.shape[1]}, Reduced features: {X_pca.shape[1]}\")\n",
    "print(\"PCA and scaler saved to models/ directory\")"
   ]
  },
  {
   "cell_type": "code",
   "execution_count": 84,
   "metadata": {},
   "outputs": [
    {
     "name": "stdout",
     "output_type": "stream",
     "text": [
      "Training set: (331361, 14), Validation set: (82841, 14), Testing set: (103551, 14)\n"
     ]
    }
   ],
   "source": [
    "X_train, X_test, y_train, y_test = train_test_split(X_pca, y, test_size=0.2, random_state=42, stratify=y)\n",
    "X_train, X_val, y_train, y_val = train_test_split(X_train, y_train, test_size=0.2, random_state=42, stratify=y_train)\n",
    "print(f\"Training set: {X_train.shape}, Validation set: {X_val.shape}, Testing set: {X_test.shape}\")\n"
   ]
  },
  {
   "cell_type": "code",
   "execution_count": 85,
   "metadata": {},
   "outputs": [
    {
     "name": "stdout",
     "output_type": "stream",
     "text": [
      "Resampled training set: (1011439, 14)\n"
     ]
    }
   ],
   "source": [
    "smote = SMOTE(sampling_strategy='auto', random_state=42)\n",
    "X_train_resampled, y_train_resampled = smote.fit_resample(X_train, y_train)\n",
    "print(f\"Resampled training set: {X_train_resampled.shape}\")"
   ]
  },
  {
   "cell_type": "code",
   "execution_count": 86,
   "metadata": {},
   "outputs": [
    {
     "name": "stdout",
     "output_type": "stream",
     "text": [
      "Using device: mps\n"
     ]
    }
   ],
   "source": [
    "device = torch.device(\"cuda\" if torch.cuda.is_available() else \"mps\" if torch.backends.mps.is_available() else \"cpu\")\n",
    "print(f\"Using device: {device}\")"
   ]
  },
  {
   "cell_type": "code",
   "execution_count": 87,
   "metadata": {},
   "outputs": [
    {
     "name": "stdout",
     "output_type": "stream",
     "text": [
      "New class distribution after targeted SMOTE:\n",
      "{'Backdoor': 14757, 'DDoS_HTTP': 29922, 'Password': 50000, 'DDoS_UDP': 77803, 'DDoS_TCP': 26550, 'SQL_injection': 29468, 'DDoS_ICMP': 43481, 'Uploading': 22608, 'Vulnerability_scanner': 30382, 'Port_Scanning': 50000, 'Ransomware': 6040, 'XSS': 50000, 'MITM': 50000}\n",
      "Label encoder, feature order, and model metadata saved to models/ directory\n",
      "\n",
      "{'Backdoor': 14757, 'DDoS_HTTP': 29922, 'Password': 50000, 'DDoS_UDP': 77803, 'DDoS_TCP': 26550, 'SQL_injection': 29468, 'DDoS_ICMP': 43481, 'Uploading': 22608, 'Vulnerability_scanner': 30382, 'Port_Scanning': 50000, 'Ransomware': 6040, 'XSS': 50000, 'MITM': 50000}\n",
      "Label encoder, feature order, and model metadata saved to models/ directory\n"
     ]
    }
   ],
   "source": [
    "# Convert labels to string for encoding\n",
    "y_train_str = y_train.astype(str)\n",
    "y_val_str = y_val.astype(str)\n",
    "y_test_str = y_test.astype(str)\n",
    "\n",
    "# Combine all label sets to preserve unseen classes for encoding\n",
    "combined_labels = np.concatenate([y_train_str, y_val_str, y_test_str])\n",
    "label_encoder = LabelEncoder()\n",
    "label_encoder.fit(combined_labels)\n",
    "\n",
    "# Transform labels to integers\n",
    "y_train_encoded = label_encoder.transform(y_train_str)\n",
    "y_val_encoded = label_encoder.transform(y_val_str)\n",
    "y_test_encoded = label_encoder.transform(y_test_str)\n",
    "\n",
    "# Create a mapping of label name to encoded value\n",
    "label_to_id = {name: idx for idx, name in enumerate(label_encoder.classes_)}\n",
    "id_to_label = {idx: name for name, idx in label_to_id.items()}\n",
    "\n",
    "# Select underperforming classes to boost\n",
    "underperforming = ['XSS', 'MITM', 'Password', 'Port_Scanning']\n",
    "\n",
    "# Target number of samples for each\n",
    "smote_strategy = {\n",
    "    label_to_id[label]: 50000 for label in underperforming\n",
    "}\n",
    "\n",
    "# Apply SMOTE only to selected classes\n",
    "smote = SMOTE(sampling_strategy=smote_strategy, random_state=42)\n",
    "X_train_resampled, y_train_resampled = smote.fit_resample(X_train, y_train_encoded)\n",
    "\n",
    "# Check counts\n",
    "print(\"New class distribution after targeted SMOTE:\")\n",
    "print({id_to_label[k]: v for k, v in Counter(y_train_resampled).items()})\n",
    "\n",
    "from sklearn.preprocessing import LabelEncoder\n",
    "\n",
    "label_encoder = LabelEncoder()\n",
    "label_encoder.fit(df['Attack_type'])\n",
    "\n",
    "# Create models directory if it doesn't exist\n",
    "import os\n",
    "os.makedirs('models', exist_ok=True)\n",
    "\n",
    "# Save label encoder and feature order\n",
    "joblib.dump(label_encoder, 'models/label_encoder.pkl')\n",
    "\n",
    "# Save feature order for inference\n",
    "feature_order = df.drop(columns=[\"Attack_type\"]).columns.tolist()\n",
    "joblib.dump(feature_order, 'models/feature_order.pkl')\n",
    "\n",
    "# Save model metadata\n",
    "model_metadata = {\n",
    "    'input_dim': X_pca.shape[1],\n",
    "    'num_classes': len(label_encoder.classes_),\n",
    "    'class_names': label_encoder.classes_.tolist(),\n",
    "    'pca_components': 0.99,\n",
    "    'original_features': X_scaled.shape[1],\n",
    "    'reduced_features': X_pca.shape[1]\n",
    "}\n",
    "joblib.dump(model_metadata, 'models/model_metadata.pkl')\n",
    "\n",
    "print(\"Label encoder, feature order, and model metadata saved to models/ directory\")"
   ]
  },
  {
   "cell_type": "code",
   "execution_count": 88,
   "metadata": {},
   "outputs": [
    {
     "name": "stdout",
     "output_type": "stream",
     "text": [
      "X_train_resampled shape: (481011, 14)\n",
      "y_train_resampled shape: (481011,)\n"
     ]
    }
   ],
   "source": [
    "print(\"X_train_resampled shape:\", X_train_resampled.shape)\n",
    "print(\"y_train_resampled shape:\", y_train_resampled.shape)\n"
   ]
  },
  {
   "cell_type": "code",
   "execution_count": 89,
   "metadata": {},
   "outputs": [],
   "source": [
    "y_train_tensor = torch.tensor(y_train_resampled, dtype=torch.float32)\n",
    "y_val_tensor = torch.tensor(y_val_encoded, dtype=torch.float32)\n",
    "y_test_tensor = torch.tensor(y_test_encoded, dtype=torch.float32)"
   ]
  },
  {
   "cell_type": "code",
   "execution_count": 90,
   "metadata": {},
   "outputs": [],
   "source": [
    "# Create models directory if it doesn't exist\n",
    "import os\n",
    "os.makedirs('models', exist_ok=True)\n",
    "\n",
    "# Save y tensors to models directory\n",
    "torch.save(y_train_tensor, \"models/y_train_tensor.pt\")\n",
    "torch.save(y_val_tensor, \"models/y_val_tensor.pt\")\n",
    "torch.save(y_test_tensor, \"models/y_test_tensor.pt\")"
   ]
  },
  {
   "cell_type": "code",
   "execution_count": 91,
   "metadata": {},
   "outputs": [],
   "source": [
    "X_train_tensor = torch.tensor(X_train_resampled, dtype=torch.float32)\n",
    "X_val_tensor = torch.tensor(X_val, dtype=torch.float32)\n",
    "X_test_tensor = torch.tensor(X_test, dtype=torch.float32)"
   ]
  },
  {
   "cell_type": "code",
   "execution_count": 92,
   "metadata": {},
   "outputs": [],
   "source": [
    "# Create models directory if it doesn't exist\n",
    "import os\n",
    "os.makedirs('models', exist_ok=True)\n",
    "\n",
    "# Save tensors to models directory\n",
    "torch.save(X_train_tensor, \"models/X_train_tensor.pt\")\n",
    "torch.save(X_val_tensor, \"models/X_val_tensor.pt\")\n",
    "torch.save(X_test_tensor, \"models/X_test_tensor.pt\")"
   ]
  },
  {
   "cell_type": "code",
   "execution_count": 93,
   "metadata": {},
   "outputs": [
    {
     "name": "stdout",
     "output_type": "stream",
     "text": [
      "X_train_resampled shape: torch.Size([481011, 14])\n",
      "y_train_resampled shape: torch.Size([481011])\n"
     ]
    }
   ],
   "source": [
    "print(\"X_train_resampled shape:\", X_train_tensor.shape)\n",
    "print(\"y_train_resampled shape:\", y_train_tensor.shape)\n"
   ]
  },
  {
   "cell_type": "code",
   "execution_count": 94,
   "metadata": {},
   "outputs": [],
   "source": [
    "unique_classes = np.unique(y_train_resampled)\n",
    "class_weights = compute_class_weight('balanced', classes=unique_classes, y=y_train_resampled)\n",
    "class_weights_tensor = torch.tensor(class_weights, dtype=torch.float).to(device)"
   ]
  },
  {
   "cell_type": "code",
   "execution_count": 95,
   "metadata": {},
   "outputs": [],
   "source": [
    "batch_size = 512  # Increased from 128 to 512\n",
    "train_dataset = TensorDataset(X_train_tensor, y_train_tensor)\n",
    "val_dataset = TensorDataset(X_val_tensor, y_val_tensor)\n",
    "test_dataset = TensorDataset(X_test_tensor, y_test_tensor)\n"
   ]
  },
  {
   "cell_type": "code",
   "execution_count": 96,
   "metadata": {},
   "outputs": [],
   "source": [
    "train_loader = DataLoader(train_dataset, batch_size=batch_size, shuffle=True, num_workers=0)\n",
    "val_loader = DataLoader(val_dataset, batch_size=batch_size, num_workers=0)\n",
    "test_loader = DataLoader(test_dataset, batch_size=batch_size, num_workers=0)"
   ]
  },
  {
   "cell_type": "code",
   "execution_count": 97,
   "metadata": {},
   "outputs": [],
   "source": [
    "accumulation_steps = 4\n"
   ]
  },
  {
   "cell_type": "code",
   "execution_count": 98,
   "metadata": {},
   "outputs": [],
   "source": [
    "class ImprovedDNN(nn.Module):\n",
    "    def __init__(self, input_dim, num_classes, dropout_rate=0.3):\n",
    "        super(ImprovedDNN, self).__init__()\n",
    "        \n",
    "        # Wider architecture with batch normalization\n",
    "        self.fc1 = nn.Linear(input_dim, 512)\n",
    "        self.bn1 = nn.BatchNorm1d(512)\n",
    "        self.fc2 = nn.Linear(512, 256)\n",
    "        self.bn2 = nn.BatchNorm1d(256)\n",
    "        self.fc3 = nn.Linear(256, 128)\n",
    "        self.bn3 = nn.BatchNorm1d(128)\n",
    "        self.fc4 = nn.Linear(128, 64)\n",
    "        self.bn4 = nn.BatchNorm1d(64)\n",
    "        self.fc5 = nn.Linear(64, num_classes)\n",
    "\n",
    "        # Activation & regularization\n",
    "        self.dropout = nn.Dropout(dropout_rate)\n",
    "        self.act = nn.LeakyReLU(0.1)  # LeakyReLU instead of ReLU\n",
    "\n",
    "    def forward(self, x):\n",
    "        x = self.act(self.bn1(self.fc1(x)))\n",
    "        x = self.dropout(x)\n",
    "        x = self.act(self.bn2(self.fc2(x)))\n",
    "        x = self.dropout(x)\n",
    "        x = self.act(self.bn3(self.fc3(x)))\n",
    "        x = self.dropout(x)\n",
    "        x = self.act(self.bn4(self.fc4(x)))\n",
    "        x = self.dropout(x)\n",
    "        x = self.fc5(x)\n",
    "        return x"
   ]
  },
  {
   "cell_type": "code",
   "execution_count": 99,
   "metadata": {},
   "outputs": [
    {
     "name": "stdout",
     "output_type": "stream",
     "text": [
      "14 13\n"
     ]
    }
   ],
   "source": [
    "input_dim = X_train_resampled.shape[1]\n",
    "num_classes = len(set(y_train_resampled))\n",
    "print(input_dim,num_classes)\n",
    "\n",
    "model = ImprovedDNN(input_dim, num_classes).to(device)\n",
    "criterion = nn.CrossEntropyLoss(weight=class_weights_tensor)\n",
    "optimizer = optim.Adam(model.parameters(), lr=0.001, weight_decay=1e-5)\n",
    "scheduler = torch.optim.lr_scheduler.ReduceLROnPlateau(optimizer, mode='min', factor=0.5, patience=3)\n"
   ]
  },
  {
   "cell_type": "code",
   "execution_count": 100,
   "metadata": {},
   "outputs": [
    {
     "name": "stderr",
     "output_type": "stream",
     "text": [
      "Epoch 1/20: 100%|██████████| 940/940 [00:06<00:00, 147.77batch/s, accuracy=0.512, loss=1.34]\n",
      "Epoch 1/20: 100%|██████████| 940/940 [00:06<00:00, 147.77batch/s, accuracy=0.512, loss=1.34]\n"
     ]
    },
    {
     "name": "stdout",
     "output_type": "stream",
     "text": [
      "Epoch [1/20] - Loss: 1.5137 - Train Accuracy: 0.5124\n",
      "Validation Loss: 1.3488 - Validation Accuracy: 0.6080\n",
      "Best model weights saved with validation accuracy: 0.6080\n",
      "Validation Loss: 1.3488 - Validation Accuracy: 0.6080\n",
      "Best model weights saved with validation accuracy: 0.6080\n"
     ]
    },
    {
     "name": "stderr",
     "output_type": "stream",
     "text": [
      "Epoch 2/20: 100%|██████████| 940/940 [00:05<00:00, 167.07batch/s, accuracy=0.584, loss=1.34]\n",
      "Epoch 2/20: 100%|██████████| 940/940 [00:05<00:00, 167.07batch/s, accuracy=0.584, loss=1.34]\n"
     ]
    },
    {
     "name": "stdout",
     "output_type": "stream",
     "text": [
      "Epoch [2/20] - Loss: 1.2904 - Train Accuracy: 0.5843\n",
      "Validation Loss: 1.2067 - Validation Accuracy: 0.6300\n",
      "Best model weights saved with validation accuracy: 0.6300\n",
      "Validation Loss: 1.2067 - Validation Accuracy: 0.6300\n",
      "Best model weights saved with validation accuracy: 0.6300\n"
     ]
    },
    {
     "name": "stderr",
     "output_type": "stream",
     "text": [
      "Epoch 3/20: 100%|██████████| 940/940 [00:05<00:00, 170.33batch/s, accuracy=0.615, loss=1.19]\n",
      "Epoch 3/20: 100%|██████████| 940/940 [00:05<00:00, 170.33batch/s, accuracy=0.615, loss=1.19]\n"
     ]
    },
    {
     "name": "stdout",
     "output_type": "stream",
     "text": [
      "Epoch [3/20] - Loss: 1.1989 - Train Accuracy: 0.6150\n",
      "Validation Loss: 1.1478 - Validation Accuracy: 0.6358\n",
      "Best model weights saved with validation accuracy: 0.6358\n",
      "Validation Loss: 1.1478 - Validation Accuracy: 0.6358\n",
      "Best model weights saved with validation accuracy: 0.6358\n"
     ]
    },
    {
     "name": "stderr",
     "output_type": "stream",
     "text": [
      "Epoch 4/20: 100%|██████████| 940/940 [00:05<00:00, 170.35batch/s, accuracy=0.628, loss=1.26] \n",
      "Epoch 4/20: 100%|██████████| 940/940 [00:05<00:00, 170.35batch/s, accuracy=0.628, loss=1.26]\n"
     ]
    },
    {
     "name": "stdout",
     "output_type": "stream",
     "text": [
      "Epoch [4/20] - Loss: 1.1529 - Train Accuracy: 0.6282\n",
      "Validation Loss: 1.1307 - Validation Accuracy: 0.6101\n",
      "Validation Loss: 1.1307 - Validation Accuracy: 0.6101\n"
     ]
    },
    {
     "name": "stderr",
     "output_type": "stream",
     "text": [
      "Epoch 5/20: 100%|██████████| 940/940 [00:05<00:00, 164.98batch/s, accuracy=0.634, loss=1.28] \n",
      "Epoch 5/20: 100%|██████████| 940/940 [00:05<00:00, 164.98batch/s, accuracy=0.634, loss=1.28]\n"
     ]
    },
    {
     "name": "stdout",
     "output_type": "stream",
     "text": [
      "Epoch [5/20] - Loss: 1.1321 - Train Accuracy: 0.6345\n",
      "Validation Loss: 1.1072 - Validation Accuracy: 0.6300\n",
      "Validation Loss: 1.1072 - Validation Accuracy: 0.6300\n"
     ]
    },
    {
     "name": "stderr",
     "output_type": "stream",
     "text": [
      "Epoch 6/20: 100%|██████████| 940/940 [00:06<00:00, 145.96batch/s, accuracy=0.64, loss=1.25]  \n",
      "Epoch 6/20: 100%|██████████| 940/940 [00:06<00:00, 145.96batch/s, accuracy=0.64, loss=1.25]\n"
     ]
    },
    {
     "name": "stdout",
     "output_type": "stream",
     "text": [
      "Epoch [6/20] - Loss: 1.1166 - Train Accuracy: 0.6397\n",
      "Validation Loss: 1.0965 - Validation Accuracy: 0.6231\n",
      "Validation Loss: 1.0965 - Validation Accuracy: 0.6231\n"
     ]
    },
    {
     "name": "stderr",
     "output_type": "stream",
     "text": [
      "Epoch 7/20: 100%|██████████| 940/940 [00:06<00:00, 138.55batch/s, accuracy=0.643, loss=1.15] \n",
      "Epoch 7/20: 100%|██████████| 940/940 [00:06<00:00, 138.55batch/s, accuracy=0.643, loss=1.15]\n"
     ]
    },
    {
     "name": "stdout",
     "output_type": "stream",
     "text": [
      "Epoch [7/20] - Loss: 1.1064 - Train Accuracy: 0.6429\n",
      "Validation Loss: 1.0849 - Validation Accuracy: 0.6343\n",
      "Validation Loss: 1.0849 - Validation Accuracy: 0.6343\n"
     ]
    },
    {
     "name": "stderr",
     "output_type": "stream",
     "text": [
      "Epoch 8/20: 100%|██████████| 940/940 [00:05<00:00, 157.46batch/s, accuracy=0.645, loss=1.26] \n",
      "Epoch 8/20: 100%|██████████| 940/940 [00:05<00:00, 157.46batch/s, accuracy=0.645, loss=1.26]\n"
     ]
    },
    {
     "name": "stdout",
     "output_type": "stream",
     "text": [
      "Epoch [8/20] - Loss: 1.0995 - Train Accuracy: 0.6453\n",
      "Validation Loss: 1.0884 - Validation Accuracy: 0.6135\n",
      "Early stopping triggered!\n",
      "Validation Loss: 1.0884 - Validation Accuracy: 0.6135\n",
      "Early stopping triggered!\n"
     ]
    },
    {
     "data": {
      "text/plain": [
       "ImprovedDNN(\n",
       "  (fc1): Linear(in_features=14, out_features=512, bias=True)\n",
       "  (bn1): BatchNorm1d(512, eps=1e-05, momentum=0.1, affine=True, track_running_stats=True)\n",
       "  (fc2): Linear(in_features=512, out_features=256, bias=True)\n",
       "  (bn2): BatchNorm1d(256, eps=1e-05, momentum=0.1, affine=True, track_running_stats=True)\n",
       "  (fc3): Linear(in_features=256, out_features=128, bias=True)\n",
       "  (bn3): BatchNorm1d(128, eps=1e-05, momentum=0.1, affine=True, track_running_stats=True)\n",
       "  (fc4): Linear(in_features=128, out_features=64, bias=True)\n",
       "  (bn4): BatchNorm1d(64, eps=1e-05, momentum=0.1, affine=True, track_running_stats=True)\n",
       "  (fc5): Linear(in_features=64, out_features=13, bias=True)\n",
       "  (dropout): Dropout(p=0.3, inplace=False)\n",
       "  (act): LeakyReLU(negative_slope=0.1)\n",
       ")"
      ]
     },
     "execution_count": 100,
     "metadata": {},
     "output_type": "execute_result"
    }
   ],
   "source": [
    "num_epochs = 20\n",
    "best_val_acc = 0\n",
    "patience = 5\n",
    "patience_counter = 0\n",
    "\n",
    "# Create models directory if it doesn't exist\n",
    "import os\n",
    "os.makedirs('models', exist_ok=True)\n",
    "\n",
    "for epoch in range(num_epochs):\n",
    "    # Training phase\n",
    "    model.train()\n",
    "    running_loss = 0.0\n",
    "    correct = 0\n",
    "    total = 0\n",
    "    \n",
    "    optimizer.zero_grad()  # Reset gradients at the beginning of epoch\n",
    "    \n",
    "    with tqdm(train_loader, desc=f\"Epoch {epoch+1}/{num_epochs}\", unit=\"batch\") as tepoch:\n",
    "        for i, (X_batch, y_batch) in enumerate(tepoch):\n",
    "            X_batch, y_batch = X_batch.to(device), y_batch.to(device)\n",
    "            \n",
    "            outputs = model(X_batch)\n",
    "            loss = criterion(outputs, y_batch)\n",
    "            \n",
    "            # Normalize loss to account for accumulation\n",
    "            loss = loss / accumulation_steps\n",
    "            loss.backward()\n",
    "            \n",
    "            # Only step and zero_grad after accumulation_steps\n",
    "            if (i + 1) % accumulation_steps == 0:\n",
    "                # Add gradient clipping\n",
    "                torch.nn.utils.clip_grad_norm_(model.parameters(), max_norm=1.0)\n",
    "                optimizer.step()\n",
    "                optimizer.zero_grad()\n",
    "            \n",
    "            running_loss += loss.item() * accumulation_steps\n",
    "            _, predicted = torch.max(outputs, 1)\n",
    "            total += y_batch.size(0)\n",
    "            correct += (predicted == y_batch).sum().item()\n",
    "            \n",
    "            tepoch.set_postfix(loss=loss.item() * accumulation_steps, accuracy=correct/total)\n",
    "    \n",
    "    # Step optimizer for remaining gradients\n",
    "    if len(train_loader) % accumulation_steps != 0:\n",
    "        torch.nn.utils.clip_grad_norm_(model.parameters(), max_norm=1.0)\n",
    "        optimizer.step()\n",
    "        optimizer.zero_grad()\n",
    "    \n",
    "    train_acc = correct / total\n",
    "    print(f\"Epoch [{epoch+1}/{num_epochs}] - Loss: {running_loss/len(train_loader):.4f} - Train Accuracy: {train_acc:.4f}\")\n",
    "    \n",
    "    # Validation phase\n",
    "    model.eval()\n",
    "    val_correct = 0\n",
    "    val_total = 0\n",
    "    val_loss = 0\n",
    "    \n",
    "    with torch.no_grad():\n",
    "        for X_val, y_val in val_loader:\n",
    "            X_val, y_val = X_val.to(device), y_val.to(device)\n",
    "            outputs = model(X_val)\n",
    "            loss = criterion(outputs, y_val)\n",
    "            val_loss += loss.item()\n",
    "            \n",
    "            _, predicted = torch.max(outputs, 1)\n",
    "            val_total += y_val.size(0)\n",
    "            val_correct += (predicted == y_val).sum().item()\n",
    "    \n",
    "    val_acc = val_correct / val_total\n",
    "    val_loss = val_loss / len(val_loader)\n",
    "    \n",
    "    print(f\"Validation Loss: {val_loss:.4f} - Validation Accuracy: {val_acc:.4f}\")\n",
    "    \n",
    "    # Learning rate scheduler\n",
    "    scheduler.step(val_loss)\n",
    "    \n",
    "    # Early stopping\n",
    "    if val_acc > best_val_acc:\n",
    "        best_val_acc = val_acc\n",
    "        torch.save(model.state_dict(), 'models/best_model.pt')\n",
    "        print(f\"Best model weights saved with validation accuracy: {best_val_acc:.4f}\")\n",
    "        patience_counter = 0\n",
    "\n",
    "    else:\n",
    "        patience_counter += 1\n",
    "        if patience_counter >= patience:\n",
    "            print(\"Early stopping triggered!\")\n",
    "            break\n",
    "\n",
    "# Load the best model weights for evaluation\n",
    "model.load_state_dict(torch.load('models/best_model.pt'))\n",
    "model.eval()"
   ]
  },
  {
   "cell_type": "code",
   "execution_count": 101,
   "metadata": {},
   "outputs": [
    {
     "data": {
      "text/plain": [
       "ImprovedDNN(\n",
       "  (fc1): Linear(in_features=14, out_features=512, bias=True)\n",
       "  (bn1): BatchNorm1d(512, eps=1e-05, momentum=0.1, affine=True, track_running_stats=True)\n",
       "  (fc2): Linear(in_features=512, out_features=256, bias=True)\n",
       "  (bn2): BatchNorm1d(256, eps=1e-05, momentum=0.1, affine=True, track_running_stats=True)\n",
       "  (fc3): Linear(in_features=256, out_features=128, bias=True)\n",
       "  (bn3): BatchNorm1d(128, eps=1e-05, momentum=0.1, affine=True, track_running_stats=True)\n",
       "  (fc4): Linear(in_features=128, out_features=64, bias=True)\n",
       "  (bn4): BatchNorm1d(64, eps=1e-05, momentum=0.1, affine=True, track_running_stats=True)\n",
       "  (fc5): Linear(in_features=64, out_features=13, bias=True)\n",
       "  (dropout): Dropout(p=0.3, inplace=False)\n",
       "  (act): LeakyReLU(negative_slope=0.1)\n",
       ")"
      ]
     },
     "execution_count": 101,
     "metadata": {},
     "output_type": "execute_result"
    }
   ],
   "source": [
    "model.eval()"
   ]
  },
  {
   "cell_type": "code",
   "execution_count": 102,
   "metadata": {},
   "outputs": [],
   "source": [
    "def evaluate(model, test_loader, device, label_encoder):\n",
    "    model.eval()\n",
    "    all_preds = []\n",
    "    all_targets = []\n",
    "\n",
    "    with torch.no_grad():\n",
    "        for X_test, y_test in tqdm(test_loader, desc=\"Evaluating\"):\n",
    "            X_test, y_test = X_test.to(device), y_test.to(device)\n",
    "            outputs = model(X_test)\n",
    "            _, preds = torch.max(outputs, 1)\n",
    "            all_preds.extend(preds.cpu().numpy())\n",
    "            all_targets.extend(y_test.cpu().numpy())\n",
    "\n",
    "    class_names = label_encoder.classes_\n",
    "\n",
    "    # Safely map predictions to class names\n",
    "    pred_classes = [class_names[int(i)] for i in all_preds]\n",
    "    target_classes = [class_names[int(i)] for i in all_targets]\n",
    "\n",
    "    print(\"\\n📊 Classification Report:\")\n",
    "    print(classification_report(target_classes, pred_classes))\n",
    "\n",
    "    cm = confusion_matrix(target_classes, pred_classes)\n",
    "    return cm, classification_report(target_classes, pred_classes, output_dict=True)\n"
   ]
  },
  {
   "cell_type": "code",
   "execution_count": 103,
   "metadata": {},
   "outputs": [
    {
     "name": "stdout",
     "output_type": "stream",
     "text": [
      "Evaluating model on test set...\n"
     ]
    },
    {
     "name": "stderr",
     "output_type": "stream",
     "text": [
      "Evaluating: 100%|██████████| 203/203 [00:00<00:00, 482.38it/s]\n",
      "\n"
     ]
    },
    {
     "name": "stdout",
     "output_type": "stream",
     "text": [
      "\n",
      "📊 Classification Report:\n",
      "                       precision    recall  f1-score   support\n",
      "\n",
      "             Backdoor       0.42      0.31      0.36      4612\n",
      "            DDoS_HTTP       0.65      0.27      0.38      9350\n",
      "            DDoS_ICMP       1.00      0.99      0.99     13588\n",
      "             DDoS_TCP       1.00      0.57      0.73      8297\n",
      "             DDoS_UDP       0.99      1.00      1.00     24313\n",
      "                 MITM       1.00      1.00      1.00        23\n",
      "             Password       0.74      0.10      0.17      9101\n",
      "        Port_Scanning       0.25      1.00      0.40      3705\n",
      "           Ransomware       0.37      0.40      0.38      1888\n",
      "        SQL_injection       0.27      0.71      0.39      9209\n",
      "            Uploading       0.98      0.06      0.11      7065\n",
      "Vulnerability_scanner       0.92      0.74      0.82      9494\n",
      "                  XSS       0.11      0.13      0.12      2906\n",
      "\n",
      "             accuracy                           0.64    103551\n",
      "            macro avg       0.67      0.56      0.53    103551\n",
      "         weighted avg       0.78      0.64      0.63    103551\n",
      "\n",
      "                       precision    recall  f1-score   support\n",
      "\n",
      "             Backdoor       0.42      0.31      0.36      4612\n",
      "            DDoS_HTTP       0.65      0.27      0.38      9350\n",
      "            DDoS_ICMP       1.00      0.99      0.99     13588\n",
      "             DDoS_TCP       1.00      0.57      0.73      8297\n",
      "             DDoS_UDP       0.99      1.00      1.00     24313\n",
      "                 MITM       1.00      1.00      1.00        23\n",
      "             Password       0.74      0.10      0.17      9101\n",
      "        Port_Scanning       0.25      1.00      0.40      3705\n",
      "           Ransomware       0.37      0.40      0.38      1888\n",
      "        SQL_injection       0.27      0.71      0.39      9209\n",
      "            Uploading       0.98      0.06      0.11      7065\n",
      "Vulnerability_scanner       0.92      0.74      0.82      9494\n",
      "                  XSS       0.11      0.13      0.12      2906\n",
      "\n",
      "             accuracy                           0.64    103551\n",
      "            macro avg       0.67      0.56      0.53    103551\n",
      "         weighted avg       0.78      0.64      0.63    103551\n",
      "\n",
      "Test evaluation complete!\n",
      "Model and evaluation results saved to models/ directory.\n",
      "Test evaluation complete!\n",
      "Model and evaluation results saved to models/ directory.\n"
     ]
    }
   ],
   "source": [
    "print(\"Evaluating model on test set...\")\n",
    "cm, report = evaluate(model, test_loader, device, label_encoder)\n",
    "print(\"Test evaluation complete!\")\n",
    "\n",
    "# Create models directory if it doesn't exist\n",
    "import os\n",
    "os.makedirs('models', exist_ok=True)\n",
    "\n",
    "# Save the model and results in the models directory\n",
    "torch.save(model.state_dict(), 'models/final_model.pt')\n",
    "joblib.dump(report, 'models/classification_report.pkl')\n",
    "print(\"Model and evaluation results saved to models/ directory.\")"
   ]
  },
  {
   "cell_type": "code",
   "execution_count": null,
   "metadata": {},
   "outputs": [],
   "source": []
  },
  {
   "cell_type": "markdown",
   "metadata": {},
   "source": [
    "# 🚀 Model Improvements\n",
    "\n",
    "Based on the current performance (65% accuracy), we can see several issues:\n",
    "- **Poor performance on minority classes**: XSS (11%), Uploading (11%), SQL_injection (22%)\n",
    "- **Class imbalance effects**: Some classes like DDoS_UDP perform very well (100%) while others struggle\n",
    "- **Need for better architecture and training strategies**\n",
    "\n",
    "Let's implement several improvements:"
   ]
  },
  {
   "cell_type": "code",
   "execution_count": 104,
   "metadata": {},
   "outputs": [
    {
     "name": "stdout",
     "output_type": "stream",
     "text": [
      "Advanced DNN architecture created with:\n",
      "- Residual connections\n",
      "- Multi-head attention\n",
      "- Enhanced depth (1024->512->512->256->128->64)\n",
      "- Mixed activation functions (SiLU + LeakyReLU)\n",
      "- Advanced dropout strategy\n"
     ]
    }
   ],
   "source": [
    "import torch.nn.functional as F\n",
    "from torch.nn import MultiheadAttention\n",
    "\n",
    "class AdvancedDNN(nn.Module):\n",
    "    def __init__(self, input_dim, num_classes, dropout_rate=0.4):\n",
    "        super(AdvancedDNN, self).__init__()\n",
    "        \n",
    "        # Enhanced architecture with residual connections\n",
    "        self.fc1 = nn.Linear(input_dim, 1024)\n",
    "        self.bn1 = nn.BatchNorm1d(1024)\n",
    "        \n",
    "        self.fc2 = nn.Linear(1024, 512)\n",
    "        self.bn2 = nn.BatchNorm1d(512)\n",
    "        \n",
    "        self.fc3 = nn.Linear(512, 512)  # Same dimension for residual\n",
    "        self.bn3 = nn.BatchNorm1d(512)\n",
    "        \n",
    "        self.fc4 = nn.Linear(512, 256)\n",
    "        self.bn4 = nn.BatchNorm1d(256)\n",
    "        \n",
    "        self.fc5 = nn.Linear(256, 128)\n",
    "        self.bn5 = nn.BatchNorm1d(128)\n",
    "        \n",
    "        self.fc6 = nn.Linear(128, 64)\n",
    "        self.bn6 = nn.BatchNorm1d(64)\n",
    "        \n",
    "        # Final classifier with multiple heads\n",
    "        self.classifier = nn.Linear(64, num_classes)\n",
    "        \n",
    "        # Attention mechanism\n",
    "        self.attention = MultiheadAttention(embed_dim=512, num_heads=8, dropout=0.1, batch_first=True)\n",
    "        \n",
    "        # Regularization\n",
    "        self.dropout = nn.Dropout(dropout_rate)\n",
    "        self.dropout_light = nn.Dropout(0.2)\n",
    "        \n",
    "        # Advanced activation\n",
    "        self.act = nn.LeakyReLU(0.1)\n",
    "        self.swish = nn.SiLU()  # Swish activation\n",
    "        \n",
    "    def forward(self, x):\n",
    "        # Initial layers with enhanced depth\n",
    "        x = self.swish(self.bn1(self.fc1(x)))\n",
    "        x = self.dropout_light(x)\n",
    "        \n",
    "        x = self.act(self.bn2(self.fc2(x)))\n",
    "        x = self.dropout_light(x)\n",
    "        \n",
    "        # Residual connection\n",
    "        residual = x\n",
    "        x = self.act(self.bn3(self.fc3(x)))\n",
    "        x = x + residual  # Skip connection\n",
    "        x = self.dropout(x)\n",
    "        \n",
    "        # Attention mechanism (reshape for attention)\n",
    "        x_att = x.unsqueeze(1)  # Add sequence dimension\n",
    "        attn_out, _ = self.attention(x_att, x_att, x_att)\n",
    "        x = attn_out.squeeze(1)  # Remove sequence dimension\n",
    "        \n",
    "        x = self.act(self.bn4(self.fc4(x)))\n",
    "        x = self.dropout(x)\n",
    "        \n",
    "        x = self.act(self.bn5(self.fc5(x)))\n",
    "        x = self.dropout(x)\n",
    "        \n",
    "        x = self.act(self.bn6(self.fc6(x)))\n",
    "        x = self.dropout_light(x)\n",
    "        \n",
    "        # Final classification\n",
    "        x = self.classifier(x)\n",
    "        return x\n",
    "\n",
    "print(\"Advanced DNN architecture created with:\")\n",
    "print(\"- Residual connections\")\n",
    "print(\"- Multi-head attention\")\n",
    "print(\"- Enhanced depth (1024->512->512->256->128->64)\")\n",
    "print(\"- Mixed activation functions (SiLU + LeakyReLU)\")\n",
    "print(\"- Advanced dropout strategy\")"
   ]
  },
  {
   "cell_type": "code",
   "execution_count": 105,
   "metadata": {},
   "outputs": [
    {
     "name": "stdout",
     "output_type": "stream",
     "text": [
      "Current class distribution:\n",
      "DDoS_UDP: 77803\n",
      "Password: 50000\n",
      "Port_Scanning: 50000\n",
      "XSS: 50000\n",
      "MITM: 50000\n",
      "DDoS_ICMP: 43481\n",
      "Vulnerability_scanner: 30382\n",
      "DDoS_HTTP: 29922\n",
      "SQL_injection: 29468\n",
      "DDoS_TCP: 26550\n",
      "Uploading: 22608\n",
      "Backdoor: 14757\n",
      "Ransomware: 6040\n",
      "\n",
      "Applying improved balancing strategy:\n",
      "Backdoor: 14757 -> 15000\n",
      "Ransomware: 6040 -> 15000\n",
      "\n",
      "Final balanced dataset shape: (194628, 14)\n",
      "Final class distribution:\n",
      "DDoS_UDP: 77705\n",
      "DDoS_ICMP: 43290\n",
      "Vulnerability_scanner: 24247\n",
      "DDoS_TCP: 16552\n",
      "DDoS_HTTP: 10650\n",
      "Ransomware: 5922\n",
      "Password: 4212\n",
      "Backdoor: 4158\n",
      "SQL_injection: 3784\n",
      "Uploading: 2735\n",
      "XSS: 1119\n",
      "Port_Scanning: 180\n",
      "MITM: 74\n"
     ]
    }
   ],
   "source": [
    "# 📊 Improved Data Balancing Strategy\n",
    "from imblearn.combine import SMOTEENN\n",
    "from imblearn.under_sampling import EditedNearestNeighbours\n",
    "\n",
    "# Analyze current class distribution\n",
    "print(\"Current class distribution:\")\n",
    "class_counts = pd.Series(y_train_resampled).value_counts()\n",
    "for idx, count in class_counts.items():\n",
    "    class_name = id_to_label[idx]\n",
    "    print(f\"{class_name}: {count}\")\n",
    "\n",
    "# Calculate target samples for better balance\n",
    "min_samples = 15000  # Minimum samples per class\n",
    "max_samples = 80000  # Maximum samples per class\n",
    "\n",
    "# Create balanced strategy\n",
    "balanced_strategy = {}\n",
    "for class_id, count in class_counts.items():\n",
    "    if count < min_samples:\n",
    "        balanced_strategy[class_id] = min_samples\n",
    "    elif count > max_samples:\n",
    "        balanced_strategy[class_id] = max_samples\n",
    "\n",
    "print(f\"\\nApplying improved balancing strategy:\")\n",
    "for class_id, target_count in balanced_strategy.items():\n",
    "    class_name = id_to_label[class_id]\n",
    "    original_count = class_counts[class_id]\n",
    "    print(f\"{class_name}: {original_count} -> {target_count}\")\n",
    "\n",
    "# Apply SMOTE with Edited Nearest Neighbours for cleaning\n",
    "smote_enn = SMOTEENN(\n",
    "    smote=SMOTE(sampling_strategy=balanced_strategy, random_state=42),\n",
    "    enn=EditedNearestNeighbours(sampling_strategy='auto'),\n",
    "    random_state=42\n",
    ")\n",
    "\n",
    "X_train_balanced, y_train_balanced = smote_enn.fit_resample(X_train, y_train_encoded)\n",
    "\n",
    "print(f\"\\nFinal balanced dataset shape: {X_train_balanced.shape}\")\n",
    "print(\"Final class distribution:\")\n",
    "final_counts = pd.Series(y_train_balanced).value_counts()\n",
    "for idx, count in final_counts.items():\n",
    "    class_name = id_to_label[idx]\n",
    "    print(f\"{class_name}: {count}\")"
   ]
  },
  {
   "cell_type": "code",
   "execution_count": 106,
   "metadata": {},
   "outputs": [
    {
     "name": "stdout",
     "output_type": "stream",
     "text": [
      "Advanced training setup complete:\n",
      "- Model: AdvancedDNN with 2031757 parameters\n",
      "- Dataset: 194628 training samples (balanced)\n",
      "- Loss: Label Smoothing Cross Entropy (smoothing=0.1)\n",
      "- Optimizer: AdamW with weight decay\n",
      "- Scheduler: Cosine Annealing with Warm Restarts\n"
     ]
    }
   ],
   "source": [
    "# 🎯 Advanced Training Configuration\n",
    "\n",
    "# Convert to tensors with proper balanced data\n",
    "X_train_balanced_tensor = torch.tensor(X_train_balanced, dtype=torch.float32)\n",
    "y_train_balanced_tensor = torch.tensor(y_train_balanced, dtype=torch.long)\n",
    "\n",
    "# Create new datasets\n",
    "train_dataset_improved = TensorDataset(X_train_balanced_tensor, y_train_balanced_tensor)\n",
    "val_dataset_improved = TensorDataset(X_val_tensor, y_val_tensor.long())\n",
    "test_dataset_improved = TensorDataset(X_test_tensor, y_test_tensor.long())\n",
    "\n",
    "# Improved data loaders with better batch size\n",
    "batch_size_improved = 256  # Reduced for better gradient quality\n",
    "train_loader_improved = DataLoader(train_dataset_improved, batch_size=batch_size_improved, shuffle=True, num_workers=0)\n",
    "val_loader_improved = DataLoader(val_dataset_improved, batch_size=batch_size_improved, num_workers=0)\n",
    "test_loader_improved = DataLoader(test_dataset_improved, batch_size=batch_size_improved, num_workers=0)\n",
    "\n",
    "# Initialize improved model\n",
    "model_improved = AdvancedDNN(input_dim, num_classes, dropout_rate=0.4).to(device)\n",
    "\n",
    "# Advanced loss function with label smoothing\n",
    "class LabelSmoothingCrossEntropy(nn.Module):\n",
    "    def __init__(self, smoothing=0.1):\n",
    "        super().__init__()\n",
    "        self.smoothing = smoothing\n",
    "    \n",
    "    def forward(self, pred, target):\n",
    "        confidence = 1. - self.smoothing\n",
    "        log_probs = F.log_softmax(pred, dim=-1)\n",
    "        true_dist = torch.zeros_like(log_probs)\n",
    "        true_dist.fill_(self.smoothing / (pred.size(-1) - 1))\n",
    "        true_dist.scatter_(1, target.unsqueeze(1), confidence)\n",
    "        return torch.mean(torch.sum(-true_dist * log_probs, dim=-1))\n",
    "\n",
    "# Advanced optimizer and scheduler\n",
    "criterion_improved = LabelSmoothingCrossEntropy(smoothing=0.1)\n",
    "optimizer_improved = optim.AdamW(model_improved.parameters(), lr=0.001, weight_decay=1e-4, betas=(0.9, 0.999))\n",
    "\n",
    "# Cosine annealing scheduler with warm restarts\n",
    "scheduler_improved = torch.optim.lr_scheduler.CosineAnnealingWarmRestarts(\n",
    "    optimizer_improved, T_0=10, T_mult=2, eta_min=1e-6\n",
    ")\n",
    "\n",
    "print(\"Advanced training setup complete:\")\n",
    "print(f\"- Model: AdvancedDNN with {sum(p.numel() for p in model_improved.parameters())} parameters\")\n",
    "print(f\"- Dataset: {X_train_balanced.shape[0]} training samples (balanced)\")\n",
    "print(f\"- Loss: Label Smoothing Cross Entropy (smoothing=0.1)\")\n",
    "print(f\"- Optimizer: AdamW with weight decay\")\n",
    "print(f\"- Scheduler: Cosine Annealing with Warm Restarts\")"
   ]
  },
  {
   "cell_type": "code",
   "execution_count": 107,
   "metadata": {},
   "outputs": [
    {
     "name": "stdout",
     "output_type": "stream",
     "text": [
      "Starting advanced training...\n"
     ]
    },
    {
     "name": "stderr",
     "output_type": "stream",
     "text": [
      "Epoch 1/30: 100%|██████████| 761/761 [00:11<00:00, 68.76batch/s, accuracy=0.895, loss=0.717]\n"
     ]
    },
    {
     "name": "stdout",
     "output_type": "stream",
     "text": [
      "Epoch [1/30]\n",
      "  Train Loss: 0.8839, Train Acc: 0.8945\n",
      "  Val Loss: 1.5753, Val Acc: 0.6263\n",
      "  LR: 0.001000\n",
      "  ✅ New best model saved! Val Acc: 0.6263\n",
      "--------------------------------------------------\n"
     ]
    },
    {
     "name": "stderr",
     "output_type": "stream",
     "text": [
      "Epoch 2/30: 100%|██████████| 761/761 [00:08<00:00, 90.12batch/s, accuracy=0.935, loss=0.762]\n"
     ]
    },
    {
     "name": "stdout",
     "output_type": "stream",
     "text": [
      "Epoch [2/30]\n",
      "  Train Loss: 0.7503, Train Acc: 0.9351\n",
      "  Val Loss: 1.6603, Val Acc: 0.6022\n",
      "  LR: 0.000976\n",
      "--------------------------------------------------\n"
     ]
    },
    {
     "name": "stderr",
     "output_type": "stream",
     "text": [
      "Epoch 3/30: 100%|██████████| 761/761 [00:08<00:00, 89.51batch/s, accuracy=0.945, loss=0.716]\n"
     ]
    },
    {
     "name": "stdout",
     "output_type": "stream",
     "text": [
      "Epoch [3/30]\n",
      "  Train Loss: 0.7219, Train Acc: 0.9451\n",
      "  Val Loss: 1.7631, Val Acc: 0.5816\n",
      "  LR: 0.000905\n",
      "--------------------------------------------------\n"
     ]
    },
    {
     "name": "stderr",
     "output_type": "stream",
     "text": [
      "Epoch 4/30: 100%|██████████| 761/761 [00:08<00:00, 93.91batch/s, accuracy=0.95, loss=0.755] \n"
     ]
    },
    {
     "name": "stdout",
     "output_type": "stream",
     "text": [
      "Epoch [4/30]\n",
      "  Train Loss: 0.7072, Train Acc: 0.9498\n",
      "  Val Loss: 1.5302, Val Acc: 0.6284\n",
      "  LR: 0.000794\n",
      "  ✅ New best model saved! Val Acc: 0.6284\n",
      "--------------------------------------------------\n"
     ]
    },
    {
     "name": "stderr",
     "output_type": "stream",
     "text": [
      "Epoch 5/30: 100%|██████████| 761/761 [00:08<00:00, 92.77batch/s, accuracy=0.953, loss=0.681]\n"
     ]
    },
    {
     "name": "stdout",
     "output_type": "stream",
     "text": [
      "Epoch [5/30]\n",
      "  Train Loss: 0.6979, Train Acc: 0.9532\n",
      "  Val Loss: 1.4589, Val Acc: 0.6613\n",
      "  LR: 0.000655\n",
      "  ✅ New best model saved! Val Acc: 0.6613\n",
      "--------------------------------------------------\n"
     ]
    },
    {
     "name": "stderr",
     "output_type": "stream",
     "text": [
      "Epoch 6/30: 100%|██████████| 761/761 [00:08<00:00, 93.73batch/s, accuracy=0.956, loss=0.696]\n"
     ]
    },
    {
     "name": "stdout",
     "output_type": "stream",
     "text": [
      "Epoch [6/30]\n",
      "  Train Loss: 0.6899, Train Acc: 0.9563\n",
      "  Val Loss: 1.8994, Val Acc: 0.5394\n",
      "  LR: 0.000501\n",
      "--------------------------------------------------\n"
     ]
    },
    {
     "name": "stderr",
     "output_type": "stream",
     "text": [
      "Epoch 7/30: 100%|██████████| 761/761 [00:08<00:00, 92.80batch/s, accuracy=0.96, loss=0.722] \n"
     ]
    },
    {
     "name": "stdout",
     "output_type": "stream",
     "text": [
      "Epoch [7/30]\n",
      "  Train Loss: 0.6820, Train Acc: 0.9604\n",
      "  Val Loss: 2.0687, Val Acc: 0.4304\n",
      "  LR: 0.000346\n",
      "--------------------------------------------------\n"
     ]
    },
    {
     "name": "stderr",
     "output_type": "stream",
     "text": [
      "Epoch 8/30: 100%|██████████| 761/761 [00:08<00:00, 91.13batch/s, accuracy=0.964, loss=0.703]\n"
     ]
    },
    {
     "name": "stdout",
     "output_type": "stream",
     "text": [
      "Epoch [8/30]\n",
      "  Train Loss: 0.6763, Train Acc: 0.9637\n",
      "  Val Loss: 1.8537, Val Acc: 0.5434\n",
      "  LR: 0.000207\n",
      "--------------------------------------------------\n"
     ]
    },
    {
     "name": "stderr",
     "output_type": "stream",
     "text": [
      "Epoch 9/30: 100%|██████████| 761/761 [00:08<00:00, 88.95batch/s, accuracy=0.966, loss=0.785]\n"
     ]
    },
    {
     "name": "stdout",
     "output_type": "stream",
     "text": [
      "Epoch [9/30]\n",
      "  Train Loss: 0.6722, Train Acc: 0.9661\n",
      "  Val Loss: 2.2337, Val Acc: 0.3150\n",
      "  LR: 0.000096\n",
      "--------------------------------------------------\n"
     ]
    },
    {
     "name": "stderr",
     "output_type": "stream",
     "text": [
      "Epoch 10/30: 100%|██████████| 761/761 [00:08<00:00, 92.04batch/s, accuracy=0.967, loss=0.653]\n"
     ]
    },
    {
     "name": "stdout",
     "output_type": "stream",
     "text": [
      "Epoch [10/30]\n",
      "  Train Loss: 0.6698, Train Acc: 0.9673\n",
      "  Val Loss: 1.3949, Val Acc: 0.6926\n",
      "  LR: 0.000025\n",
      "  ✅ New best model saved! Val Acc: 0.6926\n",
      "--------------------------------------------------\n"
     ]
    },
    {
     "name": "stderr",
     "output_type": "stream",
     "text": [
      "Epoch 11/30: 100%|██████████| 761/761 [00:08<00:00, 92.31batch/s, accuracy=0.96, loss=0.683] \n"
     ]
    },
    {
     "name": "stdout",
     "output_type": "stream",
     "text": [
      "Epoch [11/30]\n",
      "  Train Loss: 0.6868, Train Acc: 0.9596\n",
      "  Val Loss: 1.9774, Val Acc: 0.4727\n",
      "  LR: 0.001000\n",
      "--------------------------------------------------\n"
     ]
    },
    {
     "name": "stderr",
     "output_type": "stream",
     "text": [
      "Epoch 12/30: 100%|██████████| 761/761 [00:08<00:00, 93.59batch/s, accuracy=0.963, loss=0.668]\n"
     ]
    },
    {
     "name": "stdout",
     "output_type": "stream",
     "text": [
      "Epoch [12/30]\n",
      "  Train Loss: 0.6781, Train Acc: 0.9633\n",
      "  Val Loss: 1.8414, Val Acc: 0.5294\n",
      "  LR: 0.000994\n",
      "--------------------------------------------------\n"
     ]
    },
    {
     "name": "stderr",
     "output_type": "stream",
     "text": [
      "Epoch 13/30: 100%|██████████| 761/761 [00:08<00:00, 92.52batch/s, accuracy=0.966, loss=0.618]\n"
     ]
    },
    {
     "name": "stdout",
     "output_type": "stream",
     "text": [
      "Epoch [13/30]\n",
      "  Train Loss: 0.6728, Train Acc: 0.9655\n",
      "  Val Loss: 1.9343, Val Acc: 0.4799\n",
      "  LR: 0.000976\n",
      "--------------------------------------------------\n"
     ]
    },
    {
     "name": "stderr",
     "output_type": "stream",
     "text": [
      "Epoch 14/30: 100%|██████████| 761/761 [00:08<00:00, 92.78batch/s, accuracy=0.968, loss=0.653]\n"
     ]
    },
    {
     "name": "stdout",
     "output_type": "stream",
     "text": [
      "Epoch [14/30]\n",
      "  Train Loss: 0.6670, Train Acc: 0.9681\n",
      "  Val Loss: 1.4611, Val Acc: 0.6643\n",
      "  LR: 0.000946\n",
      "--------------------------------------------------\n"
     ]
    },
    {
     "name": "stderr",
     "output_type": "stream",
     "text": [
      "Epoch 15/30: 100%|██████████| 761/761 [00:08<00:00, 93.88batch/s, accuracy=0.97, loss=0.766] \n"
     ]
    },
    {
     "name": "stdout",
     "output_type": "stream",
     "text": [
      "Epoch [15/30]\n",
      "  Train Loss: 0.6628, Train Acc: 0.9697\n",
      "  Val Loss: 2.0159, Val Acc: 0.4644\n",
      "  LR: 0.000905\n",
      "--------------------------------------------------\n"
     ]
    },
    {
     "name": "stderr",
     "output_type": "stream",
     "text": [
      "Epoch 16/30: 100%|██████████| 761/761 [00:08<00:00, 90.63batch/s, accuracy=0.971, loss=0.665]\n"
     ]
    },
    {
     "name": "stdout",
     "output_type": "stream",
     "text": [
      "Epoch [16/30]\n",
      "  Train Loss: 0.6591, Train Acc: 0.9715\n",
      "  Val Loss: 2.1243, Val Acc: 0.4174\n",
      "  LR: 0.000854\n",
      "--------------------------------------------------\n"
     ]
    },
    {
     "name": "stderr",
     "output_type": "stream",
     "text": [
      "Epoch 17/30: 100%|██████████| 761/761 [00:08<00:00, 93.39batch/s, accuracy=0.973, loss=0.652]\n"
     ]
    },
    {
     "name": "stdout",
     "output_type": "stream",
     "text": [
      "Epoch [17/30]\n",
      "  Train Loss: 0.6544, Train Acc: 0.9731\n",
      "  Val Loss: 2.1993, Val Acc: 0.3913\n",
      "  LR: 0.000794\n",
      "--------------------------------------------------\n"
     ]
    },
    {
     "name": "stderr",
     "output_type": "stream",
     "text": [
      "Epoch 18/30: 100%|██████████| 761/761 [00:08<00:00, 92.78batch/s, accuracy=0.974, loss=0.706]\n"
     ]
    },
    {
     "name": "stdout",
     "output_type": "stream",
     "text": [
      "Epoch [18/30]\n",
      "  Train Loss: 0.6521, Train Acc: 0.9743\n",
      "  Val Loss: 1.3860, Val Acc: 0.6931\n",
      "  LR: 0.000727\n",
      "  ✅ New best model saved! Val Acc: 0.6931\n",
      "--------------------------------------------------\n"
     ]
    },
    {
     "name": "stderr",
     "output_type": "stream",
     "text": [
      "Epoch 19/30: 100%|██████████| 761/761 [00:08<00:00, 93.80batch/s, accuracy=0.976, loss=0.644]\n"
     ]
    },
    {
     "name": "stdout",
     "output_type": "stream",
     "text": [
      "Epoch [19/30]\n",
      "  Train Loss: 0.6495, Train Acc: 0.9755\n",
      "  Val Loss: 2.1830, Val Acc: 0.4028\n",
      "  LR: 0.000655\n",
      "--------------------------------------------------\n"
     ]
    },
    {
     "name": "stderr",
     "output_type": "stream",
     "text": [
      "Epoch 20/30: 100%|██████████| 761/761 [00:08<00:00, 91.77batch/s, accuracy=0.975, loss=0.721]\n"
     ]
    },
    {
     "name": "stdout",
     "output_type": "stream",
     "text": [
      "Epoch [20/30]\n",
      "  Train Loss: 0.6483, Train Acc: 0.9755\n",
      "  Val Loss: 1.3792, Val Acc: 0.6912\n",
      "  LR: 0.000579\n",
      "--------------------------------------------------\n"
     ]
    },
    {
     "name": "stderr",
     "output_type": "stream",
     "text": [
      "Epoch 21/30: 100%|██████████| 761/761 [00:08<00:00, 93.61batch/s, accuracy=0.977, loss=0.646]\n"
     ]
    },
    {
     "name": "stdout",
     "output_type": "stream",
     "text": [
      "Epoch [21/30]\n",
      "  Train Loss: 0.6455, Train Acc: 0.9766\n",
      "  Val Loss: 1.3701, Val Acc: 0.6959\n",
      "  LR: 0.000501\n",
      "  ✅ New best model saved! Val Acc: 0.6959\n",
      "--------------------------------------------------\n"
     ]
    },
    {
     "name": "stderr",
     "output_type": "stream",
     "text": [
      "Epoch 22/30: 100%|██████████| 761/761 [00:08<00:00, 92.84batch/s, accuracy=0.978, loss=0.599]\n"
     ]
    },
    {
     "name": "stdout",
     "output_type": "stream",
     "text": [
      "Epoch [22/30]\n",
      "  Train Loss: 0.6423, Train Acc: 0.9779\n",
      "  Val Loss: 1.4028, Val Acc: 0.6743\n",
      "  LR: 0.000422\n",
      "--------------------------------------------------\n"
     ]
    },
    {
     "name": "stderr",
     "output_type": "stream",
     "text": [
      "Epoch 23/30: 100%|██████████| 761/761 [00:08<00:00, 93.90batch/s, accuracy=0.978, loss=0.708]\n"
     ]
    },
    {
     "name": "stdout",
     "output_type": "stream",
     "text": [
      "Epoch [23/30]\n",
      "  Train Loss: 0.6417, Train Acc: 0.9778\n",
      "  Val Loss: 1.9290, Val Acc: 0.4801\n",
      "  LR: 0.000346\n",
      "--------------------------------------------------\n"
     ]
    },
    {
     "name": "stderr",
     "output_type": "stream",
     "text": [
      "Epoch 24/30: 100%|██████████| 761/761 [00:08<00:00, 92.62batch/s, accuracy=0.979, loss=0.654]\n"
     ]
    },
    {
     "name": "stdout",
     "output_type": "stream",
     "text": [
      "Epoch [24/30]\n",
      "  Train Loss: 0.6399, Train Acc: 0.9788\n",
      "  Val Loss: 1.7438, Val Acc: 0.5655\n",
      "  LR: 0.000274\n",
      "--------------------------------------------------\n"
     ]
    },
    {
     "name": "stderr",
     "output_type": "stream",
     "text": [
      "Epoch 25/30: 100%|██████████| 761/761 [00:08<00:00, 91.91batch/s, accuracy=0.979, loss=0.782]\n"
     ]
    },
    {
     "name": "stdout",
     "output_type": "stream",
     "text": [
      "Epoch [25/30]\n",
      "  Train Loss: 0.6380, Train Acc: 0.9795\n",
      "  Val Loss: 2.3539, Val Acc: 0.2923\n",
      "  LR: 0.000207\n",
      "--------------------------------------------------\n"
     ]
    },
    {
     "name": "stderr",
     "output_type": "stream",
     "text": [
      "Epoch 26/30: 100%|██████████| 761/761 [00:08<00:00, 93.41batch/s, accuracy=0.98, loss=0.625] \n"
     ]
    },
    {
     "name": "stdout",
     "output_type": "stream",
     "text": [
      "Epoch [26/30]\n",
      "  Train Loss: 0.6366, Train Acc: 0.9801\n",
      "  Val Loss: 1.3702, Val Acc: 0.6975\n",
      "  LR: 0.000147\n",
      "  ✅ New best model saved! Val Acc: 0.6975\n",
      "--------------------------------------------------\n"
     ]
    },
    {
     "name": "stderr",
     "output_type": "stream",
     "text": [
      "Epoch 27/30: 100%|██████████| 761/761 [00:08<00:00, 93.67batch/s, accuracy=0.98, loss=0.648] \n"
     ]
    },
    {
     "name": "stdout",
     "output_type": "stream",
     "text": [
      "Epoch [27/30]\n",
      "  Train Loss: 0.6359, Train Acc: 0.9804\n",
      "  Val Loss: 1.3620, Val Acc: 0.6982\n",
      "  LR: 0.000096\n",
      "  ✅ New best model saved! Val Acc: 0.6982\n",
      "--------------------------------------------------\n"
     ]
    },
    {
     "name": "stderr",
     "output_type": "stream",
     "text": [
      "Epoch 28/30: 100%|██████████| 761/761 [00:08<00:00, 93.24batch/s, accuracy=0.981, loss=0.62] \n"
     ]
    },
    {
     "name": "stdout",
     "output_type": "stream",
     "text": [
      "Epoch [28/30]\n",
      "  Train Loss: 0.6347, Train Acc: 0.9806\n",
      "  Val Loss: 1.5959, Val Acc: 0.6082\n",
      "  LR: 0.000055\n",
      "--------------------------------------------------\n"
     ]
    },
    {
     "name": "stderr",
     "output_type": "stream",
     "text": [
      "Epoch 29/30: 100%|██████████| 761/761 [00:08<00:00, 92.47batch/s, accuracy=0.98, loss=0.647] \n"
     ]
    },
    {
     "name": "stdout",
     "output_type": "stream",
     "text": [
      "Epoch [29/30]\n",
      "  Train Loss: 0.6350, Train Acc: 0.9804\n",
      "  Val Loss: 2.2818, Val Acc: 0.3816\n",
      "  LR: 0.000025\n",
      "--------------------------------------------------\n"
     ]
    },
    {
     "name": "stderr",
     "output_type": "stream",
     "text": [
      "Epoch 30/30: 100%|██████████| 761/761 [00:08<00:00, 93.49batch/s, accuracy=0.981, loss=0.638]\n"
     ]
    },
    {
     "name": "stdout",
     "output_type": "stream",
     "text": [
      "Epoch [30/30]\n",
      "  Train Loss: 0.6346, Train Acc: 0.9807\n",
      "  Val Loss: 2.0207, Val Acc: 0.4697\n",
      "  LR: 0.000007\n",
      "--------------------------------------------------\n",
      "\n",
      "🎉 Training completed!\n",
      "Best validation accuracy: 0.6982\n",
      "Total epochs trained: 30\n"
     ]
    }
   ],
   "source": [
    "# 🚀 Advanced Training Loop with Multiple Improvements\n",
    "\n",
    "num_epochs_improved = 30\n",
    "best_val_acc_improved = 0\n",
    "patience_improved = 8\n",
    "patience_counter_improved = 0\n",
    "\n",
    "# Advanced training techniques\n",
    "accumulation_steps_improved = 2\n",
    "gradient_clip_norm = 1.0\n",
    "\n",
    "# Metrics tracking\n",
    "train_losses = []\n",
    "val_losses = []\n",
    "train_accuracies = []\n",
    "val_accuracies = []\n",
    "\n",
    "print(\"Starting advanced training...\")\n",
    "\n",
    "for epoch in range(num_epochs_improved):\n",
    "    # Training phase\n",
    "    model_improved.train()\n",
    "    running_loss = 0.0\n",
    "    correct = 0\n",
    "    total = 0\n",
    "    \n",
    "    optimizer_improved.zero_grad()\n",
    "    \n",
    "    with tqdm(train_loader_improved, desc=f\"Epoch {epoch+1}/{num_epochs_improved}\", unit=\"batch\") as tepoch:\n",
    "        for i, (X_batch, y_batch) in enumerate(tepoch):\n",
    "            X_batch, y_batch = X_batch.to(device), y_batch.to(device)\n",
    "            \n",
    "            outputs = model_improved(X_batch)\n",
    "            loss = criterion_improved(outputs, y_batch)\n",
    "            \n",
    "            # Scale loss for gradient accumulation\n",
    "            loss = loss / accumulation_steps_improved\n",
    "            loss.backward()\n",
    "            \n",
    "            # Gradient accumulation and clipping\n",
    "            if (i + 1) % accumulation_steps_improved == 0:\n",
    "                torch.nn.utils.clip_grad_norm_(model_improved.parameters(), max_norm=gradient_clip_norm)\n",
    "                optimizer_improved.step()\n",
    "                optimizer_improved.zero_grad()\n",
    "            \n",
    "            running_loss += loss.item() * accumulation_steps_improved\n",
    "            _, predicted = torch.max(outputs, 1)\n",
    "            total += y_batch.size(0)\n",
    "            correct += (predicted == y_batch).sum().item()\n",
    "            \n",
    "            # Update progress bar\n",
    "            current_acc = correct / total\n",
    "            tepoch.set_postfix(loss=loss.item() * accumulation_steps_improved, accuracy=current_acc)\n",
    "    \n",
    "    # Final gradient step if needed\n",
    "    if len(train_loader_improved) % accumulation_steps_improved != 0:\n",
    "        torch.nn.utils.clip_grad_norm_(model_improved.parameters(), max_norm=gradient_clip_norm)\n",
    "        optimizer_improved.step()\n",
    "        optimizer_improved.zero_grad()\n",
    "    \n",
    "    train_acc = correct / total\n",
    "    avg_train_loss = running_loss / len(train_loader_improved)\n",
    "    \n",
    "    # Validation phase\n",
    "    model_improved.eval()\n",
    "    val_correct = 0\n",
    "    val_total = 0\n",
    "    val_loss = 0\n",
    "    \n",
    "    with torch.no_grad():\n",
    "        for X_val, y_val in val_loader_improved:\n",
    "            X_val, y_val = X_val.to(device), y_val.to(device)\n",
    "            outputs = model_improved(X_val)\n",
    "            loss = criterion_improved(outputs, y_val)\n",
    "            val_loss += loss.item()\n",
    "            \n",
    "            _, predicted = torch.max(outputs, 1)\n",
    "            val_total += y_val.size(0)\n",
    "            val_correct += (predicted == y_val).sum().item()\n",
    "    \n",
    "    val_acc = val_correct / val_total\n",
    "    avg_val_loss = val_loss / len(val_loader_improved)\n",
    "    \n",
    "    # Store metrics\n",
    "    train_losses.append(avg_train_loss)\n",
    "    val_losses.append(avg_val_loss)\n",
    "    train_accuracies.append(train_acc)\n",
    "    val_accuracies.append(val_acc)\n",
    "    \n",
    "    print(f\"Epoch [{epoch+1}/{num_epochs_improved}]\")\n",
    "    print(f\"  Train Loss: {avg_train_loss:.4f}, Train Acc: {train_acc:.4f}\")\n",
    "    print(f\"  Val Loss: {avg_val_loss:.4f}, Val Acc: {val_acc:.4f}\")\n",
    "    print(f\"  LR: {optimizer_improved.param_groups[0]['lr']:.6f}\")\n",
    "    \n",
    "    # Learning rate scheduler\n",
    "    scheduler_improved.step()\n",
    "    \n",
    "    # Early stopping with model saving\n",
    "    if val_acc > best_val_acc_improved:\n",
    "        best_val_acc_improved = val_acc\n",
    "        torch.save(model_improved.state_dict(), 'models/best_model_improved.pt')\n",
    "        print(f\"  ✅ New best model saved! Val Acc: {best_val_acc_improved:.4f}\")\n",
    "        patience_counter_improved = 0\n",
    "    else:\n",
    "        patience_counter_improved += 1\n",
    "        if patience_counter_improved >= patience_improved:\n",
    "            print(\"  🛑 Early stopping triggered!\")\n",
    "            break\n",
    "    \n",
    "    print(\"-\" * 50)\n",
    "\n",
    "# Load best model for evaluation\n",
    "model_improved.load_state_dict(torch.load('models/best_model_improved.pt'))\n",
    "model_improved.eval()\n",
    "\n",
    "print(f\"\\n🎉 Training completed!\")\n",
    "print(f\"Best validation accuracy: {best_val_acc_improved:.4f}\")\n",
    "print(f\"Total epochs trained: {epoch + 1}\")"
   ]
  },
  {
   "cell_type": "code",
   "execution_count": 108,
   "metadata": {},
   "outputs": [
    {
     "name": "stdout",
     "output_type": "stream",
     "text": [
      "Evaluating improved model on test set...\n"
     ]
    },
    {
     "name": "stderr",
     "output_type": "stream",
     "text": [
      "Evaluating Improved Model: 100%|██████████| 405/405 [00:01<00:00, 350.16it/s]\n"
     ]
    },
    {
     "name": "stdout",
     "output_type": "stream",
     "text": [
      "\n",
      "🎯 IMPROVED MODEL - Classification Report:\n",
      "================================================================================\n"
     ]
    },
    {
     "name": "stderr",
     "output_type": "stream",
     "text": [
      "/Users/safwanahmed/Desktop/capstone/.venv/lib/python3.9/site-packages/sklearn/metrics/_classification.py:1334: UndefinedMetricWarning: Precision and F-score are ill-defined and being set to 0.0 in labels with no predicted samples. Use `zero_division` parameter to control this behavior.\n",
      "  _warn_prf(average, modifier, msg_start, len(result))\n",
      "/Users/safwanahmed/Desktop/capstone/.venv/lib/python3.9/site-packages/sklearn/metrics/_classification.py:1334: UndefinedMetricWarning: Precision and F-score are ill-defined and being set to 0.0 in labels with no predicted samples. Use `zero_division` parameter to control this behavior.\n",
      "  _warn_prf(average, modifier, msg_start, len(result))\n",
      "/Users/safwanahmed/Desktop/capstone/.venv/lib/python3.9/site-packages/sklearn/metrics/_classification.py:1334: UndefinedMetricWarning: Precision and F-score are ill-defined and being set to 0.0 in labels with no predicted samples. Use `zero_division` parameter to control this behavior.\n",
      "  _warn_prf(average, modifier, msg_start, len(result))\n",
      "/Users/safwanahmed/Desktop/capstone/.venv/lib/python3.9/site-packages/sklearn/metrics/_classification.py:1334: UndefinedMetricWarning: Precision and F-score are ill-defined and being set to 0.0 in labels with no predicted samples. Use `zero_division` parameter to control this behavior.\n",
      "  _warn_prf(average, modifier, msg_start, len(result))\n",
      "/Users/safwanahmed/Desktop/capstone/.venv/lib/python3.9/site-packages/sklearn/metrics/_classification.py:1334: UndefinedMetricWarning: Precision and F-score are ill-defined and being set to 0.0 in labels with no predicted samples. Use `zero_division` parameter to control this behavior.\n",
      "  _warn_prf(average, modifier, msg_start, len(result))\n",
      "/Users/safwanahmed/Desktop/capstone/.venv/lib/python3.9/site-packages/sklearn/metrics/_classification.py:1334: UndefinedMetricWarning: Precision and F-score are ill-defined and being set to 0.0 in labels with no predicted samples. Use `zero_division` parameter to control this behavior.\n",
      "  _warn_prf(average, modifier, msg_start, len(result))\n"
     ]
    },
    {
     "name": "stdout",
     "output_type": "stream",
     "text": [
      "                       precision    recall  f1-score   support\n",
      "\n",
      "             Backdoor       0.59      0.39      0.47      4612\n",
      "            DDoS_HTTP       0.49      0.62      0.55      9350\n",
      "            DDoS_ICMP       1.00      1.00      1.00     13588\n",
      "             DDoS_TCP       0.72      1.00      0.84      8297\n",
      "             DDoS_UDP       1.00      1.00      1.00     24313\n",
      "                 MITM       1.00      0.74      0.85        23\n",
      "             Password       0.81      0.14      0.24      9101\n",
      "        Port_Scanning       0.00      0.00      0.00      3705\n",
      "           Ransomware       0.88      0.39      0.54      1888\n",
      "        SQL_injection       0.28      0.83      0.42      9209\n",
      "            Uploading       0.76      0.13      0.23      7065\n",
      "Vulnerability_scanner       0.96      0.82      0.89      9494\n",
      "                  XSS       1.00      0.05      0.10      2906\n",
      "\n",
      "             accuracy                           0.70    103551\n",
      "            macro avg       0.73      0.55      0.55    103551\n",
      "         weighted avg       0.77      0.70      0.67    103551\n",
      "\n",
      "\n",
      "📈 PERFORMANCE COMPARISON:\n",
      "================================================================================\n",
      "Metric                    Original Model  Improved Model  Improvement    \n",
      "--------------------------------------------------------------------------------\n",
      "Overall Accuracy          0.638           0.699           +0.061\n",
      "Macro F1-Score            0.526           0.549           +0.022\n",
      "Weighted F1-Score         0.630           0.672           +0.042\n",
      "\n",
      "🎯 PER-CLASS IMPROVEMENTS:\n",
      "--------------------------------------------------------------------------------\n",
      "Class                Original F1  Improved F1  Improvement \n",
      "--------------------------------------------------------------------------------\n",
      "Backdoor             0.358        0.473        +0.115\n",
      "DDoS_HTTP            0.378        0.551        +0.173\n",
      "DDoS_ICMP            0.994        0.998        +0.004\n",
      "DDoS_TCP             0.729        0.839        +0.110\n",
      "DDoS_UDP             0.997        0.999        +0.002\n",
      "MITM                 1.000        0.850        -0.150\n",
      "Password             0.169        0.244        +0.075\n",
      "Port_Scanning        0.398        0.000        -0.398\n",
      "Ransomware           0.384        0.544        +0.160\n",
      "SQL_injection        0.389        0.419        +0.030\n",
      "Uploading            0.108        0.226        +0.119\n",
      "Vulnerability_scanner 0.822        0.887        +0.065\n",
      "XSS                  0.119        0.101        -0.018\n",
      "\n",
      "✅ Improved model and results saved to models/ directory\n",
      "📈 Overall accuracy improvement: +0.061 (+9.6%)\n"
     ]
    }
   ],
   "source": [
    "# 📊 Comprehensive Model Evaluation and Comparison\n",
    "\n",
    "def evaluate_improved_model(model, test_loader, device, label_encoder):\n",
    "    model.eval()\n",
    "    all_preds = []\n",
    "    all_targets = []\n",
    "    all_probs = []\n",
    "\n",
    "    with torch.no_grad():\n",
    "        for X_test, y_test in tqdm(test_loader, desc=\"Evaluating Improved Model\"):\n",
    "            X_test, y_test = X_test.to(device), y_test.to(device)\n",
    "            outputs = model(X_test)\n",
    "            probs = F.softmax(outputs, dim=1)\n",
    "            _, preds = torch.max(outputs, 1)\n",
    "            \n",
    "            all_preds.extend(preds.cpu().numpy())\n",
    "            all_targets.extend(y_test.cpu().numpy())\n",
    "            all_probs.extend(probs.cpu().numpy())\n",
    "\n",
    "    class_names = label_encoder.classes_\n",
    "    pred_classes = [class_names[int(i)] for i in all_preds]\n",
    "    target_classes = [class_names[int(i)] for i in all_targets]\n",
    "\n",
    "    print(\"\\n🎯 IMPROVED MODEL - Classification Report:\")\n",
    "    print(\"=\" * 80)\n",
    "    report_improved = classification_report(target_classes, pred_classes, output_dict=True)\n",
    "    print(classification_report(target_classes, pred_classes))\n",
    "    \n",
    "    cm_improved = confusion_matrix(target_classes, pred_classes)\n",
    "    return cm_improved, report_improved, all_probs\n",
    "\n",
    "# Evaluate improved model\n",
    "print(\"Evaluating improved model on test set...\")\n",
    "cm_improved, report_improved, probs_improved = evaluate_improved_model(\n",
    "    model_improved, test_loader_improved, device, label_encoder\n",
    ")\n",
    "\n",
    "# Compare with original model performance\n",
    "print(\"\\n📈 PERFORMANCE COMPARISON:\")\n",
    "print(\"=\" * 80)\n",
    "print(f\"{'Metric':<25} {'Original Model':<15} {'Improved Model':<15} {'Improvement':<15}\")\n",
    "print(\"-\" * 80)\n",
    "\n",
    "original_acc = report['accuracy']\n",
    "improved_acc = report_improved['accuracy']\n",
    "print(f\"{'Overall Accuracy':<25} {original_acc:<15.3f} {improved_acc:<15.3f} {improved_acc-original_acc:+.3f}\")\n",
    "\n",
    "original_macro_f1 = report['macro avg']['f1-score']\n",
    "improved_macro_f1 = report_improved['macro avg']['f1-score']\n",
    "print(f\"{'Macro F1-Score':<25} {original_macro_f1:<15.3f} {improved_macro_f1:<15.3f} {improved_macro_f1-original_macro_f1:+.3f}\")\n",
    "\n",
    "original_weighted_f1 = report['weighted avg']['f1-score']\n",
    "improved_weighted_f1 = report_improved['weighted avg']['f1-score']\n",
    "print(f\"{'Weighted F1-Score':<25} {original_weighted_f1:<15.3f} {improved_weighted_f1:<15.3f} {improved_weighted_f1-original_weighted_f1:+.3f}\")\n",
    "\n",
    "print(\"\\n🎯 PER-CLASS IMPROVEMENTS:\")\n",
    "print(\"-\" * 80)\n",
    "print(f\"{'Class':<20} {'Original F1':<12} {'Improved F1':<12} {'Improvement':<12}\")\n",
    "print(\"-\" * 80)\n",
    "\n",
    "for class_name in label_encoder.classes_:\n",
    "    if class_name in report and class_name in report_improved:\n",
    "        orig_f1 = report[class_name]['f1-score']\n",
    "        impr_f1 = report_improved[class_name]['f1-score']\n",
    "        improvement = impr_f1 - orig_f1\n",
    "        print(f\"{class_name:<20} {orig_f1:<12.3f} {impr_f1:<12.3f} {improvement:+.3f}\")\n",
    "\n",
    "# Save improved model results\n",
    "import os\n",
    "os.makedirs('models', exist_ok=True)\n",
    "torch.save(model_improved.state_dict(), 'models/final_model_improved.pt')\n",
    "joblib.dump(report_improved, 'models/classification_report_improved.pkl')\n",
    "\n",
    "print(f\"\\n✅ Improved model and results saved to models/ directory\")\n",
    "print(f\"📈 Overall accuracy improvement: {improved_acc-original_acc:+.3f} ({((improved_acc/original_acc)-1)*100:+.1f}%)\")"
   ]
  },
  {
   "cell_type": "code",
   "execution_count": 109,
   "metadata": {},
   "outputs": [
    {
     "data": {
      "image/png": "[encoded data removed]",
      "text/plain": [
       "<Figure size 1500x1000 with 4 Axes>"
      ]
     },
     "metadata": {},
     "output_type": "display_data"
    },
    {
     "name": "stdout",
     "output_type": "stream",
     "text": [
      "\n",
      "📊 TRAINING SUMMARY STATISTICS:\n",
      "==================================================\n",
      "Total training epochs: 30\n",
      "Final training accuracy: 0.9807\n",
      "Final validation accuracy: 0.4697\n",
      "Best validation accuracy: 0.6982\n",
      "Final training loss: 0.6346\n",
      "Final validation loss: 2.0207\n",
      "Minimum validation loss: 1.3620\n",
      "\n",
      "🚀 KEY IMPROVEMENTS ACHIEVED:\n",
      "==================================================\n",
      "✅ Accuracy improved by: +6.11 percentage points\n",
      "✅ Macro F1-score improved by: +2.22 percentage points\n",
      "✅ Weighted F1-score improved by: +4.21 percentage points\n",
      "\n",
      "🎯 TOP 3 MOST IMPROVED CLASSES:\n",
      "  DDoS_HTTP: +0.173\n",
      "  Ransomware: +0.160\n",
      "  Uploading: +0.119\n",
      "\n",
      "⚠️  CLASSES NEEDING MORE ATTENTION:\n",
      "  Port_Scanning: -0.398\n",
      "  MITM: -0.150\n",
      "  XSS: -0.018\n"
     ]
    }
   ],
   "source": [
    "# 📈 Training Visualization and Analysis\n",
    "\n",
    "import matplotlib.pyplot as plt\n",
    "import seaborn as sns\n",
    "\n",
    "# Set up the plotting style\n",
    "plt.style.use('default')\n",
    "sns.set_palette(\"husl\")\n",
    "\n",
    "# Create subplots for training metrics\n",
    "fig, ((ax1, ax2), (ax3, ax4)) = plt.subplots(2, 2, figsize=(15, 10))\n",
    "\n",
    "# Plot training and validation loss\n",
    "epochs_range = range(1, len(train_losses) + 1)\n",
    "ax1.plot(epochs_range, train_losses, 'b-', label='Training Loss', linewidth=2)\n",
    "ax1.plot(epochs_range, val_losses, 'r-', label='Validation Loss', linewidth=2)\n",
    "ax1.set_title('Training and Validation Loss', fontsize=14, fontweight='bold')\n",
    "ax1.set_xlabel('Epoch')\n",
    "ax1.set_ylabel('Loss')\n",
    "ax1.legend()\n",
    "ax1.grid(True, alpha=0.3)\n",
    "\n",
    "# Plot training and validation accuracy\n",
    "ax2.plot(epochs_range, train_accuracies, 'b-', label='Training Accuracy', linewidth=2)\n",
    "ax2.plot(epochs_range, val_accuracies, 'r-', label='Validation Accuracy', linewidth=2)\n",
    "ax2.set_title('Training and Validation Accuracy', fontsize=14, fontweight='bold')\n",
    "ax2.set_xlabel('Epoch')\n",
    "ax2.set_ylabel('Accuracy')\n",
    "ax2.legend()\n",
    "ax2.grid(True, alpha=0.3)\n",
    "\n",
    "# Class distribution comparison\n",
    "class_names = [name for name in label_encoder.classes_]\n",
    "original_f1_scores = [report[name]['f1-score'] if name in report else 0 for name in class_names]\n",
    "improved_f1_scores = [report_improved[name]['f1-score'] if name in report_improved else 0 for name in class_names]\n",
    "\n",
    "x_pos = range(len(class_names))\n",
    "width = 0.35\n",
    "\n",
    "ax3.bar([p - width/2 for p in x_pos], original_f1_scores, width, label='Original Model', alpha=0.8)\n",
    "ax3.bar([p + width/2 for p in x_pos], improved_f1_scores, width, label='Improved Model', alpha=0.8)\n",
    "ax3.set_title('F1-Score Comparison by Class', fontsize=14, fontweight='bold')\n",
    "ax3.set_xlabel('Attack Classes')\n",
    "ax3.set_ylabel('F1-Score')\n",
    "ax3.set_xticks(x_pos)\n",
    "ax3.set_xticklabels(class_names, rotation=45, ha='right')\n",
    "ax3.legend()\n",
    "ax3.grid(True, alpha=0.3, axis='y')\n",
    "\n",
    "# Confusion matrix heatmap for improved model\n",
    "class_labels = [name for name in label_encoder.classes_]\n",
    "ax4.imshow(cm_improved, interpolation='nearest', cmap=plt.cm.Blues)\n",
    "ax4.set_title('Improved Model - Confusion Matrix', fontsize=14, fontweight='bold')\n",
    "tick_marks = range(len(class_labels))\n",
    "ax4.set_xticks(tick_marks)\n",
    "ax4.set_yticks(tick_marks)\n",
    "ax4.set_xticklabels(class_labels, rotation=45, ha='right')\n",
    "ax4.set_yticklabels(class_labels)\n",
    "ax4.set_ylabel('True Label')\n",
    "ax4.set_xlabel('Predicted Label')\n",
    "\n",
    "plt.tight_layout()\n",
    "plt.show()\n",
    "\n",
    "# Print summary statistics\n",
    "print(\"\\n📊 TRAINING SUMMARY STATISTICS:\")\n",
    "print(\"=\" * 50)\n",
    "print(f\"Total training epochs: {len(train_losses)}\")\n",
    "print(f\"Final training accuracy: {train_accuracies[-1]:.4f}\")\n",
    "print(f\"Final validation accuracy: {val_accuracies[-1]:.4f}\")\n",
    "print(f\"Best validation accuracy: {max(val_accuracies):.4f}\")\n",
    "print(f\"Final training loss: {train_losses[-1]:.4f}\")\n",
    "print(f\"Final validation loss: {val_losses[-1]:.4f}\")\n",
    "print(f\"Minimum validation loss: {min(val_losses):.4f}\")\n",
    "\n",
    "# Calculate performance improvements\n",
    "print(\"\\n🚀 KEY IMPROVEMENTS ACHIEVED:\")\n",
    "print(\"=\" * 50)\n",
    "accuracy_improvement = (improved_acc - original_acc) * 100\n",
    "macro_f1_improvement = (improved_macro_f1 - original_macro_f1) * 100\n",
    "weighted_f1_improvement = (improved_weighted_f1 - original_weighted_f1) * 100\n",
    "\n",
    "print(f\"✅ Accuracy improved by: {accuracy_improvement:+.2f} percentage points\")\n",
    "print(f\"✅ Macro F1-score improved by: {macro_f1_improvement:+.2f} percentage points\")\n",
    "print(f\"✅ Weighted F1-score improved by: {weighted_f1_improvement:+.2f} percentage points\")\n",
    "\n",
    "# Identify best improved classes\n",
    "improvements = {}\n",
    "for class_name in class_names:\n",
    "    if class_name in report and class_name in report_improved:\n",
    "        orig_f1 = report[class_name]['f1-score']\n",
    "        impr_f1 = report_improved[class_name]['f1-score']\n",
    "        improvements[class_name] = impr_f1 - orig_f1\n",
    "\n",
    "best_improved = sorted(improvements.items(), key=lambda x: x[1], reverse=True)[:3]\n",
    "worst_improved = sorted(improvements.items(), key=lambda x: x[1])[:3]\n",
    "\n",
    "print(f\"\\n🎯 TOP 3 MOST IMPROVED CLASSES:\")\n",
    "for class_name, improvement in best_improved:\n",
    "    print(f\"  {class_name}: {improvement:+.3f}\")\n",
    "\n",
    "print(f\"\\n⚠️  CLASSES NEEDING MORE ATTENTION:\")\n",
    "for class_name, improvement in worst_improved:\n",
    "    print(f\"  {class_name}: {improvement:+.3f}\")"
   ]
  },
  {
   "cell_type": "code",
   "execution_count": 110,
   "metadata": {},
   "outputs": [
    {
     "name": "stdout",
     "output_type": "stream",
     "text": [
      "================================================================================\n",
      "🔍 COMPREHENSIVE OVERFITTING ANALYSIS\n",
      "================================================================================\n",
      "\n",
      "📊 PERFORMANCE METRICS:\n",
      "Final Training Accuracy: 0.9807 (98.07%)\n",
      "Final Validation Accuracy: 0.4697 (46.97%)\n",
      "Best Validation Accuracy: 0.6982 (69.82%)\n",
      "Train-Val Gap (final): 0.5110 (51.1 percentage points)\n",
      "Train-Val Gap (best): 0.2822\n",
      "\n",
      "📉 LOSS ANALYSIS:\n",
      "Final Training Loss: 0.6346\n",
      "Final Validation Loss: 2.0207\n",
      "Minimum Validation Loss: 1.3620\n",
      "Loss Ratio (Val/Train): 3.18x\n",
      "\n",
      "🚨 OVERFITTING INDICATORS:\n",
      "❌ SEVERE: Training accuracy >> Validation accuracy (>20% gap)\n",
      "✅ GOOD: Validation loss stable or improving\n",
      "❌ SEVERE: Very high training accuracy but poor validation performance\n",
      "\n",
      "🎯 GENERALIZATION TEST:\n",
      "Best Validation Accuracy: 0.6982\n",
      "Test Set Accuracy: 0.6992\n",
      "Val-Test Gap: 0.0010\n",
      "✅ EXCELLENT: Test performance matches validation (good generalization)\n",
      "\n",
      "📈 LEARNING CURVE ANALYSIS:\n",
      "Best validation performance at epoch: 27\n",
      "Training continued for: 3 more epochs\n",
      "✅ Training stopped appropriately\n",
      "\n",
      "💡 RECOMMENDATIONS:\n",
      "--------------------------------------------------\n",
      "🔧 CRITICAL ACTIONS NEEDED:\n",
      "  1. Increase dropout rate (try 0.5-0.7)\n",
      "  2. Add stronger regularization (L1/L2)\n",
      "  3. Reduce model complexity\n",
      "  4. Use more aggressive data augmentation\n",
      "  5. Implement early stopping with patience=3-5\n",
      "\n",
      "🎯 CLASS-SPECIFIC OVERFITTING ANALYSIS:\n",
      "⚠️  Classes showing potential overfitting (high precision, low recall):\n",
      "  - Password: Precision=0.810, Recall=0.144, F1=0.244\n",
      "  - Uploading: Precision=0.756, Recall=0.133, F1=0.226\n",
      "  - XSS: Precision=1.000, Recall=0.053, F1=0.101\n",
      "\n",
      "================================================================================\n",
      "🔍 OVERALL DIAGNOSIS: ❌ SEVERE OVERFITTING DETECTED\n",
      "   The model is memorizing training data and not generalizing well.\n",
      "   Immediate action required to improve generalization.\n",
      "================================================================================\n"
     ]
    }
   ],
   "source": [
    "# 🔍 OVERFITTING ANALYSIS\n",
    "\n",
    "print(\"=\" * 80)\n",
    "print(\"🔍 COMPREHENSIVE OVERFITTING ANALYSIS\")\n",
    "print(\"=\" * 80)\n",
    "\n",
    "# 1. Training vs Validation Performance Gap\n",
    "final_train_acc = train_accuracies[-1]\n",
    "final_val_acc = val_accuracies[-1]\n",
    "best_val_acc = max(val_accuracies)\n",
    "\n",
    "print(f\"\\n📊 PERFORMANCE METRICS:\")\n",
    "print(f\"Final Training Accuracy: {final_train_acc:.4f} (98.07%)\")\n",
    "print(f\"Final Validation Accuracy: {final_val_acc:.4f} (46.97%)\")\n",
    "print(f\"Best Validation Accuracy: {best_val_acc:.4f} (69.82%)\")\n",
    "print(f\"Train-Val Gap (final): {final_train_acc - final_val_acc:.4f} ({((final_train_acc - final_val_acc)*100):.1f} percentage points)\")\n",
    "print(f\"Train-Val Gap (best): {train_accuracies[val_accuracies.index(max(val_accuracies))] - best_val_acc:.4f}\")\n",
    "\n",
    "# 2. Loss Analysis\n",
    "final_train_loss = train_losses[-1]\n",
    "final_val_loss = val_losses[-1]\n",
    "min_val_loss = min(val_losses)\n",
    "\n",
    "print(f\"\\n📉 LOSS ANALYSIS:\")\n",
    "print(f\"Final Training Loss: {final_train_loss:.4f}\")\n",
    "print(f\"Final Validation Loss: {final_val_loss:.4f}\")\n",
    "print(f\"Minimum Validation Loss: {min_val_loss:.4f}\")\n",
    "print(f\"Loss Ratio (Val/Train): {final_val_loss/final_train_loss:.2f}x\")\n",
    "\n",
    "# 3. Overfitting Indicators\n",
    "print(f\"\\n🚨 OVERFITTING INDICATORS:\")\n",
    "\n",
    "# Large train-validation gap\n",
    "if final_train_acc - final_val_acc > 0.2:\n",
    "    print(\"❌ SEVERE: Training accuracy >> Validation accuracy (>20% gap)\")\n",
    "elif final_train_acc - final_val_acc > 0.1:\n",
    "    print(\"⚠️  MODERATE: Training accuracy > Validation accuracy (>10% gap)\")\n",
    "else:\n",
    "    print(\"✅ GOOD: Reasonable train-validation gap\")\n",
    "\n",
    "# Validation loss trend\n",
    "val_loss_trend = val_losses[-5:]  # Last 5 epochs\n",
    "if all(val_loss_trend[i] <= val_loss_trend[i+1] for i in range(len(val_loss_trend)-1)):\n",
    "    print(\"❌ SEVERE: Validation loss consistently increasing\")\n",
    "elif val_losses[-1] > min_val_loss * 1.5:\n",
    "    print(\"⚠️  MODERATE: Validation loss significantly higher than minimum\")\n",
    "else:\n",
    "    print(\"✅ GOOD: Validation loss stable or improving\")\n",
    "\n",
    "# High training accuracy with poor generalization\n",
    "if final_train_acc > 0.95 and final_val_acc < 0.7:\n",
    "    print(\"❌ SEVERE: Very high training accuracy but poor validation performance\")\n",
    "elif final_train_acc > 0.9 and final_val_acc < 0.8:\n",
    "    print(\"⚠️  MODERATE: High training accuracy with concerning validation performance\")\n",
    "else:\n",
    "    print(\"✅ GOOD: Training and validation performance reasonably aligned\")\n",
    "\n",
    "# 4. Test Set Performance Analysis\n",
    "test_acc = improved_acc  # From previous evaluation\n",
    "print(f\"\\n🎯 GENERALIZATION TEST:\")\n",
    "print(f\"Best Validation Accuracy: {best_val_acc:.4f}\")\n",
    "print(f\"Test Set Accuracy: {test_acc:.4f}\")\n",
    "print(f\"Val-Test Gap: {abs(best_val_acc - test_acc):.4f}\")\n",
    "\n",
    "if abs(best_val_acc - test_acc) < 0.05:\n",
    "    print(\"✅ EXCELLENT: Test performance matches validation (good generalization)\")\n",
    "elif abs(best_val_acc - test_acc) < 0.1:\n",
    "    print(\"✅ GOOD: Test performance close to validation\")\n",
    "else:\n",
    "    print(\"⚠️  CONCERNING: Significant gap between validation and test performance\")\n",
    "\n",
    "# 5. Learning Curve Analysis\n",
    "print(f\"\\n📈 LEARNING CURVE ANALYSIS:\")\n",
    "\n",
    "# Find the epoch with best validation\n",
    "best_epoch = val_accuracies.index(max(val_accuracies)) + 1\n",
    "early_stop_epoch = len(val_accuracies)\n",
    "\n",
    "print(f\"Best validation performance at epoch: {best_epoch}\")\n",
    "print(f\"Training continued for: {early_stop_epoch - best_epoch} more epochs\")\n",
    "\n",
    "if early_stop_epoch - best_epoch > 10:\n",
    "    print(\"⚠️  Model may have been trained too long after best validation performance\")\n",
    "elif early_stop_epoch - best_epoch > 5:\n",
    "    print(\"⚠️  Some potential overtraining detected\")\n",
    "else:\n",
    "    print(\"✅ Training stopped appropriately\")\n",
    "\n",
    "# 6. Recommendations\n",
    "print(f\"\\n💡 RECOMMENDATIONS:\")\n",
    "print(\"-\" * 50)\n",
    "\n",
    "if final_train_acc - final_val_acc > 0.2:\n",
    "    print(\"🔧 CRITICAL ACTIONS NEEDED:\")\n",
    "    print(\"  1. Increase dropout rate (try 0.5-0.7)\")\n",
    "    print(\"  2. Add stronger regularization (L1/L2)\")\n",
    "    print(\"  3. Reduce model complexity\")\n",
    "    print(\"  4. Use more aggressive data augmentation\")\n",
    "    print(\"  5. Implement early stopping with patience=3-5\")\n",
    "    \n",
    "elif final_train_acc - final_val_acc > 0.1:\n",
    "    print(\"🔧 IMPROVEMENTS RECOMMENDED:\")\n",
    "    print(\"  1. Increase dropout slightly (0.4 → 0.5)\")\n",
    "    print(\"  2. Add weight decay\")\n",
    "    print(\"  3. Use learning rate scheduling\")\n",
    "    print(\"  4. Consider reducing model size\")\n",
    "    \n",
    "else:\n",
    "    print(\"✅ MODEL PERFORMANCE ACCEPTABLE:\")\n",
    "    print(\"  1. Current regularization seems appropriate\")\n",
    "    print(\"  2. Consider fine-tuning hyperparameters\")\n",
    "    print(\"  3. Focus on data quality improvements\")\n",
    "\n",
    "# 7. Class-specific overfitting analysis\n",
    "print(f\"\\n🎯 CLASS-SPECIFIC OVERFITTING ANALYSIS:\")\n",
    "problematic_classes = []\n",
    "\n",
    "for class_name in label_encoder.classes_:\n",
    "    if class_name in report_improved:\n",
    "        precision = report_improved[class_name]['precision']\n",
    "        recall = report_improved[class_name]['recall']\n",
    "        f1 = report_improved[class_name]['f1-score']\n",
    "        \n",
    "        # Identify problematic classes (very low recall but reasonable precision suggests overfitting)\n",
    "        if precision > 0.7 and recall < 0.3:\n",
    "            problematic_classes.append((class_name, precision, recall, f1))\n",
    "\n",
    "if problematic_classes:\n",
    "    print(\"⚠️  Classes showing potential overfitting (high precision, low recall):\")\n",
    "    for class_name, prec, rec, f1 in problematic_classes:\n",
    "        print(f\"  - {class_name}: Precision={prec:.3f}, Recall={rec:.3f}, F1={f1:.3f}\")\n",
    "else:\n",
    "    print(\"✅ No obvious class-specific overfitting patterns detected\")\n",
    "\n",
    "print(f\"\\n\" + \"=\" * 80)\n",
    "print(\"🔍 OVERALL DIAGNOSIS: \", end=\"\")\n",
    "\n",
    "# Overall assessment\n",
    "severe_indicators = 0\n",
    "moderate_indicators = 0\n",
    "\n",
    "if final_train_acc - final_val_acc > 0.2: severe_indicators += 1\n",
    "elif final_train_acc - final_val_acc > 0.1: moderate_indicators += 1\n",
    "\n",
    "if val_losses[-1] > min_val_loss * 1.5: moderate_indicators += 1\n",
    "\n",
    "if final_train_acc > 0.95 and final_val_acc < 0.7: severe_indicators += 1\n",
    "elif final_train_acc > 0.9 and final_val_acc < 0.8: moderate_indicators += 1\n",
    "\n",
    "if severe_indicators > 0:\n",
    "    print(\"❌ SEVERE OVERFITTING DETECTED\")\n",
    "    print(\"   The model is memorizing training data and not generalizing well.\")\n",
    "    print(\"   Immediate action required to improve generalization.\")\n",
    "elif moderate_indicators > 1:\n",
    "    print(\"⚠️  MODERATE OVERFITTING DETECTED\")\n",
    "    print(\"   The model shows signs of overfitting but it's manageable.\")\n",
    "    print(\"   Consider implementing suggested improvements.\")\n",
    "else:\n",
    "    print(\"✅ OVERFITTING WITHIN ACCEPTABLE LIMITS\")\n",
    "    print(\"   The model shows good balance between fitting and generalization.\")\n",
    "\n",
    "print(\"=\" * 80)"
   ]
  },
  {
   "cell_type": "code",
   "execution_count": 111,
   "metadata": {},
   "outputs": [
    {
     "name": "stdout",
     "output_type": "stream",
     "text": [
      "🔧 ANTI-OVERFITTING MODEL CREATED:\n",
      "- Reduced model size (256->128->64->32)\n",
      "- Heavy dropout (0.6, 0.4, 0.4, 0.2)\n",
      "- Simpler architecture\n",
      "- Strong regularization focus\n",
      "\n",
      "💡 FOR YOUR NEXT TRAINING SESSION:\n",
      "1. Use BetterRegularizedDNN instead of AdvancedDNN\n",
      "2. Increase weight_decay to 1e-3\n",
      "3. Set patience to 3-5 for earlier stopping\n",
      "4. Reduce learning rate to 0.0005\n",
      "5. Use L1 regularization on classifier layer\n",
      "\n",
      "📊 DATA IMPROVEMENTS:\n",
      "1. Check if validation set is representative\n",
      "2. Consider stratified validation split\n",
      "3. Add noise augmentation to training data\n",
      "4. Use mixup or cutmix techniques\n",
      "\n",
      "⚠️  THE GOOD NEWS:\n",
      "Your test accuracy (69.92%) suggests the model\n",
      "CAN generalize well - the issue might be validation\n",
      "set selection or distribution mismatch.\n"
     ]
    }
   ],
   "source": [
    "# 🔧 IMMEDIATE OVERFITTING SOLUTIONS\n",
    "\n",
    "class BetterRegularizedDNN(nn.Module):\n",
    "    def __init__(self, input_dim, num_classes, dropout_rate=0.6):\n",
    "        super(BetterRegularizedDNN, self).__init__()\n",
    "        \n",
    "        # Smaller, more regularized architecture\n",
    "        self.fc1 = nn.Linear(input_dim, 256)  # Reduced from 1024\n",
    "        self.bn1 = nn.BatchNorm1d(256)\n",
    "        \n",
    "        self.fc2 = nn.Linear(256, 128)  # Reduced from 512\n",
    "        self.bn2 = nn.BatchNorm1d(128)\n",
    "        \n",
    "        self.fc3 = nn.Linear(128, 64)\n",
    "        self.bn3 = nn.BatchNorm1d(64)\n",
    "        \n",
    "        self.fc4 = nn.Linear(64, 32)  # Added smaller layer\n",
    "        self.bn4 = nn.BatchNorm1d(32)\n",
    "        \n",
    "        self.classifier = nn.Linear(32, num_classes)\n",
    "        \n",
    "        # Strong regularization\n",
    "        self.dropout_heavy = nn.Dropout(dropout_rate)  # 0.6\n",
    "        self.dropout_medium = nn.Dropout(0.4)\n",
    "        self.dropout_light = nn.Dropout(0.2)\n",
    "        \n",
    "        # Simple activation\n",
    "        self.act = nn.ReLU()\n",
    "        \n",
    "    def forward(self, x):\n",
    "        x = self.act(self.bn1(self.fc1(x)))\n",
    "        x = self.dropout_heavy(x)  # Heavy dropout early\n",
    "        \n",
    "        x = self.act(self.bn2(self.fc2(x)))\n",
    "        x = self.dropout_medium(x)\n",
    "        \n",
    "        x = self.act(self.bn3(self.fc3(x)))\n",
    "        x = self.dropout_medium(x)\n",
    "        \n",
    "        x = self.act(self.bn4(self.fc4(x)))\n",
    "        x = self.dropout_light(x)  # Light dropout before classifier\n",
    "        \n",
    "        x = self.classifier(x)\n",
    "        return x\n",
    "\n",
    "# Quick fix training setup\n",
    "print(\"🔧 ANTI-OVERFITTING MODEL CREATED:\")\n",
    "print(\"- Reduced model size (256->128->64->32)\")\n",
    "print(\"- Heavy dropout (0.6, 0.4, 0.4, 0.2)\")\n",
    "print(\"- Simpler architecture\")\n",
    "print(\"- Strong regularization focus\")\n",
    "\n",
    "# Recommendation for next training\n",
    "print(\"\\n💡 FOR YOUR NEXT TRAINING SESSION:\")\n",
    "print(\"1. Use BetterRegularizedDNN instead of AdvancedDNN\")\n",
    "print(\"2. Increase weight_decay to 1e-3\")\n",
    "print(\"3. Set patience to 3-5 for earlier stopping\")\n",
    "print(\"4. Reduce learning rate to 0.0005\")\n",
    "print(\"5. Use L1 regularization on classifier layer\")\n",
    "\n",
    "# Data augmentation suggestion\n",
    "print(\"\\n📊 DATA IMPROVEMENTS:\")\n",
    "print(\"1. Check if validation set is representative\")\n",
    "print(\"2. Consider stratified validation split\")\n",
    "print(\"3. Add noise augmentation to training data\")\n",
    "print(\"4. Use mixup or cutmix techniques\")\n",
    "\n",
    "print(\"\\n⚠️  THE GOOD NEWS:\")\n",
    "print(\"Your test accuracy (69.92%) suggests the model\")\n",
    "print(\"CAN generalize well - the issue might be validation\")\n",
    "print(\"set selection or distribution mismatch.\")"
   ]
  },
  {
   "cell_type": "code",
   "execution_count": null,
   "metadata": {},
   "outputs": [],
   "source": []
  },
  {
   "cell_type": "code",
   "execution_count": 118,
   "metadata": {},
   "outputs": [
    {
     "name": "stdout",
     "output_type": "stream",
     "text": [
      "🔧 ANTI-OVERFITTING TRAINING SETUP:\n",
      "- Model: BetterRegularizedDNN with 48461 parameters\n",
      "- Learning Rate: 0.0005 (reduced)\n",
      "- Weight Decay: 1e-3 (stronger)\n",
      "- Dropout: 0.6, 0.4, 0.4, 0.2 (graduated)\n",
      "- Early Stopping Patience: 3 epochs\n",
      "- Architecture: 256->128->64->32 (simplified)\n"
     ]
    }
   ],
   "source": [
    "# 🚀 Training the Better Regularized Model\n",
    "\n",
    "# Initialize the anti-overfitting model\n",
    "model_regularized = BetterRegularizedDNN(input_dim, num_classes, dropout_rate=0.6).to(device)\n",
    "\n",
    "# Strong regularization setup\n",
    "criterion_regularized = nn.CrossEntropyLoss(weight=class_weights_tensor)\n",
    "optimizer_regularized = optim.AdamW(\n",
    "    model_regularized.parameters(), \n",
    "    lr=0.0005,  # Reduced learning rate\n",
    "    weight_decay=1e-3,  # Stronger weight decay\n",
    "    betas=(0.9, 0.999)\n",
    ")\n",
    "\n",
    "# More aggressive early stopping\n",
    "scheduler_regularized = torch.optim.lr_scheduler.ReduceLROnPlateau(\n",
    "    optimizer_regularized, \n",
    "    mode='min', \n",
    "    factor=0.5, \n",
    "    patience=2,  # Reduced patience\n",
    "    # verbose=True\n",
    ")\n",
    "\n",
    "print(\"🔧 ANTI-OVERFITTING TRAINING SETUP:\")\n",
    "print(f\"- Model: BetterRegularizedDNN with {sum(p.numel() for p in model_regularized.parameters())} parameters\")\n",
    "print(f\"- Learning Rate: 0.0005 (reduced)\")\n",
    "print(f\"- Weight Decay: 1e-3 (stronger)\")\n",
    "print(f\"- Dropout: 0.6, 0.4, 0.4, 0.2 (graduated)\")\n",
    "print(f\"- Early Stopping Patience: 3 epochs\")\n",
    "print(f\"- Architecture: 256->128->64->32 (simplified)\")"
   ]
  },
  {
   "cell_type": "code",
   "execution_count": 119,
   "metadata": {},
   "outputs": [
    {
     "name": "stdout",
     "output_type": "stream",
     "text": [
      "🔥 Starting Anti-Overfitting Training...\n",
      "============================================================\n"
     ]
    },
    {
     "name": "stderr",
     "output_type": "stream",
     "text": [
      "Epoch 1/25: 100%|██████████| 940/940 [00:07<00:00, 123.13batch/s, accuracy=0.464, loss=1.55]\n"
     ]
    },
    {
     "name": "stdout",
     "output_type": "stream",
     "text": [
      "Epoch [1/25]\n",
      "  Train Loss: 1.6580, Train Acc: 0.4643\n",
      "  Val Loss: 1.4893, Val Acc: 0.5255\n",
      "  Train-Val Gap: -0.0613 (-6.1%)\n",
      "  LR: 0.000500\n",
      "  ✅ New best model saved! Val Acc: 0.5255\n",
      "  ✅ Good train-val balance (-6.1%)\n",
      "------------------------------------------------------------\n"
     ]
    },
    {
     "name": "stderr",
     "output_type": "stream",
     "text": [
      "Epoch 2/25: 100%|██████████| 940/940 [00:07<00:00, 121.98batch/s, accuracy=0.53, loss=1.34] \n"
     ]
    },
    {
     "name": "stdout",
     "output_type": "stream",
     "text": [
      "Epoch [2/25]\n",
      "  Train Loss: 1.4147, Train Acc: 0.5300\n",
      "  Val Loss: 1.3781, Val Acc: 0.5863\n",
      "  Train-Val Gap: -0.0562 (-5.6%)\n",
      "  LR: 0.000500\n",
      "  ✅ New best model saved! Val Acc: 0.5863\n",
      "  ✅ Good train-val balance (-5.6%)\n",
      "------------------------------------------------------------\n"
     ]
    },
    {
     "name": "stderr",
     "output_type": "stream",
     "text": [
      "Epoch 3/25: 100%|██████████| 940/940 [00:07<00:00, 122.89batch/s, accuracy=0.547, loss=1.34]\n"
     ]
    },
    {
     "name": "stdout",
     "output_type": "stream",
     "text": [
      "Epoch [3/25]\n",
      "  Train Loss: 1.3616, Train Acc: 0.5468\n",
      "  Val Loss: 1.3654, Val Acc: 0.5640\n",
      "  Train-Val Gap: -0.0172 (-1.7%)\n",
      "  LR: 0.000500\n",
      "  ⏳ Patience: 1/3\n",
      "  ✅ Good train-val balance (-1.7%)\n",
      "------------------------------------------------------------\n"
     ]
    },
    {
     "name": "stderr",
     "output_type": "stream",
     "text": [
      "Epoch 4/25: 100%|██████████| 940/940 [00:07<00:00, 122.93batch/s, accuracy=0.559, loss=1.43]\n"
     ]
    },
    {
     "name": "stdout",
     "output_type": "stream",
     "text": [
      "Epoch [4/25]\n",
      "  Train Loss: 1.3411, Train Acc: 0.5588\n",
      "  Val Loss: 1.3466, Val Acc: 0.5729\n",
      "  Train-Val Gap: -0.0141 (-1.4%)\n",
      "  LR: 0.000500\n",
      "  ⏳ Patience: 2/3\n",
      "  ✅ Good train-val balance (-1.4%)\n",
      "------------------------------------------------------------\n"
     ]
    },
    {
     "name": "stderr",
     "output_type": "stream",
     "text": [
      "Epoch 5/25: 100%|██████████| 940/940 [00:07<00:00, 120.84batch/s, accuracy=0.568, loss=1.36]\n"
     ]
    },
    {
     "name": "stdout",
     "output_type": "stream",
     "text": [
      "Epoch [5/25]\n",
      "  Train Loss: 1.3239, Train Acc: 0.5681\n",
      "  Val Loss: 1.3181, Val Acc: 0.5875\n",
      "  Train-Val Gap: -0.0193 (-1.9%)\n",
      "  LR: 0.000500\n",
      "  ✅ New best model saved! Val Acc: 0.5875\n",
      "  ✅ Good train-val balance (-1.9%)\n",
      "------------------------------------------------------------\n"
     ]
    },
    {
     "name": "stderr",
     "output_type": "stream",
     "text": [
      "Epoch 6/25: 100%|██████████| 940/940 [00:07<00:00, 121.53batch/s, accuracy=0.574, loss=1.32]\n"
     ]
    },
    {
     "name": "stdout",
     "output_type": "stream",
     "text": [
      "Epoch [6/25]\n",
      "  Train Loss: 1.3044, Train Acc: 0.5742\n",
      "  Val Loss: 1.2939, Val Acc: 0.6128\n",
      "  Train-Val Gap: -0.0386 (-3.9%)\n",
      "  LR: 0.000500\n",
      "  ✅ New best model saved! Val Acc: 0.6128\n",
      "  ✅ Good train-val balance (-3.9%)\n",
      "------------------------------------------------------------\n"
     ]
    },
    {
     "name": "stderr",
     "output_type": "stream",
     "text": [
      "Epoch 7/25: 100%|██████████| 940/940 [00:08<00:00, 107.14batch/s, accuracy=0.582, loss=1.24]\n"
     ]
    },
    {
     "name": "stdout",
     "output_type": "stream",
     "text": [
      "Epoch [7/25]\n",
      "  Train Loss: 1.2875, Train Acc: 0.5819\n",
      "  Val Loss: 1.2796, Val Acc: 0.5822\n",
      "  Train-Val Gap: -0.0002 (-0.0%)\n",
      "  LR: 0.000500\n",
      "  ⏳ Patience: 1/3\n",
      "  ✅ Good train-val balance (-0.0%)\n",
      "------------------------------------------------------------\n"
     ]
    },
    {
     "name": "stderr",
     "output_type": "stream",
     "text": [
      "Epoch 8/25: 100%|██████████| 940/940 [00:08<00:00, 108.16batch/s, accuracy=0.593, loss=1.32]\n"
     ]
    },
    {
     "name": "stdout",
     "output_type": "stream",
     "text": [
      "Epoch [8/25]\n",
      "  Train Loss: 1.2725, Train Acc: 0.5932\n",
      "  Val Loss: 1.2461, Val Acc: 0.6055\n",
      "  Train-Val Gap: -0.0124 (-1.2%)\n",
      "  LR: 0.000500\n",
      "  ⏳ Patience: 2/3\n",
      "  ✅ Good train-val balance (-1.2%)\n",
      "------------------------------------------------------------\n"
     ]
    },
    {
     "name": "stderr",
     "output_type": "stream",
     "text": [
      "Epoch 9/25: 100%|██████████| 940/940 [00:08<00:00, 114.70batch/s, accuracy=0.603, loss=1.15]\n"
     ]
    },
    {
     "name": "stdout",
     "output_type": "stream",
     "text": [
      "Epoch [9/25]\n",
      "  Train Loss: 1.2542, Train Acc: 0.6027\n",
      "  Val Loss: 1.2007, Val Acc: 0.6040\n",
      "  Train-Val Gap: -0.0013 (-0.1%)\n",
      "  LR: 0.000500\n",
      "  ⏳ Patience: 3/3\n",
      "  🛑 Early stopping triggered! (Preventing overfitting)\n",
      "\n",
      "🎉 ANTI-OVERFITTING TRAINING COMPLETED!\n",
      "✅ Best validation accuracy: 0.6128\n",
      "✅ Total epochs trained: 9\n",
      "✅ Final train-val gap: -0.0013\n",
      "🎯 SUCCESS: Overfitting significantly reduced!\n"
     ]
    }
   ],
   "source": [
    "# 🎯 Anti-Overfitting Training Loop\n",
    "\n",
    "num_epochs_reg = 25\n",
    "best_val_acc_reg = 0\n",
    "patience_reg = 3  # Much more aggressive early stopping\n",
    "patience_counter_reg = 0\n",
    "\n",
    "# Metrics tracking\n",
    "train_losses_reg = []\n",
    "val_losses_reg = []\n",
    "train_accuracies_reg = []\n",
    "val_accuracies_reg = []\n",
    "\n",
    "print(\"🔥 Starting Anti-Overfitting Training...\")\n",
    "print(\"=\" * 60)\n",
    "\n",
    "for epoch in range(num_epochs_reg):\n",
    "    # Training phase\n",
    "    model_regularized.train()\n",
    "    running_loss = 0.0\n",
    "    correct = 0\n",
    "    total = 0\n",
    "    \n",
    "    with tqdm(train_loader, desc=f\"Epoch {epoch+1}/{num_epochs_reg}\", unit=\"batch\") as tepoch:\n",
    "        for X_batch, y_batch in tepoch:\n",
    "            X_batch, y_batch = X_batch.to(device), y_batch.to(device)\n",
    "            \n",
    "            optimizer_regularized.zero_grad()\n",
    "            outputs = model_regularized(X_batch)\n",
    "            loss = criterion_regularized(outputs, y_batch)\n",
    "            loss.backward()\n",
    "            \n",
    "            # Gradient clipping for stability\n",
    "            torch.nn.utils.clip_grad_norm_(model_regularized.parameters(), max_norm=0.5)\n",
    "            optimizer_regularized.step()\n",
    "            \n",
    "            running_loss += loss.item()\n",
    "            _, predicted = torch.max(outputs, 1)\n",
    "            total += y_batch.size(0)\n",
    "            correct += (predicted == y_batch).sum().item()\n",
    "            \n",
    "            # Update progress bar\n",
    "            current_acc = correct / total\n",
    "            tepoch.set_postfix(loss=loss.item(), accuracy=current_acc)\n",
    "    \n",
    "    train_acc = correct / total\n",
    "    avg_train_loss = running_loss / len(train_loader)\n",
    "    \n",
    "    # Validation phase\n",
    "    model_regularized.eval()\n",
    "    val_correct = 0\n",
    "    val_total = 0\n",
    "    val_loss = 0\n",
    "    \n",
    "    with torch.no_grad():\n",
    "        for X_val, y_val in val_loader:\n",
    "            X_val, y_val = X_val.to(device), y_val.to(device)\n",
    "            outputs = model_regularized(X_val)\n",
    "            loss = criterion_regularized(outputs, y_val)\n",
    "            val_loss += loss.item()\n",
    "            \n",
    "            _, predicted = torch.max(outputs, 1)\n",
    "            val_total += y_val.size(0)\n",
    "            val_correct += (predicted == y_val).sum().item()\n",
    "    \n",
    "    val_acc = val_correct / val_total\n",
    "    avg_val_loss = val_loss / len(val_loader)\n",
    "    \n",
    "    # Store metrics\n",
    "    train_losses_reg.append(avg_train_loss)\n",
    "    val_losses_reg.append(avg_val_loss)\n",
    "    train_accuracies_reg.append(train_acc)\n",
    "    val_accuracies_reg.append(val_acc)\n",
    "    \n",
    "    # Calculate train-val gap\n",
    "    train_val_gap = train_acc - val_acc\n",
    "    \n",
    "    print(f\"Epoch [{epoch+1}/{num_epochs_reg}]\")\n",
    "    print(f\"  Train Loss: {avg_train_loss:.4f}, Train Acc: {train_acc:.4f}\")\n",
    "    print(f\"  Val Loss: {avg_val_loss:.4f}, Val Acc: {val_acc:.4f}\")\n",
    "    print(f\"  Train-Val Gap: {train_val_gap:.4f} ({train_val_gap*100:.1f}%)\")\n",
    "    print(f\"  LR: {optimizer_regularized.param_groups[0]['lr']:.6f}\")\n",
    "    \n",
    "    # Learning rate scheduler\n",
    "    scheduler_regularized.step(avg_val_loss)\n",
    "    \n",
    "    # Early stopping with model saving\n",
    "    if val_acc > best_val_acc_reg:\n",
    "        best_val_acc_reg = val_acc\n",
    "        torch.save(model_regularized.state_dict(), 'models/best_model_regularized.pt')\n",
    "        print(f\"  ✅ New best model saved! Val Acc: {best_val_acc_reg:.4f}\")\n",
    "        patience_counter_reg = 0\n",
    "    else:\n",
    "        patience_counter_reg += 1\n",
    "        print(f\"  ⏳ Patience: {patience_counter_reg}/{patience_reg}\")\n",
    "        \n",
    "        if patience_counter_reg >= patience_reg:\n",
    "            print(\"  🛑 Early stopping triggered! (Preventing overfitting)\")\n",
    "            break\n",
    "    \n",
    "    # Overfitting warning\n",
    "    if train_val_gap > 0.15:\n",
    "        print(f\"  ⚠️  WARNING: Large train-val gap detected ({train_val_gap*100:.1f}%)\")\n",
    "    elif train_val_gap > 0.10:\n",
    "        print(f\"  🔶 CAUTION: Moderate train-val gap ({train_val_gap*100:.1f}%)\")\n",
    "    else:\n",
    "        print(f\"  ✅ Good train-val balance ({train_val_gap*100:.1f}%)\")\n",
    "    \n",
    "    print(\"-\" * 60)\n",
    "\n",
    "# Load best model for evaluation\n",
    "model_regularized.load_state_dict(torch.load('models/best_model_regularized.pt'))\n",
    "model_regularized.eval()\n",
    "\n",
    "print(f\"\\n🎉 ANTI-OVERFITTING TRAINING COMPLETED!\")\n",
    "print(f\"✅ Best validation accuracy: {best_val_acc_reg:.4f}\")\n",
    "print(f\"✅ Total epochs trained: {epoch + 1}\")\n",
    "print(f\"✅ Final train-val gap: {train_accuracies_reg[-1] - val_accuracies_reg[-1]:.4f}\")\n",
    "\n",
    "# Quick overfitting check\n",
    "final_gap = train_accuracies_reg[-1] - val_accuracies_reg[-1]\n",
    "if final_gap < 0.1:\n",
    "    print(\"🎯 SUCCESS: Overfitting significantly reduced!\")\n",
    "elif final_gap < 0.15:\n",
    "    print(\"🔶 IMPROVEMENT: Overfitting reduced but still needs work\")\n",
    "else:\n",
    "    print(\"⚠️  WARNING: Still showing signs of overfitting\")"
   ]
  },
  {
   "cell_type": "code",
   "execution_count": 120,
   "metadata": {},
   "outputs": [
    {
     "name": "stdout",
     "output_type": "stream",
     "text": [
      "Evaluating regularized model on test set...\n"
     ]
    },
    {
     "name": "stderr",
     "output_type": "stream",
     "text": [
      "Evaluating Regularized Model: 100%|██████████| 203/203 [00:00<00:00, 433.09it/s]\n"
     ]
    },
    {
     "name": "stdout",
     "output_type": "stream",
     "text": [
      "\n",
      "🎯 REGULARIZED MODEL - Classification Report:\n",
      "================================================================================\n"
     ]
    },
    {
     "name": "stderr",
     "output_type": "stream",
     "text": [
      "/Users/safwanahmed/Desktop/capstone/.venv/lib/python3.9/site-packages/sklearn/metrics/_classification.py:1334: UndefinedMetricWarning: Precision and F-score are ill-defined and being set to 0.0 in labels with no predicted samples. Use `zero_division` parameter to control this behavior.\n",
      "  _warn_prf(average, modifier, msg_start, len(result))\n",
      "/Users/safwanahmed/Desktop/capstone/.venv/lib/python3.9/site-packages/sklearn/metrics/_classification.py:1334: UndefinedMetricWarning: Precision and F-score are ill-defined and being set to 0.0 in labels with no predicted samples. Use `zero_division` parameter to control this behavior.\n",
      "  _warn_prf(average, modifier, msg_start, len(result))\n",
      "/Users/safwanahmed/Desktop/capstone/.venv/lib/python3.9/site-packages/sklearn/metrics/_classification.py:1334: UndefinedMetricWarning: Precision and F-score are ill-defined and being set to 0.0 in labels with no predicted samples. Use `zero_division` parameter to control this behavior.\n",
      "  _warn_prf(average, modifier, msg_start, len(result))\n",
      "/Users/safwanahmed/Desktop/capstone/.venv/lib/python3.9/site-packages/sklearn/metrics/_classification.py:1334: UndefinedMetricWarning: Precision and F-score are ill-defined and being set to 0.0 in labels with no predicted samples. Use `zero_division` parameter to control this behavior.\n",
      "  _warn_prf(average, modifier, msg_start, len(result))\n",
      "/Users/safwanahmed/Desktop/capstone/.venv/lib/python3.9/site-packages/sklearn/metrics/_classification.py:1334: UndefinedMetricWarning: Precision and F-score are ill-defined and being set to 0.0 in labels with no predicted samples. Use `zero_division` parameter to control this behavior.\n",
      "  _warn_prf(average, modifier, msg_start, len(result))\n",
      "/Users/safwanahmed/Desktop/capstone/.venv/lib/python3.9/site-packages/sklearn/metrics/_classification.py:1334: UndefinedMetricWarning: Precision and F-score are ill-defined and being set to 0.0 in labels with no predicted samples. Use `zero_division` parameter to control this behavior.\n",
      "  _warn_prf(average, modifier, msg_start, len(result))\n"
     ]
    },
    {
     "name": "stdout",
     "output_type": "stream",
     "text": [
      "                       precision    recall  f1-score   support\n",
      "\n",
      "             Backdoor       0.35      0.11      0.16      4612\n",
      "            DDoS_HTTP       0.64      0.27      0.38      9350\n",
      "            DDoS_ICMP       1.00      0.99      0.99     13588\n",
      "             DDoS_TCP       0.37      0.57      0.45      8297\n",
      "             DDoS_UDP       0.99      1.00      1.00     24313\n",
      "                 MITM       0.56      1.00      0.72        23\n",
      "             Password       0.74      0.10      0.17      9101\n",
      "        Port_Scanning       0.27      0.49      0.35      3705\n",
      "           Ransomware       0.21      0.45      0.28      1888\n",
      "        SQL_injection       0.27      0.79      0.40      9209\n",
      "            Uploading       0.00      0.00      0.00      7065\n",
      "Vulnerability_scanner       0.92      0.73      0.82      9494\n",
      "                  XSS       0.19      0.05      0.08      2906\n",
      "\n",
      "             accuracy                           0.61    103551\n",
      "            macro avg       0.50      0.50      0.45    103551\n",
      "         weighted avg       0.66      0.61      0.59    103551\n",
      "\n",
      "\n",
      "🏆 COMPREHENSIVE MODEL COMPARISON:\n",
      "====================================================================================================\n",
      "Metric                    Original     Advanced     Regularized  Best Model     \n",
      "----------------------------------------------------------------------------------------------------\n",
      "Overall Accuracy          0.638        0.699        0.613        Advanced       \n",
      "Macro F1-Score            0.526        0.549        0.446        Advanced       \n",
      "Weighted F1-Score         0.630        0.672        0.587        Advanced       \n",
      "\n",
      "🔍 OVERFITTING COMPARISON:\n",
      "------------------------------------------------------------\n",
      "Model           Train Acc    Val Acc      Gap          Status         \n",
      "------------------------------------------------------------\n",
      "Original        ~0.98        ~0.65        ~33%         SEVERE         \n",
      "Advanced        0.98         0.47         51%          SEVERE         \n",
      "Regularized     0.603        0.604        -0.1       % GOOD           \n",
      "\n",
      "✅ Regularized model and results saved to models/ directory\n",
      "\n",
      "🎯 FINAL RECOMMENDATION:\n",
      "==================================================\n",
      "🏆 USE THE ADVANCED MODEL (with caution)\n",
      "  ✅ Highest test accuracy\n",
      "  ⚠️  Monitor for overfitting in production\n",
      "\n",
      "🔥 Next step: Implement your autoencoder for the hybrid system!\n"
     ]
    }
   ],
   "source": [
    "# 📊 Evaluate Regularized Model and Compare All Models\n",
    "\n",
    "def evaluate_regularized_model(model, test_loader, device, label_encoder):\n",
    "    model.eval()\n",
    "    all_preds = []\n",
    "    all_targets = []\n",
    "\n",
    "    with torch.no_grad():\n",
    "        for X_test, y_test in tqdm(test_loader, desc=\"Evaluating Regularized Model\"):\n",
    "            X_test, y_test = X_test.to(device), y_test.to(device)\n",
    "            outputs = model(X_test)\n",
    "            _, preds = torch.max(outputs, 1)\n",
    "            all_preds.extend(preds.cpu().numpy())\n",
    "            all_targets.extend(y_test.cpu().numpy())\n",
    "\n",
    "    class_names = label_encoder.classes_\n",
    "    pred_classes = [class_names[int(i)] for i in all_preds]\n",
    "    target_classes = [class_names[int(i)] for i in all_targets]\n",
    "\n",
    "    print(\"\\n🎯 REGULARIZED MODEL - Classification Report:\")\n",
    "    print(\"=\" * 80)\n",
    "    report_regularized = classification_report(target_classes, pred_classes, output_dict=True)\n",
    "    print(classification_report(target_classes, pred_classes))\n",
    "    \n",
    "    cm_regularized = confusion_matrix(target_classes, pred_classes)\n",
    "    return cm_regularized, report_regularized\n",
    "\n",
    "# Evaluate regularized model\n",
    "print(\"Evaluating regularized model on test set...\")\n",
    "cm_regularized, report_regularized = evaluate_regularized_model(\n",
    "    model_regularized, test_loader, device, label_encoder\n",
    ")\n",
    "\n",
    "# Compare ALL three models\n",
    "print(\"\\n🏆 COMPREHENSIVE MODEL COMPARISON:\")\n",
    "print(\"=\" * 100)\n",
    "print(f\"{'Metric':<25} {'Original':<12} {'Advanced':<12} {'Regularized':<12} {'Best Model':<15}\")\n",
    "print(\"-\" * 100)\n",
    "\n",
    "# Get accuracies\n",
    "original_acc = report['accuracy']\n",
    "advanced_acc = report_improved['accuracy'] \n",
    "regularized_acc = report_regularized['accuracy']\n",
    "\n",
    "# Find best accuracy\n",
    "best_acc = max(original_acc, advanced_acc, regularized_acc)\n",
    "if best_acc == original_acc:\n",
    "    best_model_name = \"Original\"\n",
    "elif best_acc == advanced_acc:\n",
    "    best_model_name = \"Advanced\"\n",
    "else:\n",
    "    best_model_name = \"Regularized\"\n",
    "\n",
    "print(f\"{'Overall Accuracy':<25} {original_acc:<12.3f} {advanced_acc:<12.3f} {regularized_acc:<12.3f} {best_model_name:<15}\")\n",
    "\n",
    "# Get macro F1-scores\n",
    "original_macro_f1 = report['macro avg']['f1-score']\n",
    "advanced_macro_f1 = report_improved['macro avg']['f1-score']\n",
    "regularized_macro_f1 = report_regularized['macro avg']['f1-score']\n",
    "\n",
    "best_macro_f1 = max(original_macro_f1, advanced_macro_f1, regularized_macro_f1)\n",
    "if best_macro_f1 == original_macro_f1:\n",
    "    best_macro_name = \"Original\"\n",
    "elif best_macro_f1 == advanced_macro_f1:\n",
    "    best_macro_name = \"Advanced\"\n",
    "else:\n",
    "    best_macro_name = \"Regularized\"\n",
    "\n",
    "print(f\"{'Macro F1-Score':<25} {original_macro_f1:<12.3f} {advanced_macro_f1:<12.3f} {regularized_macro_f1:<12.3f} {best_macro_name:<15}\")\n",
    "\n",
    "# Get weighted F1-scores\n",
    "original_weighted_f1 = report['weighted avg']['f1-score']\n",
    "advanced_weighted_f1 = report_improved['weighted avg']['f1-score']\n",
    "regularized_weighted_f1 = report_regularized['weighted avg']['f1-score']\n",
    "\n",
    "best_weighted_f1 = max(original_weighted_f1, advanced_weighted_f1, regularized_weighted_f1)\n",
    "if best_weighted_f1 == original_weighted_f1:\n",
    "    best_weighted_name = \"Original\"\n",
    "elif best_weighted_f1 == advanced_weighted_f1:\n",
    "    best_weighted_name = \"Advanced\"\n",
    "else:\n",
    "    best_weighted_name = \"Regularized\"\n",
    "\n",
    "print(f\"{'Weighted F1-Score':<25} {original_weighted_f1:<12.3f} {advanced_weighted_f1:<12.3f} {regularized_weighted_f1:<12.3f} {best_weighted_name:<15}\")\n",
    "\n",
    "# Overfitting analysis\n",
    "print(f\"\\n🔍 OVERFITTING COMPARISON:\")\n",
    "print(\"-\" * 60)\n",
    "\n",
    "# For regularized model\n",
    "reg_final_train = train_accuracies_reg[-1]\n",
    "reg_final_val = val_accuracies_reg[-1]\n",
    "reg_gap = reg_final_train - reg_final_val\n",
    "\n",
    "print(f\"{'Model':<15} {'Train Acc':<12} {'Val Acc':<12} {'Gap':<12} {'Status':<15}\")\n",
    "print(\"-\" * 60)\n",
    "print(f\"{'Original':<15} {'~0.98':<12} {'~0.65':<12} {'~33%':<12} {'SEVERE':<15}\")\n",
    "print(f\"{'Advanced':<15} {'0.98':<12} {'0.47':<12} {'51%':<12} {'SEVERE':<15}\")\n",
    "print(f\"{'Regularized':<15} {reg_final_train:<12.3f} {reg_final_val:<12.3f} {reg_gap*100:<11.1f}% {('GOOD' if reg_gap < 0.1 else 'MODERATE' if reg_gap < 0.15 else 'SEVERE'):<15}\")\n",
    "\n",
    "# Save regularized model results\n",
    "import os\n",
    "os.makedirs('models', exist_ok=True)\n",
    "torch.save(model_regularized.state_dict(), 'models/final_model_regularized.pt')\n",
    "joblib.dump(report_regularized, 'models/classification_report_regularized.pkl')\n",
    "\n",
    "print(f\"\\n✅ Regularized model and results saved to models/ directory\")\n",
    "\n",
    "# Final recommendation\n",
    "print(f\"\\n🎯 FINAL RECOMMENDATION:\")\n",
    "print(\"=\" * 50)\n",
    "if regularized_acc >= max(original_acc, advanced_acc) and reg_gap < 0.15:\n",
    "    print(\"🏆 USE THE REGULARIZED MODEL\")\n",
    "    print(\"  ✅ Best overall performance\")\n",
    "    print(\"  ✅ Controlled overfitting\")\n",
    "    print(\"  ✅ Good generalization\")\n",
    "elif advanced_acc > regularized_acc and advanced_acc > original_acc:\n",
    "    print(\"🏆 USE THE ADVANCED MODEL (with caution)\")\n",
    "    print(\"  ✅ Highest test accuracy\")\n",
    "    print(\"  ⚠️  Monitor for overfitting in production\")\n",
    "else:\n",
    "    print(\"🏆 USE THE ORIGINAL MODEL\")\n",
    "    print(\"  ✅ Balanced performance\")\n",
    "    print(\"  ✅ Simpler architecture\")\n",
    "\n",
    "print(f\"\\n🔥 Next step: Implement your autoencoder for the hybrid system!\")"
   ]
  },
  {
   "cell_type": "code",
   "execution_count": 121,
   "metadata": {},
   "outputs": [
    {
     "data": {
      "image/png": "[encoded data removed]",
      "text/plain": [
       "<Figure size 1600x1200 with 4 Axes>"
      ]
     },
     "metadata": {},
     "output_type": "display_data"
    },
    {
     "name": "stdout",
     "output_type": "stream",
     "text": [
      "\n",
      "🎯 ANTI-OVERFITTING TRAINING SUMMARY:\n",
      "============================================================\n",
      "✅ Regularized Model Performance:\n",
      "   - Test Accuracy: 0.6127\n",
      "   - Train-Val Gap: -0.0013 (-0.1%)\n",
      "   - Epochs Trained: 9\n",
      "   - Early Stopping: Yes\n",
      "🎉 SUCCESS: Overfitting successfully controlled!\n",
      "\n",
      "🚀 READY FOR DEPLOYMENT:\n",
      "Your best model is saved as 'best_model_regularized.pt'\n",
      "Use this for your autoencoder hybrid system!\n"
     ]
    }
   ],
   "source": [
    "# 📈 Visualize Anti-Overfitting Results\n",
    "\n",
    "import matplotlib.pyplot as plt\n",
    "import seaborn as sns\n",
    "\n",
    "# Create comparison plots\n",
    "fig, ((ax1, ax2), (ax3, ax4)) = plt.subplots(2, 2, figsize=(16, 12))\n",
    "\n",
    "# Plot 1: Training curves comparison\n",
    "epochs_reg = range(1, len(train_losses_reg) + 1)\n",
    "\n",
    "ax1.plot(epochs_reg, train_accuracies_reg, 'b-', label='Train Accuracy', linewidth=2)\n",
    "ax1.plot(epochs_reg, val_accuracies_reg, 'r-', label='Validation Accuracy', linewidth=2)\n",
    "ax1.set_title('Regularized Model: Training vs Validation Accuracy', fontsize=14, fontweight='bold')\n",
    "ax1.set_xlabel('Epoch')\n",
    "ax1.set_ylabel('Accuracy')\n",
    "ax1.legend()\n",
    "ax1.grid(True, alpha=0.3)\n",
    "\n",
    "# Add gap annotation\n",
    "final_train_acc_reg = train_accuracies_reg[-1]\n",
    "final_val_acc_reg = val_accuracies_reg[-1]\n",
    "gap_reg = final_train_acc_reg - final_val_acc_reg\n",
    "ax1.text(0.7, 0.2, f'Final Gap: {gap_reg:.3f}\\n({gap_reg*100:.1f}%)', \n",
    "         transform=ax1.transAxes, fontsize=10, \n",
    "         bbox=dict(boxstyle=\"round,pad=0.3\", facecolor=\"yellow\", alpha=0.7))\n",
    "\n",
    "# Plot 2: Loss curves\n",
    "ax2.plot(epochs_reg, train_losses_reg, 'b-', label='Train Loss', linewidth=2)\n",
    "ax2.plot(epochs_reg, val_losses_reg, 'r-', label='Validation Loss', linewidth=2)\n",
    "ax2.set_title('Regularized Model: Training vs Validation Loss', fontsize=14, fontweight='bold')\n",
    "ax2.set_xlabel('Epoch')\n",
    "ax2.set_ylabel('Loss')\n",
    "ax2.legend()\n",
    "ax2.grid(True, alpha=0.3)\n",
    "\n",
    "# Plot 3: Model comparison\n",
    "models = ['Original', 'Advanced', 'Regularized']\n",
    "accuracies = [original_acc, advanced_acc, regularized_acc]\n",
    "gaps = [0.33, 0.51, gap_reg]  # Approximate gaps\n",
    "\n",
    "x_pos = range(len(models))\n",
    "bars = ax3.bar(x_pos, accuracies, alpha=0.7, color=['skyblue', 'lightcoral', 'lightgreen'])\n",
    "ax3.set_title('Model Accuracy Comparison', fontsize=14, fontweight='bold')\n",
    "ax3.set_xlabel('Models')\n",
    "ax3.set_ylabel('Test Accuracy')\n",
    "ax3.set_xticks(x_pos)\n",
    "ax3.set_xticklabels(models)\n",
    "ax3.grid(True, alpha=0.3, axis='y')\n",
    "\n",
    "# Add accuracy values on bars\n",
    "for i, (bar, acc) in enumerate(zip(bars, accuracies)):\n",
    "    height = bar.get_height()\n",
    "    ax3.text(bar.get_x() + bar.get_width()/2., height + 0.01,\n",
    "             f'{acc:.3f}', ha='center', va='bottom', fontweight='bold')\n",
    "\n",
    "# Plot 4: Overfitting comparison\n",
    "colors = ['red', 'red', 'green' if gap_reg < 0.1 else 'orange' if gap_reg < 0.15 else 'red']\n",
    "bars2 = ax4.bar(x_pos, gaps, alpha=0.7, color=colors)\n",
    "ax4.set_title('Train-Validation Gap Comparison', fontsize=14, fontweight='bold')\n",
    "ax4.set_xlabel('Models')\n",
    "ax4.set_ylabel('Train-Val Gap')\n",
    "ax4.set_xticks(x_pos)\n",
    "ax4.set_xticklabels(models)\n",
    "ax4.grid(True, alpha=0.3, axis='y')\n",
    "ax4.axhline(y=0.1, color='orange', linestyle='--', alpha=0.7, label='Moderate Threshold')\n",
    "ax4.axhline(y=0.2, color='red', linestyle='--', alpha=0.7, label='Severe Threshold')\n",
    "ax4.legend()\n",
    "\n",
    "# Add gap values on bars\n",
    "for bar, gap in zip(bars2, gaps):\n",
    "    height = bar.get_height()\n",
    "    ax4.text(bar.get_x() + bar.get_width()/2., height + 0.01,\n",
    "             f'{gap:.2f}', ha='center', va='bottom', fontweight='bold')\n",
    "\n",
    "plt.tight_layout()\n",
    "plt.show()\n",
    "\n",
    "# Print summary\n",
    "print(\"\\n🎯 ANTI-OVERFITTING TRAINING SUMMARY:\")\n",
    "print(\"=\" * 60)\n",
    "print(f\"✅ Regularized Model Performance:\")\n",
    "print(f\"   - Test Accuracy: {regularized_acc:.4f}\")\n",
    "print(f\"   - Train-Val Gap: {gap_reg:.4f} ({gap_reg*100:.1f}%)\")\n",
    "print(f\"   - Epochs Trained: {len(train_accuracies_reg)}\")\n",
    "print(f\"   - Early Stopping: {'Yes' if len(train_accuracies_reg) < num_epochs_reg else 'No'}\")\n",
    "\n",
    "if gap_reg < 0.1:\n",
    "    print(f\"🎉 SUCCESS: Overfitting successfully controlled!\")\n",
    "elif gap_reg < 0.15:\n",
    "    print(f\"🔶 PROGRESS: Overfitting reduced but still present\")\n",
    "else:\n",
    "    print(f\"⚠️  ISSUE: Overfitting still a concern\")\n",
    "\n",
    "print(f\"\\n🚀 READY FOR DEPLOYMENT:\")\n",
    "print(f\"Your best model is saved as 'best_model_regularized.pt'\")\n",
    "print(f\"Use this for your autoencoder hybrid system!\")"
   ]
  },
  {
   "cell_type": "code",
   "execution_count": 122,
   "metadata": {},
   "outputs": [
    {
     "name": "stdout",
     "output_type": "stream",
     "text": [
      "🚀 ENHANCED REGULARIZED MODEL SETUP:\n",
      "============================================================\n",
      "✅ Enhanced Model Parameters: 168,269\n",
      "📊 Enhanced Configuration:\n",
      "   - Architecture: 384→256→128→64 with skip connections\n",
      "   - Batch Normalization: Enabled\n",
      "   - Focal Loss: α=1.0, γ=2.0\n",
      "   - Learning Rate: 0.001\n",
      "   - Weight Decay: 0.0005\n",
      "   - Batch Size: 64\n",
      "   - Max Epochs: 30\n",
      "   - Patience: 5\n",
      "   - Scheduler: CosineAnnealingWarmRestarts\n"
     ]
    }
   ],
   "source": [
    "# 🚀 ENHANCED REGULARIZED MODEL - Better Accuracy + Overfitting Control\n",
    "\n",
    "import torch.nn.functional as F\n",
    "from torch.nn import init\n",
    "\n",
    "class FocalLoss(nn.Module):\n",
    "    \"\"\"Focal Loss for handling class imbalance better than CrossEntropy\"\"\"\n",
    "    def __init__(self, alpha=1, gamma=2, reduction='mean'):\n",
    "        super(FocalLoss, self).__init__()\n",
    "        self.alpha = alpha\n",
    "        self.gamma = gamma\n",
    "        self.reduction = reduction\n",
    "\n",
    "    def forward(self, inputs, targets):\n",
    "        ce_loss = F.cross_entropy(inputs, targets, reduction='none')\n",
    "        pt = torch.exp(-ce_loss)\n",
    "        focal_loss = self.alpha * (1-pt)**self.gamma * ce_loss\n",
    "        \n",
    "        if self.reduction == 'mean':\n",
    "            return focal_loss.mean()\n",
    "        elif self.reduction == 'sum':\n",
    "            return focal_loss.sum()\n",
    "        else:\n",
    "            return focal_loss\n",
    "\n",
    "class EnhancedRegularizedDNN(nn.Module):\n",
    "    \"\"\"Enhanced DNN with skip connections, batch norm, and improved regularization\"\"\"\n",
    "    def __init__(self, input_dim, num_classes, dropout_rates=[0.5, 0.4, 0.3, 0.2]):\n",
    "        super(EnhancedRegularizedDNN, self).__init__()\n",
    "        \n",
    "        # Main pathway with batch normalization\n",
    "        self.fc1 = nn.Linear(input_dim, 384)  # Increased capacity\n",
    "        self.bn1 = nn.BatchNorm1d(384)\n",
    "        self.dropout1 = nn.Dropout(dropout_rates[0])\n",
    "        \n",
    "        self.fc2 = nn.Linear(384, 256)\n",
    "        self.bn2 = nn.BatchNorm1d(256)\n",
    "        self.dropout2 = nn.Dropout(dropout_rates[1])\n",
    "        \n",
    "        self.fc3 = nn.Linear(256, 128)\n",
    "        self.bn3 = nn.BatchNorm1d(128)\n",
    "        self.dropout3 = nn.Dropout(dropout_rates[2])\n",
    "        \n",
    "        self.fc4 = nn.Linear(128, 64)\n",
    "        self.bn4 = nn.BatchNorm1d(64)\n",
    "        self.dropout4 = nn.Dropout(dropout_rates[3])\n",
    "        \n",
    "        # Skip connection layers\n",
    "        self.skip1 = nn.Linear(input_dim, 256)  # Skip to layer 2\n",
    "        self.skip2 = nn.Linear(256, 64)         # Skip to layer 4\n",
    "        \n",
    "        # Output layer\n",
    "        self.fc_out = nn.Linear(64, num_classes)\n",
    "        \n",
    "        # Initialize weights\n",
    "        self._initialize_weights()\n",
    "    \n",
    "    def _initialize_weights(self):\n",
    "        \"\"\"Xavier/Glorot initialization for better convergence\"\"\"\n",
    "        for m in self.modules():\n",
    "            if isinstance(m, nn.Linear):\n",
    "                init.xavier_uniform_(m.weight)\n",
    "                if m.bias is not None:\n",
    "                    init.constant_(m.bias, 0)\n",
    "    \n",
    "    def forward(self, x):\n",
    "        # Main pathway\n",
    "        out1 = F.relu(self.bn1(self.fc1(x)))\n",
    "        out1 = self.dropout1(out1)\n",
    "        \n",
    "        # Layer 2 with skip connection from input\n",
    "        skip_input = self.skip1(x)\n",
    "        out2 = F.relu(self.bn2(self.fc2(out1)))\n",
    "        out2 = out2 + skip_input  # Skip connection\n",
    "        out2 = self.dropout2(out2)\n",
    "        \n",
    "        out3 = F.relu(self.bn3(self.fc3(out2)))\n",
    "        out3 = self.dropout3(out3)\n",
    "        \n",
    "        # Layer 4 with skip connection from layer 2\n",
    "        skip_layer2 = self.skip2(out2)\n",
    "        out4 = F.relu(self.bn4(self.fc4(out3)))\n",
    "        out4 = out4 + skip_layer2  # Skip connection\n",
    "        out4 = self.dropout4(out4)\n",
    "        \n",
    "        # Output\n",
    "        out = self.fc_out(out4)\n",
    "        return out\n",
    "\n",
    "# 🔧 Enhanced Training Configuration\n",
    "print(\"🚀 ENHANCED REGULARIZED MODEL SETUP:\")\n",
    "print(\"=\" * 60)\n",
    "\n",
    "# Create enhanced model\n",
    "model_enhanced = EnhancedRegularizedDNN(input_dim, num_classes).to(device)\n",
    "param_count_enhanced = sum(p.numel() for p in model_enhanced.parameters())\n",
    "print(f\"✅ Enhanced Model Parameters: {param_count_enhanced:,}\")\n",
    "\n",
    "# Enhanced training configuration\n",
    "learning_rate_enhanced = 0.001  # Slightly higher for better convergence\n",
    "weight_decay_enhanced = 5e-4   # Moderate weight decay\n",
    "num_epochs_enhanced = 30       # More epochs for better learning\n",
    "batch_size_enhanced = 64       # Optimal batch size\n",
    "patience_enhanced = 5          # More patience for stable training\n",
    "\n",
    "# Advanced optimization\n",
    "optimizer_enhanced = torch.optim.AdamW(\n",
    "    model_enhanced.parameters(), \n",
    "    lr=learning_rate_enhanced, \n",
    "    weight_decay=weight_decay_enhanced,\n",
    "    betas=(0.9, 0.999),\n",
    "    eps=1e-8\n",
    ")\n",
    "\n",
    "# Focal Loss for better class handling\n",
    "criterion_enhanced = FocalLoss(alpha=1.0, gamma=2.0)\n",
    "\n",
    "# Cosine Annealing with Warm Restarts\n",
    "scheduler_enhanced = torch.optim.lr_scheduler.CosineAnnealingWarmRestarts(\n",
    "    optimizer_enhanced, T_0=10, T_mult=2, eta_min=1e-6\n",
    ")\n",
    "\n",
    "# Enhanced data loaders with optimal batch size\n",
    "train_dataset_enhanced = TensorDataset(X_train_balanced_tensor, y_train_balanced_tensor)\n",
    "val_dataset_enhanced = TensorDataset(X_val_tensor, y_val_tensor)\n",
    "test_dataset_enhanced = TensorDataset(X_test_tensor, y_test_tensor)\n",
    "\n",
    "train_loader_enhanced = DataLoader(train_dataset_enhanced, batch_size=batch_size_enhanced, shuffle=True)\n",
    "val_loader_enhanced = DataLoader(val_dataset_enhanced, batch_size=batch_size_enhanced, shuffle=False)\n",
    "test_loader_enhanced = DataLoader(test_dataset_enhanced, batch_size=batch_size_enhanced, shuffle=False)\n",
    "\n",
    "print(f\"📊 Enhanced Configuration:\")\n",
    "print(f\"   - Architecture: 384→256→128→64 with skip connections\")\n",
    "print(f\"   - Batch Normalization: Enabled\")\n",
    "print(f\"   - Focal Loss: α=1.0, γ=2.0\")\n",
    "print(f\"   - Learning Rate: {learning_rate_enhanced}\")\n",
    "print(f\"   - Weight Decay: {weight_decay_enhanced}\")\n",
    "print(f\"   - Batch Size: {batch_size_enhanced}\")\n",
    "print(f\"   - Max Epochs: {num_epochs_enhanced}\")\n",
    "print(f\"   - Patience: {patience_enhanced}\")\n",
    "print(f\"   - Scheduler: CosineAnnealingWarmRestarts\")"
   ]
  },
  {
   "cell_type": "code",
   "execution_count": 123,
   "metadata": {},
   "outputs": [
    {
     "name": "stdout",
     "output_type": "stream",
     "text": [
      "🚀 Starting Enhanced Training...\n",
      "======================================================================\n"
     ]
    },
    {
     "name": "stderr",
     "output_type": "stream",
     "text": [
      "Epoch 1/30: 100%|██████████| 3042/3042 [00:30<00:00, 100.03it/s, accuracy=91.2%, loss=0.004]\n"
     ]
    },
    {
     "name": "stdout",
     "output_type": "stream",
     "text": [
      "Epoch [1/30]\n",
      "  Train Loss: 0.1652, Train Acc: 0.9116\n",
      "  Val Loss: 1.3199, Val Acc: 0.5979\n",
      "  Train-Val Gap: 0.3137 (31.4%)\n",
      "  LR: 0.001000, Grad Norm: 1.2655\n",
      "  ✅ New best model saved! Val Acc: 0.5979\n",
      "  ⚠️  Overfitting detected (31.4%)\n",
      "----------------------------------------------------------------------\n"
     ]
    },
    {
     "name": "stderr",
     "output_type": "stream",
     "text": [
      "Epoch 2/30: 100%|██████████| 3042/3042 [00:29<00:00, 102.25it/s, accuracy=94.0%, loss=2.836]\n"
     ]
    },
    {
     "name": "stdout",
     "output_type": "stream",
     "text": [
      "Epoch [2/30]\n",
      "  Train Loss: 0.0897, Train Acc: 0.9402\n",
      "  Val Loss: 1.0267, Val Acc: 0.6294\n",
      "  Train-Val Gap: 0.3108 (31.1%)\n",
      "  LR: 0.000976, Grad Norm: 1.1302\n",
      "  ✅ New best model saved! Val Acc: 0.6294\n",
      "  ⚠️  Overfitting detected (31.1%)\n",
      "----------------------------------------------------------------------\n"
     ]
    },
    {
     "name": "stderr",
     "output_type": "stream",
     "text": [
      "Epoch 3/30: 100%|██████████| 3042/3042 [00:28<00:00, 105.03it/s, accuracy=94.8%, loss=0.070]\n"
     ]
    },
    {
     "name": "stdout",
     "output_type": "stream",
     "text": [
      "Epoch [3/30]\n",
      "  Train Loss: 0.0728, Train Acc: 0.9484\n",
      "  Val Loss: 1.0891, Val Acc: 0.6589\n",
      "  Train-Val Gap: 0.2896 (29.0%)\n",
      "  LR: 0.000905, Grad Norm: 1.0525\n",
      "  ✅ New best model saved! Val Acc: 0.6589\n",
      "  ⚠️  Overfitting detected (29.0%)\n",
      "----------------------------------------------------------------------\n"
     ]
    },
    {
     "name": "stderr",
     "output_type": "stream",
     "text": [
      "Epoch 4/30: 100%|██████████| 3042/3042 [00:28<00:00, 105.26it/s, accuracy=95.4%, loss=0.000]\n"
     ]
    },
    {
     "name": "stdout",
     "output_type": "stream",
     "text": [
      "Epoch [4/30]\n",
      "  Train Loss: 0.0629, Train Acc: 0.9542\n",
      "  Val Loss: 1.8405, Val Acc: 0.5949\n",
      "  Train-Val Gap: 0.3593 (35.9%)\n",
      "  LR: 0.000794, Grad Norm: 1.0576\n",
      "  ⏳ Patience: 1/5\n",
      "  ⚠️  Overfitting detected (35.9%)\n",
      "----------------------------------------------------------------------\n"
     ]
    },
    {
     "name": "stderr",
     "output_type": "stream",
     "text": [
      "Epoch 5/30: 100%|██████████| 3042/3042 [00:29<00:00, 104.05it/s, accuracy=95.9%, loss=0.021]\n"
     ]
    },
    {
     "name": "stdout",
     "output_type": "stream",
     "text": [
      "Epoch [5/30]\n",
      "  Train Loss: 0.0558, Train Acc: 0.9585\n",
      "  Val Loss: 1.1918, Val Acc: 0.6737\n",
      "  Train-Val Gap: 0.2848 (28.5%)\n",
      "  LR: 0.000655, Grad Norm: 1.0610\n",
      "  ✅ New best model saved! Val Acc: 0.6737\n",
      "  ⚠️  Overfitting detected (28.5%)\n",
      "----------------------------------------------------------------------\n"
     ]
    },
    {
     "name": "stderr",
     "output_type": "stream",
     "text": [
      "Epoch 6/30: 100%|██████████| 3042/3042 [00:29<00:00, 104.02it/s, accuracy=96.2%, loss=0.030]\n"
     ]
    },
    {
     "name": "stdout",
     "output_type": "stream",
     "text": [
      "Epoch [6/30]\n",
      "  Train Loss: 0.0498, Train Acc: 0.9622\n",
      "  Val Loss: 1.1575, Val Acc: 0.6522\n",
      "  Train-Val Gap: 0.3099 (31.0%)\n",
      "  LR: 0.000501, Grad Norm: 1.0030\n",
      "  ⏳ Patience: 1/5\n",
      "  ⚠️  Overfitting detected (31.0%)\n",
      "----------------------------------------------------------------------\n"
     ]
    },
    {
     "name": "stderr",
     "output_type": "stream",
     "text": [
      "Epoch 7/30: 100%|██████████| 3042/3042 [00:29<00:00, 103.99it/s, accuracy=96.6%, loss=1.547]\n"
     ]
    },
    {
     "name": "stdout",
     "output_type": "stream",
     "text": [
      "Epoch [7/30]\n",
      "  Train Loss: 0.0445, Train Acc: 0.9663\n",
      "  Val Loss: 1.2454, Val Acc: 0.6879\n",
      "  Train-Val Gap: 0.2784 (27.8%)\n",
      "  LR: 0.000346, Grad Norm: 0.9937\n",
      "  ✅ New best model saved! Val Acc: 0.6879\n",
      "  ⚠️  Overfitting detected (27.8%)\n",
      "----------------------------------------------------------------------\n"
     ]
    },
    {
     "name": "stderr",
     "output_type": "stream",
     "text": [
      "Epoch 8/30: 100%|██████████| 3042/3042 [00:29<00:00, 102.99it/s, accuracy=96.9%, loss=1.485]\n"
     ]
    },
    {
     "name": "stdout",
     "output_type": "stream",
     "text": [
      "Epoch [8/30]\n",
      "  Train Loss: 0.0408, Train Acc: 0.9694\n",
      "  Val Loss: 1.2941, Val Acc: 0.6846\n",
      "  Train-Val Gap: 0.2849 (28.5%)\n",
      "  LR: 0.000207, Grad Norm: 0.9743\n",
      "  ⏳ Patience: 1/5\n",
      "  ⚠️  Overfitting detected (28.5%)\n",
      "----------------------------------------------------------------------\n"
     ]
    },
    {
     "name": "stderr",
     "output_type": "stream",
     "text": [
      "Epoch 9/30: 100%|██████████| 3042/3042 [00:29<00:00, 103.39it/s, accuracy=97.2%, loss=0.423]\n"
     ]
    },
    {
     "name": "stdout",
     "output_type": "stream",
     "text": [
      "Epoch [9/30]\n",
      "  Train Loss: 0.0372, Train Acc: 0.9722\n",
      "  Val Loss: 1.2945, Val Acc: 0.6921\n",
      "  Train-Val Gap: 0.2800 (28.0%)\n",
      "  LR: 0.000096, Grad Norm: 0.9157\n",
      "  ✅ New best model saved! Val Acc: 0.6921\n",
      "  ⚠️  Overfitting detected (28.0%)\n",
      "----------------------------------------------------------------------\n"
     ]
    },
    {
     "name": "stderr",
     "output_type": "stream",
     "text": [
      "Epoch 10/30: 100%|██████████| 3042/3042 [00:29<00:00, 103.61it/s, accuracy=97.2%, loss=0.039]\n"
     ]
    },
    {
     "name": "stdout",
     "output_type": "stream",
     "text": [
      "Epoch [10/30]\n",
      "  Train Loss: 0.0362, Train Acc: 0.9724\n",
      "  Val Loss: 2.1087, Val Acc: 0.5766\n",
      "  Train-Val Gap: 0.3959 (39.6%)\n",
      "  LR: 0.000025, Grad Norm: 0.9169\n",
      "  ⏳ Patience: 1/5\n",
      "  ⚠️  Overfitting detected (39.6%)\n",
      "----------------------------------------------------------------------\n"
     ]
    },
    {
     "name": "stderr",
     "output_type": "stream",
     "text": [
      "Epoch 11/30: 100%|██████████| 3042/3042 [00:29<00:00, 102.66it/s, accuracy=95.9%, loss=0.012]\n"
     ]
    },
    {
     "name": "stdout",
     "output_type": "stream",
     "text": [
      "Epoch [11/30]\n",
      "  Train Loss: 0.0570, Train Acc: 0.9586\n",
      "  Val Loss: 1.9885, Val Acc: 0.5858\n",
      "  Train-Val Gap: 0.3728 (37.3%)\n",
      "  LR: 0.001000, Grad Norm: 1.1321\n",
      "  ⏳ Patience: 2/5\n",
      "  ⚠️  Overfitting detected (37.3%)\n",
      "----------------------------------------------------------------------\n"
     ]
    },
    {
     "name": "stderr",
     "output_type": "stream",
     "text": [
      "Epoch 12/30: 100%|██████████| 3042/3042 [00:29<00:00, 103.11it/s, accuracy=96.1%, loss=0.001]\n"
     ]
    },
    {
     "name": "stdout",
     "output_type": "stream",
     "text": [
      "Epoch [12/30]\n",
      "  Train Loss: 0.0537, Train Acc: 0.9610\n",
      "  Val Loss: 1.2547, Val Acc: 0.6908\n",
      "  Train-Val Gap: 0.2702 (27.0%)\n",
      "  LR: 0.000994, Grad Norm: 0.9396\n",
      "  ⏳ Patience: 3/5\n",
      "  ⚠️  Overfitting detected (27.0%)\n",
      "----------------------------------------------------------------------\n"
     ]
    },
    {
     "name": "stderr",
     "output_type": "stream",
     "text": [
      "Epoch 13/30: 100%|██████████| 3042/3042 [00:29<00:00, 103.46it/s, accuracy=96.2%, loss=1.279]\n"
     ]
    },
    {
     "name": "stdout",
     "output_type": "stream",
     "text": [
      "Epoch [13/30]\n",
      "  Train Loss: 0.0520, Train Acc: 0.9625\n",
      "  Val Loss: 1.1896, Val Acc: 0.6924\n",
      "  Train-Val Gap: 0.2700 (27.0%)\n",
      "  LR: 0.000976, Grad Norm: 0.9295\n",
      "  ✅ New best model saved! Val Acc: 0.6924\n",
      "  ⚠️  Overfitting detected (27.0%)\n",
      "----------------------------------------------------------------------\n"
     ]
    },
    {
     "name": "stderr",
     "output_type": "stream",
     "text": [
      "Epoch 14/30: 100%|██████████| 3042/3042 [00:29<00:00, 102.36it/s, accuracy=96.4%, loss=0.332]\n"
     ]
    },
    {
     "name": "stdout",
     "output_type": "stream",
     "text": [
      "Epoch [14/30]\n",
      "  Train Loss: 0.0483, Train Acc: 0.9638\n",
      "  Val Loss: 1.1851, Val Acc: 0.6843\n",
      "  Train-Val Gap: 0.2796 (28.0%)\n",
      "  LR: 0.000946, Grad Norm: 0.8710\n",
      "  ⏳ Patience: 1/5\n",
      "  ⚠️  Overfitting detected (28.0%)\n",
      "----------------------------------------------------------------------\n"
     ]
    },
    {
     "name": "stderr",
     "output_type": "stream",
     "text": [
      "Epoch 15/30: 100%|██████████| 3042/3042 [00:29<00:00, 102.70it/s, accuracy=96.5%, loss=0.464]\n"
     ]
    },
    {
     "name": "stdout",
     "output_type": "stream",
     "text": [
      "Epoch [15/30]\n",
      "  Train Loss: 0.0461, Train Acc: 0.9650\n",
      "  Val Loss: 2.1258, Val Acc: 0.5909\n",
      "  Train-Val Gap: 0.3741 (37.4%)\n",
      "  LR: 0.000905, Grad Norm: 0.8736\n",
      "  ⏳ Patience: 2/5\n",
      "  ⚠️  Overfitting detected (37.4%)\n",
      "----------------------------------------------------------------------\n"
     ]
    },
    {
     "name": "stderr",
     "output_type": "stream",
     "text": [
      "Epoch 16/30: 100%|██████████| 3042/3042 [00:29<00:00, 102.89it/s, accuracy=96.6%, loss=0.012]\n"
     ]
    },
    {
     "name": "stdout",
     "output_type": "stream",
     "text": [
      "Epoch [16/30]\n",
      "  Train Loss: 0.0459, Train Acc: 0.9663\n",
      "  Val Loss: 1.3778, Val Acc: 0.6916\n",
      "  Train-Val Gap: 0.2747 (27.5%)\n",
      "  LR: 0.000854, Grad Norm: 0.8512\n",
      "  ⏳ Patience: 3/5\n",
      "  ⚠️  Overfitting detected (27.5%)\n",
      "----------------------------------------------------------------------\n"
     ]
    },
    {
     "name": "stderr",
     "output_type": "stream",
     "text": [
      "Epoch 17/30: 100%|██████████| 3042/3042 [00:29<00:00, 102.69it/s, accuracy=96.8%, loss=0.028]\n"
     ]
    },
    {
     "name": "stdout",
     "output_type": "stream",
     "text": [
      "Epoch [17/30]\n",
      "  Train Loss: 0.0449, Train Acc: 0.9683\n",
      "  Val Loss: 2.2732, Val Acc: 0.5946\n",
      "  Train-Val Gap: 0.3737 (37.4%)\n",
      "  LR: 0.000794, Grad Norm: 0.8205\n",
      "  ⏳ Patience: 4/5\n",
      "  ⚠️  Overfitting detected (37.4%)\n",
      "----------------------------------------------------------------------\n"
     ]
    },
    {
     "name": "stderr",
     "output_type": "stream",
     "text": [
      "Epoch 18/30: 100%|██████████| 3042/3042 [00:29<00:00, 103.71it/s, accuracy=96.9%, loss=0.000]\n"
     ]
    },
    {
     "name": "stdout",
     "output_type": "stream",
     "text": [
      "Epoch [18/30]\n",
      "  Train Loss: 0.0408, Train Acc: 0.9687\n",
      "  Val Loss: 1.3689, Val Acc: 0.6790\n",
      "  Train-Val Gap: 0.2897 (29.0%)\n",
      "  LR: 0.000727, Grad Norm: 0.8185\n",
      "  ⏳ Patience: 5/5\n",
      "  ⚠️  Overfitting detected (29.0%)\n",
      "----------------------------------------------------------------------\n",
      "🛑 Early stopping triggered! (Patience: 5)\n",
      "\n",
      "🎉 ENHANCED TRAINING COMPLETED!\n",
      "✅ Best validation accuracy: 0.6924\n",
      "✅ Total epochs trained: 18\n"
     ]
    }
   ],
   "source": [
    "# 🔥 Enhanced Training with Advanced Monitoring\n",
    "\n",
    "def train_enhanced_model():\n",
    "    \"\"\"Enhanced training with comprehensive monitoring\"\"\"\n",
    "    model_enhanced.train()\n",
    "    \n",
    "    # Training tracking\n",
    "    train_losses_enhanced = []\n",
    "    train_accuracies_enhanced = []\n",
    "    val_losses_enhanced = []\n",
    "    val_accuracies_enhanced = []\n",
    "    learning_rates = []\n",
    "    \n",
    "    best_val_acc_enhanced = 0.0\n",
    "    patience_counter_enhanced = 0\n",
    "    gradient_norms = []\n",
    "    \n",
    "    print(\"🚀 Starting Enhanced Training...\")\n",
    "    print(\"=\" * 70)\n",
    "    \n",
    "    for epoch in range(num_epochs_enhanced):\n",
    "        # Training phase\n",
    "        model_enhanced.train()\n",
    "        running_loss = 0.0\n",
    "        correct = 0\n",
    "        total = 0\n",
    "        epoch_grad_norms = []\n",
    "        \n",
    "        tepoch = tqdm(train_loader_enhanced, desc=f'Epoch {epoch+1}/{num_epochs_enhanced}')\n",
    "        \n",
    "        for X_batch, y_batch in tepoch:\n",
    "            X_batch, y_batch = X_batch.to(device), y_batch.to(device)\n",
    "            \n",
    "            optimizer_enhanced.zero_grad()\n",
    "            outputs = model_enhanced(X_batch)\n",
    "            loss = criterion_enhanced(outputs, y_batch)\n",
    "            \n",
    "            loss.backward()\n",
    "            \n",
    "            # Gradient clipping and monitoring\n",
    "            grad_norm = torch.nn.utils.clip_grad_norm_(model_enhanced.parameters(), max_norm=1.0)\n",
    "            epoch_grad_norms.append(grad_norm.item())\n",
    "            \n",
    "            optimizer_enhanced.step()\n",
    "            \n",
    "            running_loss += loss.item()\n",
    "            _, predicted = torch.max(outputs.data, 1)\n",
    "            total += y_batch.size(0)\n",
    "            correct += (predicted == y_batch).sum().item()\n",
    "            \n",
    "            # Update progress bar\n",
    "            current_acc = 100. * correct / total\n",
    "            tepoch.set_postfix(accuracy=f'{current_acc:.1f}%', loss=f'{loss.item():.3f}')\n",
    "        \n",
    "        avg_grad_norm = sum(epoch_grad_norms) / len(epoch_grad_norms)\n",
    "        gradient_norms.append(avg_grad_norm)\n",
    "        \n",
    "        # Calculate training metrics\n",
    "        train_loss = running_loss / len(train_loader_enhanced)\n",
    "        train_acc = correct / total\n",
    "        train_losses_enhanced.append(train_loss)\n",
    "        train_accuracies_enhanced.append(train_acc)\n",
    "        \n",
    "        # Validation phase\n",
    "        model_enhanced.eval()\n",
    "        val_loss = 0.0\n",
    "        val_correct = 0\n",
    "        val_total = 0\n",
    "        \n",
    "        with torch.no_grad():\n",
    "            for X_batch, y_batch in val_loader_enhanced:\n",
    "                X_batch, y_batch = X_batch.to(device), y_batch.to(device)\n",
    "                outputs = model_enhanced(X_batch)\n",
    "                loss = criterion_enhanced(outputs, y_batch)\n",
    "                \n",
    "                val_loss += loss.item()\n",
    "                _, predicted = torch.max(outputs.data, 1)\n",
    "                val_total += y_batch.size(0)\n",
    "                val_correct += (predicted == y_batch).sum().item()\n",
    "        \n",
    "        val_loss = val_loss / len(val_loader_enhanced)\n",
    "        val_acc = val_correct / val_total\n",
    "        val_losses_enhanced.append(val_loss)\n",
    "        val_accuracies_enhanced.append(val_acc)\n",
    "        \n",
    "        # Learning rate tracking\n",
    "        current_lr = optimizer_enhanced.param_groups[0]['lr']\n",
    "        learning_rates.append(current_lr)\n",
    "        \n",
    "        # Calculate train-validation gap\n",
    "        train_val_gap = train_acc - val_acc\n",
    "        \n",
    "        # Print epoch results\n",
    "        print(f\"Epoch [{epoch+1}/{num_epochs_enhanced}]\")\n",
    "        print(f\"  Train Loss: {train_loss:.4f}, Train Acc: {train_acc:.4f}\")\n",
    "        print(f\"  Val Loss: {val_loss:.4f}, Val Acc: {val_acc:.4f}\")\n",
    "        print(f\"  Train-Val Gap: {train_val_gap:.4f} ({train_val_gap*100:.1f}%)\")\n",
    "        print(f\"  LR: {current_lr:.6f}, Grad Norm: {avg_grad_norm:.4f}\")\n",
    "        \n",
    "        # Save best model\n",
    "        if val_acc > best_val_acc_enhanced:\n",
    "            best_val_acc_enhanced = val_acc\n",
    "            torch.save(model_enhanced.state_dict(), 'models/best_model_enhanced.pt')\n",
    "            print(f\"  ✅ New best model saved! Val Acc: {val_acc:.4f}\")\n",
    "            patience_counter_enhanced = 0\n",
    "        else:\n",
    "            patience_counter_enhanced += 1\n",
    "            print(f\"  ⏳ Patience: {patience_counter_enhanced}/{patience_enhanced}\")\n",
    "        \n",
    "        # Overfitting monitoring\n",
    "        if abs(train_val_gap) < 0.05:\n",
    "            print(f\"  ✅ Excellent train-val balance ({train_val_gap*100:.1f}%)\")\n",
    "        elif abs(train_val_gap) < 0.1:\n",
    "            print(f\"  🔶 Good train-val balance ({train_val_gap*100:.1f}%)\")\n",
    "        elif train_val_gap > 0.1:\n",
    "            print(f\"  ⚠️  Overfitting detected ({train_val_gap*100:.1f}%)\")\n",
    "        \n",
    "        # Learning rate scheduling\n",
    "        scheduler_enhanced.step()\n",
    "        \n",
    "        print(\"-\" * 70)\n",
    "        \n",
    "        # Early stopping\n",
    "        if patience_counter_enhanced >= patience_enhanced:\n",
    "            print(f\"🛑 Early stopping triggered! (Patience: {patience_enhanced})\")\n",
    "            break\n",
    "    \n",
    "    print(f\"\\n🎉 ENHANCED TRAINING COMPLETED!\")\n",
    "    print(f\"✅ Best validation accuracy: {best_val_acc_enhanced:.4f}\")\n",
    "    print(f\"✅ Total epochs trained: {epoch+1}\")\n",
    "    \n",
    "    return (train_losses_enhanced, train_accuracies_enhanced, \n",
    "            val_losses_enhanced, val_accuracies_enhanced, \n",
    "            learning_rates, gradient_norms)\n",
    "\n",
    "# Start enhanced training\n",
    "results_enhanced = train_enhanced_model()"
   ]
  },
  {
   "cell_type": "code",
   "execution_count": 125,
   "metadata": {},
   "outputs": [
    {
     "name": "stdout",
     "output_type": "stream",
     "text": [
      "Evaluating enhanced model on test set...\n"
     ]
    },
    {
     "name": "stderr",
     "output_type": "stream",
     "text": [
      "Evaluating Enhanced Model: 100%|██████████| 1618/1618 [00:02<00:00, 655.22it/s]\n",
      "Evaluating Enhanced Model: 100%|██████████| 1618/1618 [00:02<00:00, 655.22it/s]\n"
     ]
    },
    {
     "name": "stdout",
     "output_type": "stream",
     "text": [
      "\n",
      "🎯 ENHANCED MODEL - Classification Report:\n",
      "==========================================================================================\n",
      "                       precision    recall  f1-score   support\n",
      "\n",
      "             Backdoor       0.54      0.39      0.45      4612\n",
      "            DDoS_HTTP       0.49      0.61      0.54      9350\n",
      "            DDoS_ICMP       1.00      0.99      1.00     13588\n",
      "             DDoS_TCP       0.72      1.00      0.84      8297\n",
      "             DDoS_UDP       1.00      1.00      1.00     24313\n",
      "                 MITM       1.00      0.74      0.85        23\n",
      "             Password       0.80      0.14      0.24      9101\n",
      "        Port_Scanning       0.00      0.00      0.00      3705\n",
      "           Ransomware       0.72      0.39      0.51      1888\n",
      "        SQL_injection       0.28      0.82      0.41      9209\n",
      "            Uploading       0.76      0.14      0.23      7065\n",
      "Vulnerability_scanner       0.94      0.80      0.87      9494\n",
      "                  XSS       1.00      0.05      0.09      2906\n",
      "\n",
      "             accuracy                           0.69    103551\n",
      "            macro avg       0.71      0.54      0.54    103551\n",
      "         weighted avg       0.77      0.69      0.67    103551\n",
      "\n",
      "\n",
      "🏆 ULTIMATE MODEL COMPARISON:\n",
      "====================================================================================================\n",
      "Metric                    Original     Advanced     Regularized  Enhanced     Best Model     \n",
      "----------------------------------------------------------------------------------------------------\n",
      "Overall Accuracy          0.6382       0.6992       0.6127       0.6939       Advanced       \n",
      "Macro F1-Score            0.5265       0.5486       0.4458       0.5410       Advanced       \n",
      "Weighted F1-Score         0.6299       0.6720       0.5872       0.6667       Advanced       \n",
      "\n",
      "🔍 OVERFITTING COMPARISON:\n",
      "----------------------------------------------------------------------\n",
      "Model           Train Acc    Val Acc      Gap          Status         \n",
      "----------------------------------------------------------------------\n",
      "Original        0.980        0.650        0.330        SEVERE         \n",
      "Advanced        0.980        0.470        0.510        SEVERE         \n",
      "Regularized     0.603        0.604        -0.001       EXCELLENT      \n",
      "Enhanced        0.969        0.679        0.290        SEVERE         \n",
      "\n",
      "🎯 FINAL RECOMMENDATIONS:\n",
      "============================================================\n",
      "📈 Enhanced Model Improvements over Regularized:\n",
      "   - Accuracy: +0.0812 (+8.1%)\n",
      "   - Macro F1: +0.0952 (+9.5%)\n",
      "   - Weighted F1: +0.0795 (+8.0%)\n",
      "\n",
      "🏆 RECOMMENDED MODEL: Regularized Model\n",
      "   ✅ Excellent overfitting control: -0.001\n",
      "   ✅ Stable performance: 0.6127\n",
      "\n",
      "🚀 READY FOR HYBRID SYSTEM:\n",
      "Your optimized DNN is ready for autoencoder integration!\n"
     ]
    }
   ],
   "source": [
    "# 📊 Enhanced Model Evaluation and Comprehensive Comparison\n",
    "\n",
    "import pickle\n",
    "from sklearn.metrics import classification_report, confusion_matrix\n",
    "\n",
    "def evaluate_enhanced_model():\n",
    "    \"\"\"Comprehensive evaluation of the enhanced model\"\"\"\n",
    "    # Load best enhanced model\n",
    "    model_enhanced.load_state_dict(torch.load('models/best_model_enhanced.pt'))\n",
    "    model_enhanced.eval()\n",
    "    \n",
    "    print(\"Evaluating enhanced model on test set...\")\n",
    "    \n",
    "    # Test evaluation\n",
    "    test_correct = 0\n",
    "    test_total = 0\n",
    "    all_predictions = []\n",
    "    all_targets = []\n",
    "    \n",
    "    with torch.no_grad():\n",
    "        for X_batch, y_batch in tqdm(test_loader_enhanced, desc=\"Evaluating Enhanced Model\"):\n",
    "            X_batch, y_batch = X_batch.to(device), y_batch.to(device)\n",
    "            outputs = model_enhanced(X_batch)\n",
    "            _, predicted = torch.max(outputs, 1)\n",
    "            \n",
    "            test_total += y_batch.size(0)\n",
    "            test_correct += (predicted == y_batch).sum().item()\n",
    "            \n",
    "            all_predictions.extend(predicted.cpu().numpy())\n",
    "            all_targets.extend(y_batch.cpu().numpy())\n",
    "    \n",
    "    enhanced_acc = test_correct / test_total\n",
    "    \n",
    "    # Generate classification report\n",
    "    class_names = [label_encoder.inverse_transform([i])[0] for i in range(num_classes)]\n",
    "    report_enhanced = classification_report(all_targets, all_predictions, \n",
    "                                          target_names=class_names, \n",
    "                                          output_dict=True, zero_division=0)\n",
    "    \n",
    "    print(f\"\\n🎯 ENHANCED MODEL - Classification Report:\")\n",
    "    print(\"=\" * 90)\n",
    "    print(classification_report(all_targets, all_predictions, \n",
    "                              target_names=class_names, zero_division=0))\n",
    "    \n",
    "    # Calculate metrics\n",
    "    enhanced_macro_f1 = report_enhanced['macro avg']['f1-score']\n",
    "    enhanced_weighted_f1 = report_enhanced['weighted avg']['f1-score']\n",
    "    \n",
    "    # Save enhanced model results\n",
    "    torch.save(model_enhanced.state_dict(), 'models/final_model_enhanced.pt')\n",
    "    \n",
    "    with open('models/classification_report_enhanced.pkl', 'wb') as f:\n",
    "        pickle.dump(report_enhanced, f)\n",
    "    \n",
    "    return enhanced_acc, enhanced_macro_f1, enhanced_weighted_f1, all_predictions, all_targets\n",
    "\n",
    "# Evaluate enhanced model\n",
    "enhanced_acc, enhanced_macro_f1, enhanced_weighted_f1, enhanced_preds, enhanced_targets = evaluate_enhanced_model()\n",
    "\n",
    "# 🏆 ULTIMATE MODEL COMPARISON\n",
    "print(f\"\\n🏆 ULTIMATE MODEL COMPARISON:\")\n",
    "print(\"=\" * 100)\n",
    "print(f\"{'Metric':<25} {'Original':<12} {'Advanced':<12} {'Regularized':<12} {'Enhanced':<12} {'Best Model':<15}\")\n",
    "print(\"-\" * 100)\n",
    "print(f\"{'Overall Accuracy':<25} {original_acc:<12.4f} {advanced_acc:<12.4f} {regularized_acc:<12.4f} {enhanced_acc:<12.4f} \", end=\"\")\n",
    "\n",
    "# Determine best accuracy\n",
    "best_acc_models = ['Original', 'Advanced', 'Regularized', 'Enhanced']\n",
    "best_acc_values = [original_acc, advanced_acc, regularized_acc, enhanced_acc]\n",
    "best_acc_idx = best_acc_values.index(max(best_acc_values))\n",
    "print(f\"{best_acc_models[best_acc_idx]:<15}\")\n",
    "\n",
    "print(f\"{'Macro F1-Score':<25} {original_macro_f1:<12.4f} {advanced_macro_f1:<12.4f} {regularized_macro_f1:<12.4f} {enhanced_macro_f1:<12.4f} \", end=\"\")\n",
    "\n",
    "# Determine best macro F1\n",
    "best_macro_values = [original_macro_f1, advanced_macro_f1, regularized_macro_f1, enhanced_macro_f1]\n",
    "best_macro_idx = best_macro_values.index(max(best_macro_values))\n",
    "print(f\"{best_acc_models[best_macro_idx]:<15}\")\n",
    "\n",
    "print(f\"{'Weighted F1-Score':<25} {original_weighted_f1:<12.4f} {advanced_weighted_f1:<12.4f} {regularized_weighted_f1:<12.4f} {enhanced_weighted_f1:<12.4f} \", end=\"\")\n",
    "\n",
    "# Determine best weighted F1\n",
    "best_weighted_values = [original_weighted_f1, advanced_weighted_f1, regularized_weighted_f1, enhanced_weighted_f1]\n",
    "best_weighted_idx = best_weighted_values.index(max(best_weighted_values))\n",
    "print(f\"{best_acc_models[best_weighted_idx]:<15}\")\n",
    "\n",
    "# 🔍 OVERFITTING ANALYSIS UPDATE\n",
    "print(f\"\\n🔍 OVERFITTING COMPARISON:\")\n",
    "print(\"-\" * 70)\n",
    "print(f\"{'Model':<15} {'Train Acc':<12} {'Val Acc':<12} {'Gap':<12} {'Status':<15}\")\n",
    "print(\"-\" * 70)\n",
    "\n",
    "# Get final training results for enhanced model\n",
    "if len(results_enhanced) >= 4:\n",
    "    train_accs_enh, val_accs_enh = results_enhanced[1], results_enhanced[3]\n",
    "    if train_accs_enh and val_accs_enh:\n",
    "        final_train_enh = train_accs_enh[-1]\n",
    "        final_val_enh = val_accs_enh[-1]\n",
    "        gap_enhanced = final_train_enh - final_val_enh\n",
    "    else:\n",
    "        gap_enhanced = 0.0\n",
    "        final_train_enh = 0.0\n",
    "        final_val_enh = 0.0\n",
    "else:\n",
    "    gap_enhanced = 0.0\n",
    "    final_train_enh = 0.0\n",
    "    final_val_enh = 0.0\n",
    "\n",
    "# Print overfitting comparison\n",
    "models_overfitting = [\n",
    "    ('Original', 0.98, 0.65, 0.33),\n",
    "    ('Advanced', 0.98, 0.47, 0.51),\n",
    "    ('Regularized', reg_final_train, reg_final_val, reg_gap),\n",
    "    ('Enhanced', final_train_enh, final_val_enh, gap_enhanced)\n",
    "]\n",
    "\n",
    "for model_name, train_acc, val_acc, gap in models_overfitting:\n",
    "    if gap < 0.05:\n",
    "        status = \"EXCELLENT\"\n",
    "    elif gap < 0.1:\n",
    "        status = \"GOOD\"\n",
    "    elif gap < 0.2:\n",
    "        status = \"MODERATE\"\n",
    "    else:\n",
    "        status = \"SEVERE\"\n",
    "    \n",
    "    print(f\"{model_name:<15} {train_acc:<12.3f} {val_acc:<12.3f} {gap:<12.3f} {status:<15}\")\n",
    "\n",
    "# 🎯 FINAL RECOMMENDATIONS\n",
    "print(f\"\\n🎯 FINAL RECOMMENDATIONS:\")\n",
    "print(\"=\" * 60)\n",
    "\n",
    "# Calculate improvement from regularized to enhanced\n",
    "acc_improvement = enhanced_acc - regularized_acc\n",
    "macro_improvement = enhanced_macro_f1 - regularized_macro_f1\n",
    "weighted_improvement = enhanced_weighted_f1 - regularized_weighted_f1\n",
    "\n",
    "print(f\"📈 Enhanced Model Improvements over Regularized:\")\n",
    "print(f\"   - Accuracy: {acc_improvement:+.4f} ({acc_improvement*100:+.1f}%)\")\n",
    "print(f\"   - Macro F1: {macro_improvement:+.4f} ({macro_improvement*100:+.1f}%)\")\n",
    "print(f\"   - Weighted F1: {weighted_improvement:+.4f} ({weighted_improvement*100:+.1f}%)\")\n",
    "\n",
    "# Select best model overall\n",
    "if enhanced_acc > regularized_acc and gap_enhanced < 0.15:\n",
    "    recommended_model = \"Enhanced\"\n",
    "    print(f\"\\n🏆 RECOMMENDED MODEL: Enhanced Model\")\n",
    "    print(f\"   ✅ Best accuracy: {enhanced_acc:.4f}\")\n",
    "    print(f\"   ✅ Controlled overfitting: {gap_enhanced:.3f}\")\n",
    "    print(f\"   ✅ Model saved as: models/final_model_enhanced.pt\")\n",
    "elif regularized_acc > 0.6 and reg_gap < 0.1:\n",
    "    recommended_model = \"Regularized\"\n",
    "    print(f\"\\n🏆 RECOMMENDED MODEL: Regularized Model\")\n",
    "    print(f\"   ✅ Excellent overfitting control: {reg_gap:.3f}\")\n",
    "    print(f\"   ✅ Stable performance: {regularized_acc:.4f}\")\n",
    "else:\n",
    "    recommended_model = \"Advanced\"\n",
    "    print(f\"\\n🏆 RECOMMENDED MODEL: Advanced Model (with monitoring)\")\n",
    "    print(f\"   ✅ Highest accuracy: {advanced_acc:.4f}\")\n",
    "    print(f\"   ⚠️  Requires overfitting monitoring\")\n",
    "\n",
    "print(f\"\\n🚀 READY FOR HYBRID SYSTEM:\")\n",
    "print(f\"Your optimized DNN is ready for autoencoder integration!\")"
   ]
  },
  {
   "cell_type": "code",
   "execution_count": 126,
   "metadata": {},
   "outputs": [
    {
     "name": "stderr",
     "output_type": "stream",
     "text": [
      "/var/folders/md/bzc6yhvn2ddd3gdvys2gv5sr0000gn/T/ipykernel_28365/489441435.py:184: UserWarning: Glyph 127942 (\\N{TROPHY}) missing from current font.\n",
      "  plt.tight_layout()\n",
      "/var/folders/md/bzc6yhvn2ddd3gdvys2gv5sr0000gn/T/ipykernel_28365/489441435.py:184: UserWarning: Glyph 128202 (\\N{BAR CHART}) missing from current font.\n",
      "  plt.tight_layout()\n",
      "/var/folders/md/bzc6yhvn2ddd3gdvys2gv5sr0000gn/T/ipykernel_28365/489441435.py:184: UserWarning: Glyph 127919 (\\N{DIRECT HIT}) missing from current font.\n",
      "  plt.tight_layout()\n",
      "/var/folders/md/bzc6yhvn2ddd3gdvys2gv5sr0000gn/T/ipykernel_28365/489441435.py:184: UserWarning: Glyph 128161 (\\N{ELECTRIC LIGHT BULB}) missing from current font.\n",
      "  plt.tight_layout()\n",
      "/Users/safwanahmed/Desktop/capstone/.venv/lib/python3.9/site-packages/IPython/core/pylabtools.py:152: UserWarning: Glyph 127942 (\\N{TROPHY}) missing from current font.\n",
      "  fig.canvas.print_figure(bytes_io, **kw)\n",
      "/Users/safwanahmed/Desktop/capstone/.venv/lib/python3.9/site-packages/IPython/core/pylabtools.py:152: UserWarning: Glyph 128202 (\\N{BAR CHART}) missing from current font.\n",
      "  fig.canvas.print_figure(bytes_io, **kw)\n",
      "/Users/safwanahmed/Desktop/capstone/.venv/lib/python3.9/site-packages/IPython/core/pylabtools.py:152: UserWarning: Glyph 127919 (\\N{DIRECT HIT}) missing from current font.\n",
      "  fig.canvas.print_figure(bytes_io, **kw)\n",
      "/Users/safwanahmed/Desktop/capstone/.venv/lib/python3.9/site-packages/IPython/core/pylabtools.py:152: UserWarning: Glyph 128161 (\\N{ELECTRIC LIGHT BULB}) missing from current font.\n",
      "  fig.canvas.print_figure(bytes_io, **kw)\n",
      "/Users/safwanahmed/Desktop/capstone/.venv/lib/python3.9/site-packages/IPython/core/pylabtools.py:152: UserWarning: Glyph 128640 (\\N{ROCKET}) missing from current font.\n",
      "  fig.canvas.print_figure(bytes_io, **kw)\n"
     ]
    },
    {
     "data": {
      "image/png": "[encoded data removed]",
      "text/plain": [
       "<Figure size 2000x1600 with 9 Axes>"
      ]
     },
     "metadata": {},
     "output_type": "display_data"
    },
    {
     "name": "stdout",
     "output_type": "stream",
     "text": [
      "\n",
      "================================================================================\n",
      "🎯 ENHANCED MODEL OPTIMIZATION COMPLETE!\n",
      "================================================================================\n",
      "✅ Models trained: 4\n",
      "✅ Best accuracy achieved: 0.6992\n",
      "✅ Overfitting controlled: -0.0013 gap\n",
      "✅ Ready for hybrid anomaly detection system!\n",
      "================================================================================\n"
     ]
    }
   ],
   "source": [
    "# 📈 Comprehensive Model Performance Visualization\n",
    "\n",
    "import matplotlib.pyplot as plt\n",
    "import seaborn as sns\n",
    "import numpy as np\n",
    "\n",
    "# Create comprehensive comparison plots\n",
    "fig = plt.figure(figsize=(20, 16))\n",
    "\n",
    "# Define colors for consistent plotting\n",
    "colors = ['#3498db', '#e74c3c', '#2ecc71', '#f39c12']  # Blue, Red, Green, Orange\n",
    "model_names = ['Original', 'Advanced', 'Regularized', 'Enhanced']\n",
    "\n",
    "# Plot 1: Training curves for enhanced model (if available)\n",
    "if len(results_enhanced) >= 4:\n",
    "    train_losses_enh, train_accs_enh, val_losses_enh, val_accs_enh = results_enhanced[:4]\n",
    "    \n",
    "    if train_accs_enh and val_accs_enh:\n",
    "        ax1 = plt.subplot(3, 3, 1)\n",
    "        epochs_enh = range(1, len(train_accs_enh) + 1)\n",
    "        ax1.plot(epochs_enh, train_accs_enh, 'b-', label='Train Accuracy', linewidth=2)\n",
    "        ax1.plot(epochs_enh, val_accs_enh, 'r-', label='Validation Accuracy', linewidth=2)\n",
    "        ax1.set_title('Enhanced Model: Training Curves', fontsize=14, fontweight='bold')\n",
    "        ax1.set_xlabel('Epoch')\n",
    "        ax1.set_ylabel('Accuracy')\n",
    "        ax1.legend()\n",
    "        ax1.grid(True, alpha=0.3)\n",
    "        \n",
    "        # Add final gap annotation\n",
    "        if train_accs_enh and val_accs_enh:\n",
    "            final_gap = train_accs_enh[-1] - val_accs_enh[-1]\n",
    "            ax1.text(0.7, 0.2, f'Final Gap: {final_gap:.3f}\\n({final_gap*100:.1f}%)', \n",
    "                     transform=ax1.transAxes, fontsize=10, \n",
    "                     bbox=dict(boxstyle=\"round,pad=0.3\", facecolor=\"lightblue\", alpha=0.7))\n",
    "\n",
    "# Plot 2: Overall Accuracy Comparison\n",
    "ax2 = plt.subplot(3, 3, 2)\n",
    "accuracies = [original_acc, advanced_acc, regularized_acc, enhanced_acc]\n",
    "bars = ax2.bar(model_names, accuracies, color=colors, alpha=0.8)\n",
    "ax2.set_title('Model Accuracy Comparison', fontsize=14, fontweight='bold')\n",
    "ax2.set_ylabel('Test Accuracy')\n",
    "ax2.set_ylim(0, max(accuracies) * 1.1)\n",
    "ax2.grid(True, alpha=0.3, axis='y')\n",
    "\n",
    "# Add values on bars\n",
    "for bar, acc in zip(bars, accuracies):\n",
    "    height = bar.get_height()\n",
    "    ax2.text(bar.get_x() + bar.get_width()/2., height + 0.01,\n",
    "             f'{acc:.3f}', ha='center', va='bottom', fontweight='bold')\n",
    "\n",
    "# Plot 3: F1-Score Comparison\n",
    "ax3 = plt.subplot(3, 3, 3)\n",
    "macro_f1s = [original_macro_f1, advanced_macro_f1, regularized_macro_f1, enhanced_macro_f1]\n",
    "weighted_f1s = [original_weighted_f1, advanced_weighted_f1, regularized_weighted_f1, enhanced_weighted_f1]\n",
    "\n",
    "x = np.arange(len(model_names))\n",
    "width = 0.35\n",
    "\n",
    "bars1 = ax3.bar(x - width/2, macro_f1s, width, label='Macro F1', color='lightcoral', alpha=0.8)\n",
    "bars2 = ax3.bar(x + width/2, weighted_f1s, width, label='Weighted F1', color='lightblue', alpha=0.8)\n",
    "\n",
    "ax3.set_title('F1-Score Comparison', fontsize=14, fontweight='bold')\n",
    "ax3.set_ylabel('F1-Score')\n",
    "ax3.set_xticks(x)\n",
    "ax3.set_xticklabels(model_names)\n",
    "ax3.legend()\n",
    "ax3.grid(True, alpha=0.3, axis='y')\n",
    "\n",
    "# Plot 4: Overfitting Analysis\n",
    "ax4 = plt.subplot(3, 3, 4)\n",
    "gaps = [0.33, 0.51, reg_gap, gap_enhanced if 'gap_enhanced' in locals() else 0.0]\n",
    "gap_colors = ['red' if gap > 0.2 else 'orange' if gap > 0.1 else 'green' for gap in gaps]\n",
    "\n",
    "bars = ax4.bar(model_names, gaps, color=gap_colors, alpha=0.8)\n",
    "ax4.set_title('Train-Validation Gap (Overfitting)', fontsize=14, fontweight='bold')\n",
    "ax4.set_ylabel('Train-Val Gap')\n",
    "ax4.axhline(y=0.1, color='orange', linestyle='--', alpha=0.7, label='Good Threshold')\n",
    "ax4.axhline(y=0.2, color='red', linestyle='--', alpha=0.7, label='Severe Threshold')\n",
    "ax4.legend()\n",
    "ax4.grid(True, alpha=0.3, axis='y')\n",
    "\n",
    "# Add gap values on bars\n",
    "for bar, gap in zip(bars, gaps):\n",
    "    height = bar.get_height()\n",
    "    ax4.text(bar.get_x() + bar.get_width()/2., height + 0.01,\n",
    "             f'{gap:.2f}', ha='center', va='bottom', fontweight='bold')\n",
    "\n",
    "# Plot 5: Model Parameters Comparison\n",
    "ax5 = plt.subplot(3, 3, 5)\n",
    "param_counts = [\n",
    "    sum(p.numel() for p in model.parameters()),  # Original\n",
    "    sum(p.numel() for p in model_improved.parameters()),  # Advanced\n",
    "    sum(p.numel() for p in model_regularized.parameters()),  # Regularized\n",
    "    sum(p.numel() for p in model_enhanced.parameters()) if 'model_enhanced' in locals() else 0  # Enhanced\n",
    "]\n",
    "\n",
    "bars = ax5.bar(model_names, param_counts, color=colors, alpha=0.8)\n",
    "ax5.set_title('Model Complexity (Parameters)', fontsize=14, fontweight='bold')\n",
    "ax5.set_ylabel('Number of Parameters')\n",
    "ax5.grid(True, alpha=0.3, axis='y')\n",
    "\n",
    "# Format parameter counts\n",
    "for bar, count in zip(bars, param_counts):\n",
    "    height = bar.get_height()\n",
    "    ax5.text(bar.get_x() + bar.get_width()/2., height + max(param_counts)*0.02,\n",
    "             f'{count:,}', ha='center', va='bottom', fontweight='bold', fontsize=9)\n",
    "\n",
    "# Plot 6: Performance vs Complexity\n",
    "ax6 = plt.subplot(3, 3, 6)\n",
    "ax6.scatter(param_counts, accuracies, c=colors, s=200, alpha=0.8)\n",
    "for i, model_name in enumerate(model_names):\n",
    "    ax6.annotate(model_name, (param_counts[i], accuracies[i]), \n",
    "                xytext=(5, 5), textcoords='offset points', fontweight='bold')\n",
    "\n",
    "ax6.set_title('Accuracy vs Model Complexity', fontsize=14, fontweight='bold')\n",
    "ax6.set_xlabel('Number of Parameters')\n",
    "ax6.set_ylabel('Test Accuracy')\n",
    "ax6.grid(True, alpha=0.3)\n",
    "\n",
    "# Plot 7: Improvements Summary\n",
    "ax7 = plt.subplot(3, 3, 7)\n",
    "if 'enhanced_acc' in locals():\n",
    "    improvements = {\n",
    "        'Accuracy': (enhanced_acc - regularized_acc) * 100,\n",
    "        'Macro F1': (enhanced_macro_f1 - regularized_macro_f1) * 100,\n",
    "        'Weighted F1': (enhanced_weighted_f1 - regularized_weighted_f1) * 100\n",
    "    }\n",
    "    \n",
    "    metrics = list(improvements.keys())\n",
    "    values = list(improvements.values())\n",
    "    bar_colors = ['green' if v > 0 else 'red' for v in values]\n",
    "    \n",
    "    bars = ax7.bar(metrics, values, color=bar_colors, alpha=0.8)\n",
    "    ax7.set_title('Enhanced vs Regularized Improvements (%)', fontsize=14, fontweight='bold')\n",
    "    ax7.set_ylabel('Improvement (%)')\n",
    "    ax7.axhline(y=0, color='black', linestyle='-', alpha=0.5)\n",
    "    ax7.grid(True, alpha=0.3, axis='y')\n",
    "    \n",
    "    # Add improvement values\n",
    "    for bar, val in zip(bars, values):\n",
    "        height = bar.get_height()\n",
    "        ax7.text(bar.get_x() + bar.get_width()/2., height + (0.1 if height > 0 else -0.3),\n",
    "                 f'{val:+.1f}%', ha='center', va='bottom' if height > 0 else 'top', \n",
    "                 fontweight='bold')\n",
    "\n",
    "# Plot 8: Learning Rate Schedule (if available)\n",
    "if len(results_enhanced) >= 5 and results_enhanced[4]:\n",
    "    ax8 = plt.subplot(3, 3, 8)\n",
    "    learning_rates = results_enhanced[4]\n",
    "    epochs_lr = range(1, len(learning_rates) + 1)\n",
    "    ax8.plot(epochs_lr, learning_rates, 'purple', linewidth=2)\n",
    "    ax8.set_title('Learning Rate Schedule', fontsize=14, fontweight='bold')\n",
    "    ax8.set_xlabel('Epoch')\n",
    "    ax8.set_ylabel('Learning Rate')\n",
    "    ax8.grid(True, alpha=0.3)\n",
    "    ax8.set_yscale('log')\n",
    "\n",
    "# Plot 9: Model Selection Summary\n",
    "ax9 = plt.subplot(3, 3, 9)\n",
    "ax9.axis('off')\n",
    "\n",
    "# Create summary text\n",
    "summary_text = f\"\"\"\n",
    "🏆 MODEL SELECTION SUMMARY\n",
    "\n",
    "📊 Best Performance:\n",
    "• Accuracy: {model_names[best_acc_idx]} ({max(accuracies):.3f})\n",
    "• Macro F1: {model_names[best_macro_idx]} ({max(macro_f1s):.3f})\n",
    "• Weighted F1: {model_names[best_weighted_idx]} ({max(weighted_f1s):.3f})\n",
    "\n",
    "🎯 Best Overfitting Control:\n",
    "• Lowest Gap: {min(gaps):.3f}\n",
    "• Model: {model_names[gaps.index(min(gaps))]}\n",
    "\n",
    "💡 Recommendation:\n",
    "• Use {\"Enhanced\" if 'enhanced_acc' in locals() and enhanced_acc > regularized_acc else \"Regularized\"} Model\n",
    "• For hybrid anomaly detection system\n",
    "\"\"\"\n",
    "\n",
    "ax9.text(0.05, 0.95, summary_text, transform=ax9.transAxes, fontsize=12,\n",
    "         verticalalignment='top', fontfamily='monospace',\n",
    "         bbox=dict(boxstyle=\"round,pad=0.5\", facecolor=\"lightgray\", alpha=0.8))\n",
    "\n",
    "plt.tight_layout()\n",
    "plt.suptitle('🚀 COMPREHENSIVE MODEL ANALYSIS - DNN Attack Classification', \n",
    "             fontsize=16, fontweight='bold', y=0.98)\n",
    "plt.show()\n",
    "\n",
    "# Print final summary\n",
    "print(\"\\n\" + \"=\"*80)\n",
    "print(\"🎯 ENHANCED MODEL OPTIMIZATION COMPLETE!\")\n",
    "print(\"=\"*80)\n",
    "print(f\"✅ Models trained: {len(model_names)}\")\n",
    "print(f\"✅ Best accuracy achieved: {max(accuracies):.4f}\")\n",
    "print(f\"✅ Overfitting controlled: {min(gaps):.4f} gap\")\n",
    "print(f\"✅ Ready for hybrid anomaly detection system!\")\n",
    "print(\"=\"*80)"
   ]
  }
 ],
 "metadata": {
  "kernelspec": {
   "display_name": ".venv",
   "language": "python",
   "name": "python3"
  },
  "language_info": {
   "codemirror_mode": {
    "name": "ipython",
    "version": 3
   },
   "file_extension": ".py",
   "mimetype": "text/x-python",
   "name": "python",
   "nbconvert_exporter": "python",
   "pygments_lexer": "ipython3",
   "version": "3.9.6"
  }
 },
 "nbformat": 4,
 "nbformat_minor": 2
}
