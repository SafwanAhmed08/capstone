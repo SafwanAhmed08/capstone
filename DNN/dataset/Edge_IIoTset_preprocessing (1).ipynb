{
 "cells": [
  {
   "cell_type": "code",
   "execution_count": 1,
   "id": "7c725bef-47f8-42ad-8910-7114ccc67e8c",
   "metadata": {},
   "outputs": [],
   "source": [
    "import pandas as pd\n",
    "from sklearn.utils import shuffle"
   ]
  },
  {
   "cell_type": "code",
   "execution_count": 2,
   "id": "9b79adc2",
   "metadata": {},
   "outputs": [],
   "source": [
    "DNN_data = pd.read_csv(\"data/DNN-EdgeIIoT-dataset.csv\", low_memory=False)\n"
   ]
  },
  {
   "cell_type": "code",
   "execution_count": 3,
   "id": "936981c7",
   "metadata": {},
   "outputs": [],
   "source": [
    "DNN_data_original = pd.read_csv(\"data/DNN-EdgeIIoT-dataset.csv\", low_memory=False)"
   ]
  },
  {
   "cell_type": "code",
   "execution_count": 4,
   "id": "ca4d9cab",
   "metadata": {},
   "outputs": [],
   "source": [
    "taken_features = ['ip.src_host', 'ip.dst_host','arp.opcode', 'arp.hw.size', 'icmp.checksum', 'icmp.seq_le', 'http.content_length', 'http.request.method', 'http.referer', 'http.request.version', 'http.response', 'tcp.ack', 'tcp.ack_raw', 'tcp.checksum', 'tcp.connection.fin', 'tcp.connection.rst', 'tcp.connection.syn', 'tcp.connection.synack', 'tcp.flags', 'tcp.flags.ack', 'tcp.len', 'tcp.seq', 'udp.stream', 'udp.time_delta', 'dns.qry.name', 'dns.qry.name.len', 'dns.qry.qu', 'dns.retransmission', 'dns.retransmit_request', 'mqtt.conack.flags', 'mqtt.conflag.cleansess', 'mqtt.conflags', 'mqtt.hdrflags', 'mqtt.len', 'mqtt.msgtype', 'mqtt.proto_len', 'mqtt.protoname', 'mqtt.topic', 'mqtt.topic_len', 'mqtt.ver', 'Attack_label', 'Attack_type']\n",
    "total_features = DNN_data.columns\n",
    "features_to_be_dropped = []\n",
    "for feature in total_features:\n",
    "    if feature not in taken_features:\n",
    "        features_to_be_dropped.append(feature)\n"
   ]
  },
  {
   "cell_type": "code",
   "execution_count": 5,
   "id": "17fe3ad0",
   "metadata": {},
   "outputs": [
    {
     "data": {
      "text/plain": [
       "['frame.time',\n",
       " 'arp.dst.proto_ipv4',\n",
       " 'arp.src.proto_ipv4',\n",
       " 'icmp.transmit_timestamp',\n",
       " 'icmp.unused',\n",
       " 'http.file_data',\n",
       " 'http.request.uri.query',\n",
       " 'http.request.full_uri',\n",
       " 'http.tls_port',\n",
       " 'tcp.dstport',\n",
       " 'tcp.options',\n",
       " 'tcp.payload',\n",
       " 'tcp.srcport',\n",
       " 'udp.port',\n",
       " 'dns.qry.type',\n",
       " 'dns.retransmit_request_in',\n",
       " 'mqtt.msg_decoded_as',\n",
       " 'mqtt.msg',\n",
       " 'mbtcp.len',\n",
       " 'mbtcp.trans_id',\n",
       " 'mbtcp.unit_id']"
      ]
     },
     "execution_count": 5,
     "metadata": {},
     "output_type": "execute_result"
    }
   ],
   "source": [
    "features_to_be_dropped#23\n"
   ]
  },
  {
   "cell_type": "code",
   "execution_count": 6,
   "id": "dd0e2f98",
   "metadata": {},
   "outputs": [],
   "source": [
    "#Drop static features\n",
    "#ML_data.drop(columns = features_to_be_dropped, inplace = True)\n",
    "DNN_data.drop(columns = features_to_be_dropped,inplace = True)"
   ]
  },
  {
   "cell_type": "markdown",
   "id": "42f4c6b7",
   "metadata": {},
   "source": []
  },
  {
   "cell_type": "code",
   "execution_count": 7,
   "id": "41964f53",
   "metadata": {},
   "outputs": [],
   "source": [
    "#Drop null values\n",
    "# ML_data.dropna(inplace = True)\n",
    "DNN_data.dropna(inplace = True)\n"
   ]
  },
  {
   "cell_type": "code",
   "execution_count": 8,
   "id": "5a5de048",
   "metadata": {},
   "outputs": [],
   "source": [
    "#Drop duplicates\n",
    "# ML_data.drop_duplicates(inplace = True)\n",
    "DNN_data.drop_duplicates(inplace = True)"
   ]
  },
  {
   "cell_type": "code",
   "execution_count": 9,
   "id": "01cdc601",
   "metadata": {},
   "outputs": [],
   "source": [
    "#Shuffle the data\n",
    "# ML_data = shuffle(ML_data).reset_index(drop=True)\n",
    "DNN_data = shuffle(DNN_data).reset_index(drop=True)"
   ]
  },
  {
   "cell_type": "code",
   "execution_count": 10,
   "id": "5ae23045",
   "metadata": {},
   "outputs": [
    {
     "data": {
      "text/plain": [
       "array(['Normal', 'DDoS_ICMP', 'Password', 'Uploading',\n",
       "       'Vulnerability_scanner', 'DDoS_TCP', 'SQL_injection', 'DDoS_UDP',\n",
       "       'XSS', 'DDoS_HTTP', 'Ransomware', 'Backdoor', 'Port_Scanning',\n",
       "       'Fingerprinting', 'MITM'], dtype=object)"
      ]
     },
     "execution_count": 10,
     "metadata": {},
     "output_type": "execute_result"
    }
   ],
   "source": [
    "DNN_data['Attack_label'].unique()\n",
    "DNN_data['Attack_type'].unique()"
   ]
  },
  {
   "cell_type": "code",
   "execution_count": 11,
   "id": "a3b0fade",
   "metadata": {},
   "outputs": [],
   "source": [
    "def summarize_by_category(df):\n",
    "    return df['Attack_type'].value_counts() "
   ]
  },
  {
   "cell_type": "code",
   "execution_count": 12,
   "id": "a4d7e452",
   "metadata": {},
   "outputs": [],
   "source": [
    "# original_ML_data = pd.read_csv(\"archive/Edge-IIoTset dataset/Selected dataset for ML and DL/ML-EdgeIIoT-dataset.csv\")\n",
    "original_DNN_data = pd.read_csv(\"data/DNN-EdgeIIoT-dataset.csv\", low_memory=False)\n",
    "# summary_original_ML = summarize_by_category(original_DNN_data)\n",
    "summary_original_DNN = summarize_by_category(original_DNN_data)"
   ]
  },
  {
   "cell_type": "code",
   "execution_count": 13,
   "id": "1c771a0b",
   "metadata": {},
   "outputs": [],
   "source": [
    "# summary_preprocessed_ML = summarize_by_category(ML_data)\n",
    "summary_preprocessed_DNN = summarize_by_category(DNN_data)"
   ]
  },
  {
   "cell_type": "code",
   "execution_count": 14,
   "id": "2101657c",
   "metadata": {},
   "outputs": [],
   "source": [
    "# print(\"ML data: original\")\n",
    "# print(summary_original_ML)\n",
    "# print(\"ML data: preprocessed\")\n",
    "\n",
    "# print(summary_preprocessed_ML)\n"
   ]
  },
  {
   "cell_type": "code",
   "execution_count": 15,
   "id": "eca44454",
   "metadata": {},
   "outputs": [
    {
     "name": "stdout",
     "output_type": "stream",
     "text": [
      "DNN data: original\n",
      "Attack_type\n",
      "Normal                   1615643\n",
      "DDoS_UDP                  121568\n",
      "DDoS_ICMP                 116436\n",
      "SQL_injection              51203\n",
      "Password                   50153\n",
      "Vulnerability_scanner      50110\n",
      "DDoS_TCP                   50062\n",
      "DDoS_HTTP                  49911\n",
      "Uploading                  37634\n",
      "Backdoor                   24862\n",
      "Port_Scanning              22564\n",
      "XSS                        15915\n",
      "Ransomware                 10925\n",
      "MITM                        1214\n",
      "Fingerprinting              1001\n",
      "Name: count, dtype: int64\n",
      "DNN data: preprocessed\n",
      "Attack_type\n",
      "Normal                   1364002\n",
      "DDoS_UDP                  121567\n",
      "DDoS_ICMP                 116431\n",
      "SQL_injection              50829\n",
      "DDoS_TCP                   50062\n",
      "Vulnerability_scanner      50029\n",
      "Password                   49936\n",
      "DDoS_HTTP                  48544\n",
      "Uploading                  36956\n",
      "Backdoor                   24029\n",
      "Port_Scanning              19979\n",
      "XSS                        15069\n",
      "Ransomware                  9692\n",
      "Fingerprinting               857\n",
      "MITM                         364\n",
      "Name: count, dtype: int64\n"
     ]
    }
   ],
   "source": [
    "print(\"DNN data: original\")\n",
    "print(summary_original_DNN)\n",
    "print(\"DNN data: preprocessed\")\n",
    "\n",
    "print(summary_preprocessed_DNN)"
   ]
  },
  {
   "cell_type": "code",
   "execution_count": 16,
   "id": "ace88ebe",
   "metadata": {},
   "outputs": [],
   "source": [
    "#Performimg Dummy encoding for categorical features\n",
    "categorical_features = ['http.request.method', 'http.referer', 'http.request.version', \n",
    "                        'dns.qry.name.len', 'mqtt.conack.flags', 'mqtt.protoname', 'mqtt.topic']\n",
    "# ML_data = pd.get_dummies(ML_data, columns = categorical_features)\n",
    "DNN_data = pd.get_dummies(DNN_data, columns = categorical_features)\n",
    "\n",
    "\n"
   ]
  },
  {
   "cell_type": "code",
   "execution_count": 17,
   "id": "8e3f4be8",
   "metadata": {},
   "outputs": [],
   "source": [
    "# len(ML_data_original.columns)"
   ]
  },
  {
   "cell_type": "code",
   "execution_count": 18,
   "id": "630c35eb",
   "metadata": {},
   "outputs": [
    {
     "data": {
      "text/plain": [
       "0    Normal\n",
       "1    Normal\n",
       "2    Normal\n",
       "3    Normal\n",
       "4    Normal\n",
       "Name: Attack_type, dtype: object"
      ]
     },
     "execution_count": 18,
     "metadata": {},
     "output_type": "execute_result"
    }
   ],
   "source": [
    "DNN_data[\"Attack_type\"].head()"
   ]
  },
  {
   "cell_type": "code",
   "execution_count": 19,
   "id": "6bc76002",
   "metadata": {},
   "outputs": [],
   "source": [
    "def add_6_categories_column(Attack_type):\n",
    "    new_column = []\n",
    "    for attack in Attack_type:\n",
    "        if attack in [\"DDoS_TCP\",\"DDoS_UDP\", \"DDoS_ICMP\", \"DDoS_HTTP\"]:\n",
    "            new_column.append(\"DoS/DDoS\")\n",
    "\n",
    "        if attack in [\"Vulnerability_scanner\",\"Port_Scanning\", \"Fingerprinting\"]:\n",
    "            new_column.append(\"Scanning_Attacks\")\n",
    "\n",
    "        if attack in [\"MITM\"]:\n",
    "            new_column.append(\"MITM\")\n",
    "\n",
    "        if attack in [\"XSS\",\"SQL_injection\", \"Uploading\"]:\n",
    "            new_column.append(\"Injection Attacks\")\n",
    "\n",
    "        if attack in [\"Ransomware\", \"Backdoor\",\"Password\"]:\n",
    "            new_column.append(\"Malware\")\n",
    "\n",
    "        if attack in [\"Normal\"]:\n",
    "            new_column.append(\"Normal\")\n",
    "    return new_column\n",
    "\n",
    "\n",
    "        \n",
    "\n",
    "        \n",
    "    "
   ]
  },
  {
   "cell_type": "code",
   "execution_count": 20,
   "id": "97b97320",
   "metadata": {},
   "outputs": [],
   "source": [
    "# ML_categories = add_6_categories_column(ML_data[\"Attack_type\"])\n",
    "DNN_categories = add_6_categories_column(DNN_data[\"Attack_type\"])\n"
   ]
  },
  {
   "cell_type": "code",
   "execution_count": 21,
   "id": "8efb1670",
   "metadata": {},
   "outputs": [],
   "source": [
    "# ML_data[\"Attack_class\"] = ML_categories\n",
    "DNN_data[\"Attack_class\"] = DNN_categories"
   ]
  },
  {
   "cell_type": "code",
   "execution_count": 22,
   "id": "c6858e93",
   "metadata": {},
   "outputs": [],
   "source": [
    "# ML_data.to_csv('preprocessed_ML_data.csv', index=False)\n",
    "DNN_data.to_csv('1-preprocessed_DNN_data.csv', index=False)"
   ]
  },
  {
   "cell_type": "code",
   "execution_count": 23,
   "id": "c0ccf054",
   "metadata": {},
   "outputs": [
    {
     "data": {
      "text/plain": [
       "40"
      ]
     },
     "execution_count": 23,
     "metadata": {},
     "output_type": "execute_result"
    }
   ],
   "source": [
    "len(['arp.opcode', 'arp.hw.size', 'icmp.checksum', 'icmp.seq.le', 'http.content_length', 'http.request.method', 'http.referer', 'http.request.version', 'http.response', 'tcp.ack', 'tcp.ack_raw', 'tcp.checksum', 'tcp.connection.fin', 'tcp.connection.rst', 'tcp.connection.syn', 'tcp.connection.synack', 'tcp.flags', 'tcp.flags.ack', 'tcp.len', 'tcp.seq', 'udp.stream', 'udp.time_delta', 'dns.qry.name', 'dns.qry.name.len', 'dns.qry.qu', 'dns.retransmission', 'dns.retransmit.request', 'mqtt.conack.flags', 'mqtt.conflag.cleansess', 'mqtt.conflags', 'mqtt.hdrflags', 'mqtt.len', 'mqtt.msgtype', 'mqtt.proto_len', 'mqtt.protoname', 'mqtt.topic', 'mqtt.topic_len', 'mqtt.ver', 'Attack label', 'Attack_type'])"
   ]
  },
  {
   "cell_type": "code",
   "execution_count": 24,
   "id": "6abd5d6f",
   "metadata": {},
   "outputs": [
    {
     "data": {
      "text/plain": [
       "(1958346, 92)"
      ]
     },
     "execution_count": 24,
     "metadata": {},
     "output_type": "execute_result"
    }
   ],
   "source": [
    "DNN_data.shape"
   ]
  }
 ],
 "metadata": {
  "kernelspec": {
   "display_name": "base",
   "language": "python",
   "name": "python3"
  },
  "language_info": {
   "codemirror_mode": {
    "name": "ipython",
    "version": 3
   },
   "file_extension": ".py",
   "mimetype": "text/x-python",
   "name": "python",
   "nbconvert_exporter": "python",
   "pygments_lexer": "ipython3",
   "version": "3.12.3"
  }
 },
 "nbformat": 4,
 "nbformat_minor": 5
}
