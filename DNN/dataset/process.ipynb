{
 "cells": [
  {
   "cell_type": "code",
   "execution_count": 60,
   "metadata": {},
   "outputs": [
    {
     "name": "stdout",
     "output_type": "stream",
     "text": [
      "Requirement already satisfied: pandas in /Users/safwanahmed/Desktop/DNN/.venv/lib/python3.9/site-packages (2.2.3)\n",
      "Requirement already satisfied: scapy in /Users/safwanahmed/Desktop/DNN/.venv/lib/python3.9/site-packages (2.6.1)\n",
      "Requirement already satisfied: matplotlib in /Users/safwanahmed/Desktop/DNN/.venv/lib/python3.9/site-packages (3.9.4)\n",
      "Requirement already satisfied: seaborn in /Users/safwanahmed/Desktop/DNN/.venv/lib/python3.9/site-packages (0.13.2)\n",
      "Requirement already satisfied: category_encoders in /Users/safwanahmed/Desktop/DNN/.venv/lib/python3.9/site-packages (2.6.4)\n",
      "Requirement already satisfied: numpy>=1.22.4 in /Users/safwanahmed/Desktop/DNN/.venv/lib/python3.9/site-packages (from pandas) (2.0.2)\n",
      "Requirement already satisfied: python-dateutil>=2.8.2 in /Users/safwanahmed/Desktop/DNN/.venv/lib/python3.9/site-packages (from pandas) (2.9.0.post0)\n",
      "Requirement already satisfied: pytz>=2020.1 in /Users/safwanahmed/Desktop/DNN/.venv/lib/python3.9/site-packages (from pandas) (2025.1)\n",
      "Requirement already satisfied: tzdata>=2022.7 in /Users/safwanahmed/Desktop/DNN/.venv/lib/python3.9/site-packages (from pandas) (2025.1)\n",
      "Requirement already satisfied: contourpy>=1.0.1 in /Users/safwanahmed/Desktop/DNN/.venv/lib/python3.9/site-packages (from matplotlib) (1.3.0)\n",
      "Requirement already satisfied: cycler>=0.10 in /Users/safwanahmed/Desktop/DNN/.venv/lib/python3.9/site-packages (from matplotlib) (0.12.1)\n",
      "Requirement already satisfied: fonttools>=4.22.0 in /Users/safwanahmed/Desktop/DNN/.venv/lib/python3.9/site-packages (from matplotlib) (4.56.0)\n",
      "Requirement already satisfied: kiwisolver>=1.3.1 in /Users/safwanahmed/Desktop/DNN/.venv/lib/python3.9/site-packages (from matplotlib) (1.4.7)\n",
      "Requirement already satisfied: packaging>=20.0 in /Users/safwanahmed/Desktop/DNN/.venv/lib/python3.9/site-packages (from matplotlib) (24.2)\n",
      "Requirement already satisfied: pillow>=8 in /Users/safwanahmed/Desktop/DNN/.venv/lib/python3.9/site-packages (from matplotlib) (11.1.0)\n",
      "Requirement already satisfied: pyparsing>=2.3.1 in /Users/safwanahmed/Desktop/DNN/.venv/lib/python3.9/site-packages (from matplotlib) (3.2.1)\n",
      "Requirement already satisfied: importlib-resources>=3.2.0 in /Users/safwanahmed/Desktop/DNN/.venv/lib/python3.9/site-packages (from matplotlib) (6.5.2)\n",
      "Requirement already satisfied: scikit-learn>=0.20.0 in /Users/safwanahmed/Desktop/DNN/.venv/lib/python3.9/site-packages (from category_encoders) (1.6.1)\n",
      "Requirement already satisfied: scipy>=1.0.0 in /Users/safwanahmed/Desktop/DNN/.venv/lib/python3.9/site-packages (from category_encoders) (1.13.1)\n",
      "Requirement already satisfied: statsmodels>=0.9.0 in /Users/safwanahmed/Desktop/DNN/.venv/lib/python3.9/site-packages (from category_encoders) (0.14.4)\n",
      "Requirement already satisfied: patsy>=0.5.1 in /Users/safwanahmed/Desktop/DNN/.venv/lib/python3.9/site-packages (from category_encoders) (1.0.1)\n",
      "Requirement already satisfied: zipp>=3.1.0 in /Users/safwanahmed/Desktop/DNN/.venv/lib/python3.9/site-packages (from importlib-resources>=3.2.0->matplotlib) (3.21.0)\n",
      "Requirement already satisfied: six>=1.5 in /Users/safwanahmed/Desktop/DNN/.venv/lib/python3.9/site-packages (from python-dateutil>=2.8.2->pandas) (1.17.0)\n",
      "Requirement already satisfied: joblib>=1.2.0 in /Users/safwanahmed/Desktop/DNN/.venv/lib/python3.9/site-packages (from scikit-learn>=0.20.0->category_encoders) (1.4.2)\n",
      "Requirement already satisfied: threadpoolctl>=3.1.0 in /Users/safwanahmed/Desktop/DNN/.venv/lib/python3.9/site-packages (from scikit-learn>=0.20.0->category_encoders) (3.6.0)\n",
      "Note: you may need to restart the kernel to use updated packages.\n"
     ]
    }
   ],
   "source": [
    "%pip install pandas scapy matplotlib seaborn category_encoders"
   ]
  },
  {
   "cell_type": "code",
   "execution_count": 61,
   "metadata": {},
   "outputs": [],
   "source": [
    "import pandas as pd\n",
    "\n",
    "DNN_data = pd.read_csv(\"DNN-EdgeIIoT-dataset.csv\",low_memory=False)"
   ]
  },
  {
   "cell_type": "code",
   "execution_count": 62,
   "metadata": {},
   "outputs": [],
   "source": [
    "taken_features = ['ip.src_host', 'ip.dst_host','arp.opcode', 'arp.hw.size', 'icmp.checksum', 'icmp.seq_le', 'http.content_length', 'http.request.method', 'http.referer', 'http.request.version', 'http.response', 'tcp.ack', 'tcp.ack_raw', 'tcp.checksum', 'tcp.connection.fin', 'tcp.connection.rst', 'tcp.connection.syn', 'tcp.connection.synack', 'tcp.flags', 'tcp.flags.ack', 'tcp.len', 'tcp.seq', 'udp.stream', 'udp.time_delta', 'dns.qry.name', 'dns.qry.name.len', 'dns.qry.qu', 'dns.retransmission', 'dns.retransmit_request', 'mqtt.conack.flags', 'mqtt.conflag.cleansess', 'mqtt.conflags', 'mqtt.hdrflags', 'mqtt.len', 'mqtt.msgtype', 'mqtt.proto_len', 'mqtt.protoname', 'mqtt.topic', 'mqtt.topic_len', 'mqtt.ver', 'Attack_label', 'Attack_type']\n",
    "total_features = DNN_data.columns\n",
    "features_to_be_dropped = []\n",
    "for feature in total_features:\n",
    "    if feature not in taken_features:\n",
    "        features_to_be_dropped.append(feature)\n"
   ]
  },
  {
   "cell_type": "code",
   "execution_count": 63,
   "metadata": {},
   "outputs": [
    {
     "data": {
      "text/plain": [
       "['frame.time',\n",
       " 'arp.dst.proto_ipv4',\n",
       " 'arp.src.proto_ipv4',\n",
       " 'icmp.transmit_timestamp',\n",
       " 'icmp.unused',\n",
       " 'http.file_data',\n",
       " 'http.request.uri.query',\n",
       " 'http.request.full_uri',\n",
       " 'http.tls_port',\n",
       " 'tcp.dstport',\n",
       " 'tcp.options',\n",
       " 'tcp.payload',\n",
       " 'tcp.srcport',\n",
       " 'udp.port',\n",
       " 'dns.qry.type',\n",
       " 'dns.retransmit_request_in',\n",
       " 'mqtt.msg_decoded_as',\n",
       " 'mqtt.msg',\n",
       " 'mbtcp.len',\n",
       " 'mbtcp.trans_id',\n",
       " 'mbtcp.unit_id']"
      ]
     },
     "execution_count": 63,
     "metadata": {},
     "output_type": "execute_result"
    }
   ],
   "source": [
    "features_to_be_dropped"
   ]
  },
  {
   "cell_type": "code",
   "execution_count": 64,
   "metadata": {},
   "outputs": [],
   "source": [
    "DNN_data = DNN_data.drop(columns = features_to_be_dropped)"
   ]
  },
  {
   "cell_type": "code",
   "execution_count": 65,
   "metadata": {},
   "outputs": [
    {
     "data": {
      "text/plain": [
       "array(['Normal', 'MITM', 'Uploading', 'Ransomware', 'SQL_injection',\n",
       "       'DDoS_HTTP', 'DDoS_TCP', 'Password', 'Port_Scanning',\n",
       "       'Vulnerability_scanner', 'Backdoor', 'XSS', 'Fingerprinting',\n",
       "       'DDoS_UDP', 'DDoS_ICMP'], dtype=object)"
      ]
     },
     "execution_count": 65,
     "metadata": {},
     "output_type": "execute_result"
    }
   ],
   "source": [
    "DNN_data['Attack_type'].unique()\n"
   ]
  },
  {
   "cell_type": "code",
   "execution_count": 66,
   "metadata": {},
   "outputs": [],
   "source": [
    "DNN_data.dropna(inplace=True)"
   ]
  },
  {
   "cell_type": "code",
   "execution_count": 67,
   "metadata": {},
   "outputs": [],
   "source": [
    "DNN_data.drop_duplicates(inplace=True)"
   ]
  },
  {
   "cell_type": "code",
   "execution_count": 68,
   "metadata": {},
   "outputs": [],
   "source": [
    "from sklearn.utils import shuffle\n",
    "DNN_data = shuffle(DNN_data).reset_index(drop=True)"
   ]
  },
  {
   "cell_type": "code",
   "execution_count": 69,
   "metadata": {},
   "outputs": [
    {
     "name": "stdout",
     "output_type": "stream",
     "text": [
      "Index(['ip.src_host', 'ip.dst_host', 'http.request.method', 'http.referer',\n",
      "       'http.request.version', 'dns.qry.name.len', 'mqtt.conack.flags',\n",
      "       'mqtt.protoname', 'mqtt.topic', 'Attack_type'],\n",
      "      dtype='object')\n"
     ]
    }
   ],
   "source": [
    "print(DNN_data.select_dtypes(include=['object']).columns)"
   ]
  },
  {
   "cell_type": "code",
   "execution_count": 70,
   "metadata": {},
   "outputs": [
    {
     "data": {
      "text/plain": [
       "array(['DDoS_UDP', 'Normal', 'Vulnerability_scanner', 'DDoS_ICMP',\n",
       "       'Password', 'Backdoor', 'Port_Scanning', 'DDoS_HTTP',\n",
       "       'SQL_injection', 'Uploading', 'DDoS_TCP', 'XSS', 'Ransomware',\n",
       "       'Fingerprinting', 'MITM'], dtype=object)"
      ]
     },
     "execution_count": 70,
     "metadata": {},
     "output_type": "execute_result"
    }
   ],
   "source": [
    "DNN_data['Attack_label'].unique()\n",
    "DNN_data['Attack_type'].unique()"
   ]
  },
  {
   "cell_type": "code",
   "execution_count": 71,
   "metadata": {},
   "outputs": [],
   "source": [
    "def summarize_by_category(df):\n",
    "    return df['Attack_type'].value_counts() "
   ]
  },
  {
   "cell_type": "code",
   "execution_count": 72,
   "metadata": {},
   "outputs": [],
   "source": [
    "original_DNN_data = pd.read_csv(\"DNN-EdgeIIoT-dataset.csv\", low_memory=False)\n",
    "summary_original_DNN = summarize_by_category(original_DNN_data)"
   ]
  },
  {
   "cell_type": "code",
   "execution_count": 73,
   "metadata": {},
   "outputs": [],
   "source": [
    "summary_preprocessed_DNN = summarize_by_category(DNN_data)"
   ]
  },
  {
   "cell_type": "code",
   "execution_count": 74,
   "metadata": {},
   "outputs": [
    {
     "name": "stdout",
     "output_type": "stream",
     "text": [
      "DNN data: original\n",
      "Attack_type\n",
      "Normal                   1615643\n",
      "DDoS_UDP                  121568\n",
      "DDoS_ICMP                 116436\n",
      "SQL_injection              51203\n",
      "Password                   50153\n",
      "Vulnerability_scanner      50110\n",
      "DDoS_TCP                   50062\n",
      "DDoS_HTTP                  49911\n",
      "Uploading                  37634\n",
      "Backdoor                   24862\n",
      "Port_Scanning              22564\n",
      "XSS                        15915\n",
      "Ransomware                 10925\n",
      "MITM                        1214\n",
      "Fingerprinting              1001\n",
      "Name: count, dtype: int64\n",
      "DNN data: preprocessed\n",
      "Attack_type\n",
      "Normal                   1364002\n",
      "DDoS_UDP                  121567\n",
      "DDoS_ICMP                 116431\n",
      "SQL_injection              50829\n",
      "DDoS_TCP                   50062\n",
      "Vulnerability_scanner      50029\n",
      "Password                   49936\n",
      "DDoS_HTTP                  48544\n",
      "Uploading                  36956\n",
      "Backdoor                   24029\n",
      "Port_Scanning              19979\n",
      "XSS                        15069\n",
      "Ransomware                  9692\n",
      "Fingerprinting               857\n",
      "MITM                         364\n",
      "Name: count, dtype: int64\n"
     ]
    }
   ],
   "source": [
    "print(\"DNN data: original\")\n",
    "print(summary_original_DNN)\n",
    "print(\"DNN data: preprocessed\")\n",
    "\n",
    "print(summary_preprocessed_DNN)"
   ]
  },
  {
   "cell_type": "code",
   "execution_count": 75,
   "metadata": {},
   "outputs": [],
   "source": [
    "DNN_data.drop(columns=['ip.src_host','ip.dst_host'], inplace=True)"
   ]
  },
  {
   "cell_type": "code",
   "execution_count": 76,
   "metadata": {},
   "outputs": [
    {
     "name": "stdout",
     "output_type": "stream",
     "text": [
      "<class 'pandas.core.frame.DataFrame'>\n",
      "RangeIndex: 1958346 entries, 0 to 1958345\n",
      "Data columns (total 40 columns):\n",
      " #   Column                  Dtype  \n",
      "---  ------                  -----  \n",
      " 0   arp.opcode              float64\n",
      " 1   arp.hw.size             float64\n",
      " 2   icmp.checksum           float64\n",
      " 3   icmp.seq_le             float64\n",
      " 4   http.content_length     float64\n",
      " 5   http.request.method     object \n",
      " 6   http.referer            object \n",
      " 7   http.request.version    object \n",
      " 8   http.response           float64\n",
      " 9   tcp.ack                 float64\n",
      " 10  tcp.ack_raw             float64\n",
      " 11  tcp.checksum            float64\n",
      " 12  tcp.connection.fin      float64\n",
      " 13  tcp.connection.rst      float64\n",
      " 14  tcp.connection.syn      float64\n",
      " 15  tcp.connection.synack   float64\n",
      " 16  tcp.flags               float64\n",
      " 17  tcp.flags.ack           float64\n",
      " 18  tcp.len                 float64\n",
      " 19  tcp.seq                 float64\n",
      " 20  udp.stream              float64\n",
      " 21  udp.time_delta          float64\n",
      " 22  dns.qry.name            float64\n",
      " 23  dns.qry.name.len        object \n",
      " 24  dns.qry.qu              float64\n",
      " 25  dns.retransmission      float64\n",
      " 26  dns.retransmit_request  float64\n",
      " 27  mqtt.conack.flags       object \n",
      " 28  mqtt.conflag.cleansess  float64\n",
      " 29  mqtt.conflags           float64\n",
      " 30  mqtt.hdrflags           float64\n",
      " 31  mqtt.len                float64\n",
      " 32  mqtt.msgtype            float64\n",
      " 33  mqtt.proto_len          float64\n",
      " 34  mqtt.protoname          object \n",
      " 35  mqtt.topic              object \n",
      " 36  mqtt.topic_len          float64\n",
      " 37  mqtt.ver                float64\n",
      " 38  Attack_label            int64  \n",
      " 39  Attack_type             object \n",
      "dtypes: float64(31), int64(1), object(8)\n",
      "memory usage: 597.6+ MB\n"
     ]
    }
   ],
   "source": [
    "DNN_data.info()"
   ]
  },
  {
   "cell_type": "code",
   "execution_count": 77,
   "metadata": {},
   "outputs": [
    {
     "data": {
      "image/png": "[encoded data removed]",
      "text/plain": [
       "<Figure size 1000x600 with 1 Axes>"
      ]
     },
     "metadata": {},
     "output_type": "display_data"
    }
   ],
   "source": [
    "import seaborn as sns\n",
    "import matplotlib.pyplot as plt\n",
    "\n",
    "# Compute correlation with attack label\n",
    "correlation_matrix = DNN_data.corr(numeric_only=True)\n",
    "\n",
    "attack_correlation = correlation_matrix[\"Attack_label\"].sort_values(ascending=False)\n",
    "\n",
    "# Visualize top correlated features\n",
    "plt.figure(figsize=(10, 6))\n",
    "sns.barplot(x=attack_correlation.index, y=attack_correlation.values)\n",
    "plt.xticks(rotation=90)\n",
    "plt.title(\"Feature Correlation with Attack Label\")\n",
    "plt.show()"
   ]
  },
  {
   "cell_type": "code",
   "execution_count": 78,
   "metadata": {},
   "outputs": [],
   "source": [
    "DNN_data.drop(columns=[\"arp.hw.size\",\"arp.opcode\",\"dns.retransmit_request\"],inplace=True)\n"
   ]
  },
  {
   "cell_type": "code",
   "execution_count": 79,
   "metadata": {},
   "outputs": [],
   "source": [
    "categ_cols = [\"http.request.method\",\"http.referer\",\"http.request.version\",\"dns.qry.name.len\",\"mqtt.conack.flags\",\"mqtt.protoname\",\"mqtt.topic\"]\n",
    "\n",
    "DNN_data_encoded = pd.get_dummies(DNN_data, columns=categ_cols, dtype=int)"
   ]
  },
  {
   "cell_type": "code",
   "execution_count": 80,
   "metadata": {},
   "outputs": [],
   "source": [
    "def add_6_categories_column(Attack_type):\n",
    "    new_column = []\n",
    "    for attack in Attack_type:\n",
    "        if attack in [\"DDoS_TCP\",\"DDoS_UDP\", \"DDoS_ICMP\", \"DDoS_HTTP\"]:\n",
    "            new_column.append(\"DoS/DDoS\")\n",
    "\n",
    "        if attack in [\"Vulnerability_scanner\",\"Port_Scanning\", \"Fingerprinting\"]:\n",
    "            new_column.append(\"Scanning_Attacks\")\n",
    "\n",
    "        if attack in [\"MITM\"]:\n",
    "            new_column.append(\"MITM\")\n",
    "\n",
    "        if attack in [\"XSS\",\"SQL_injection\", \"Uploading\"]:\n",
    "            new_column.append(\"Injection Attacks\")\n",
    "\n",
    "        if attack in [\"Ransomware\", \"Backdoor\",\"Password\"]:\n",
    "            new_column.append(\"Malware\")\n",
    "\n",
    "        if attack in [\"Normal\"]:\n",
    "            new_column.append(\"Normal\")\n",
    "    return new_column    "
   ]
  },
  {
   "cell_type": "code",
   "execution_count": 81,
   "metadata": {},
   "outputs": [],
   "source": [
    "DNN_categories = add_6_categories_column(DNN_data_encoded[\"Attack_type\"])\n"
   ]
  },
  {
   "cell_type": "code",
   "execution_count": 82,
   "metadata": {},
   "outputs": [
    {
     "data": {
      "text/plain": [
       "array(['DDoS_UDP', 'Normal', 'Vulnerability_scanner', 'DDoS_ICMP',\n",
       "       'Password', 'Backdoor', 'Port_Scanning', 'DDoS_HTTP',\n",
       "       'SQL_injection', 'Uploading', 'DDoS_TCP', 'XSS', 'Ransomware',\n",
       "       'Fingerprinting', 'MITM'], dtype=object)"
      ]
     },
     "execution_count": 82,
     "metadata": {},
     "output_type": "execute_result"
    }
   ],
   "source": [
    "DNN_data_encoded[\"Attack_class\"] = DNN_categories\n",
    "DNN_data_encoded[\"Attack_type\"].unique()"
   ]
  },
  {
   "cell_type": "code",
   "execution_count": 83,
   "metadata": {},
   "outputs": [
    {
     "data": {
      "text/plain": [
       "(1958346, 87)"
      ]
     },
     "execution_count": 83,
     "metadata": {},
     "output_type": "execute_result"
    }
   ],
   "source": [
    "DNN_data_encoded.shape"
   ]
  },
  {
   "cell_type": "code",
   "execution_count": 85,
   "metadata": {},
   "outputs": [
    {
     "name": "stdout",
     "output_type": "stream",
     "text": [
      "Requirement already satisfied: scikit-learn in /Users/safwanahmed/Desktop/DNN/.venv/lib/python3.9/site-packages (1.6.1)\n",
      "Requirement already satisfied: numpy>=1.19.5 in /Users/safwanahmed/Desktop/DNN/.venv/lib/python3.9/site-packages (from scikit-learn) (2.0.2)\n",
      "Requirement already satisfied: scipy>=1.6.0 in /Users/safwanahmed/Desktop/DNN/.venv/lib/python3.9/site-packages (from scikit-learn) (1.13.1)\n",
      "Requirement already satisfied: joblib>=1.2.0 in /Users/safwanahmed/Desktop/DNN/.venv/lib/python3.9/site-packages (from scikit-learn) (1.4.2)\n",
      "Requirement already satisfied: threadpoolctl>=3.1.0 in /Users/safwanahmed/Desktop/DNN/.venv/lib/python3.9/site-packages (from scikit-learn) (3.6.0)\n",
      "Note: you may need to restart the kernel to use updated packages.\n"
     ]
    }
   ],
   "source": [
    "pip install scikit-learn "
   ]
  },
  {
   "cell_type": "code",
   "execution_count": 59,
   "metadata": {},
   "outputs": [
    {
     "name": "stdout",
     "output_type": "stream",
     "text": [
      "<class 'pandas.core.frame.DataFrame'>\n",
      "RangeIndex: 1958346 entries, 0 to 1958345\n",
      "Data columns (total 87 columns):\n",
      " #   Column                                                                                                Dtype  \n",
      "---  ------                                                                                                -----  \n",
      " 0   icmp.checksum                                                                                         float64\n",
      " 1   icmp.seq_le                                                                                           float64\n",
      " 2   http.content_length                                                                                   float64\n",
      " 3   http.response                                                                                         float64\n",
      " 4   tcp.ack                                                                                               float64\n",
      " 5   tcp.ack_raw                                                                                           float64\n",
      " 6   tcp.checksum                                                                                          float64\n",
      " 7   tcp.connection.fin                                                                                    float64\n",
      " 8   tcp.connection.rst                                                                                    float64\n",
      " 9   tcp.connection.syn                                                                                    float64\n",
      " 10  tcp.connection.synack                                                                                 float64\n",
      " 11  tcp.flags                                                                                             float64\n",
      " 12  tcp.flags.ack                                                                                         float64\n",
      " 13  tcp.len                                                                                               float64\n",
      " 14  tcp.seq                                                                                               float64\n",
      " 15  udp.stream                                                                                            float64\n",
      " 16  udp.time_delta                                                                                        float64\n",
      " 17  dns.qry.name                                                                                          float64\n",
      " 18  dns.qry.qu                                                                                            float64\n",
      " 19  dns.retransmission                                                                                    float64\n",
      " 20  mqtt.conflag.cleansess                                                                                float64\n",
      " 21  mqtt.conflags                                                                                         float64\n",
      " 22  mqtt.hdrflags                                                                                         float64\n",
      " 23  mqtt.len                                                                                              float64\n",
      " 24  mqtt.msgtype                                                                                          float64\n",
      " 25  mqtt.proto_len                                                                                        float64\n",
      " 26  mqtt.topic_len                                                                                        float64\n",
      " 27  mqtt.ver                                                                                              float64\n",
      " 28  Attack_label                                                                                          int64  \n",
      " 29  Attack_type                                                                                           object \n",
      " 30  http.request.method_0                                                                                 int64  \n",
      " 31  http.request.method_0.0                                                                               int64  \n",
      " 32  http.request.method_GET                                                                               int64  \n",
      " 33  http.request.method_OPTIONS                                                                           int64  \n",
      " 34  http.request.method_POST                                                                              int64  \n",
      " 35  http.request.method_PROPFIND                                                                          int64  \n",
      " 36  http.request.method_PUT                                                                               int64  \n",
      " 37  http.request.method_SEARCH                                                                            int64  \n",
      " 38  http.request.method_TRACE                                                                             int64  \n",
      " 39  http.referer_() { _; } >_[$($())] { echo 93e4r0-CVE-2014-6278: true; echo;echo; }                     int64  \n",
      " 40  http.referer_0                                                                                        int64  \n",
      " 41  http.referer_0.0                                                                                      int64  \n",
      " 42  http.referer_127.0.0.1                                                                                int64  \n",
      " 43  http.referer_TESTING_PURPOSES_ONLY                                                                    int64  \n",
      " 44  http.request.version_-a HTTP/1.1                                                                      int64  \n",
      " 45  http.request.version_-al&ABSOLUTE_PATH_STUDIP=http://cirt.net/rfiinc.txt?? HTTP/1.1                   int64  \n",
      " 46  http.request.version_-al&_PHPLIB[libdir]=http://cirt.net/rfiinc.txt?? HTTP/1.1                        int64  \n",
      " 47  http.request.version_/etc/passwd|?data=Download HTTP/1.1                                              int64  \n",
      " 48  http.request.version_0                                                                                int64  \n",
      " 49  http.request.version_0.0                                                                              int64  \n",
      " 50  http.request.version_> HTTP/1.1                                                                       int64  \n",
      " 51  http.request.version_By Dr HTTP/1.1                                                                   int64  \n",
      " 52  http.request.version_HTTP/1.0                                                                         int64  \n",
      " 53  http.request.version_HTTP/1.1                                                                         int64  \n",
      " 54  http.request.version_Src=javascript:alert('Vulnerable')><Img Src=\\\" HTTP/1.1                          int64  \n",
      " 55  http.request.version_name=a><input name=i value=XSS>&lt;script>alert('Vulnerable')</script> HTTP/1.1  int64  \n",
      " 56  http.request.version_script>alert(1)/script><\\\" HTTP/1.1                                              int64  \n",
      " 57  dns.qry.name.len_0                                                                                    int64  \n",
      " 58  dns.qry.name.len_0.0                                                                                  int64  \n",
      " 59  dns.qry.name.len_0.debian.pool.ntp.org                                                                int64  \n",
      " 60  dns.qry.name.len_1.0                                                                                  int64  \n",
      " 61  dns.qry.name.len_1.debian.pool.ntp.org                                                                int64  \n",
      " 62  dns.qry.name.len_2.debian.pool.ntp.org                                                                int64  \n",
      " 63  dns.qry.name.len_3.debian.pool.ntp.org                                                                int64  \n",
      " 64  dns.qry.name.len__googlecast._tcp.local                                                               int64  \n",
      " 65  dns.qry.name.len_null-null.local                                                                      int64  \n",
      " 66  dns.qry.name.len_raspberrypi.local                                                                    int64  \n",
      " 67  mqtt.conack.flags_0                                                                                   int64  \n",
      " 68  mqtt.conack.flags_0.0                                                                                 int64  \n",
      " 69  mqtt.conack.flags_0x00000000                                                                          int64  \n",
      " 70  mqtt.conack.flags_1461073                                                                             int64  \n",
      " 71  mqtt.conack.flags_1461074                                                                             int64  \n",
      " 72  mqtt.conack.flags_1461383                                                                             int64  \n",
      " 73  mqtt.conack.flags_1461384                                                                             int64  \n",
      " 74  mqtt.conack.flags_1461589                                                                             int64  \n",
      " 75  mqtt.conack.flags_1461591                                                                             int64  \n",
      " 76  mqtt.conack.flags_1471198                                                                             int64  \n",
      " 77  mqtt.conack.flags_1471199                                                                             int64  \n",
      " 78  mqtt.conack.flags_1574358                                                                             int64  \n",
      " 79  mqtt.conack.flags_1574359                                                                             int64  \n",
      " 80  mqtt.protoname_0                                                                                      int64  \n",
      " 81  mqtt.protoname_0.0                                                                                    int64  \n",
      " 82  mqtt.protoname_MQTT                                                                                   int64  \n",
      " 83  mqtt.topic_0                                                                                          int64  \n",
      " 84  mqtt.topic_0.0                                                                                        int64  \n",
      " 85  mqtt.topic_Temperature_and_Humidity                                                                   int64  \n",
      " 86  Attack_class                                                                                          object \n",
      "dtypes: float64(28), int64(57), object(2)\n",
      "memory usage: 1.3+ GB\n"
     ]
    }
   ],
   "source": [
    "DNN_data_encoded.info()"
   ]
  },
  {
   "cell_type": "code",
   "execution_count": 58,
   "metadata": {},
   "outputs": [],
   "source": [
    "DNN_data_encoded.to_csv(\"processed_dataset.csv\", index=False)\n"
   ]
  }
 ],
 "metadata": {
  "kernelspec": {
   "display_name": ".venv",
   "language": "python",
   "name": "python3"
  },
  "language_info": {
   "codemirror_mode": {
    "name": "ipython",
    "version": 3
   },
   "file_extension": ".py",
   "mimetype": "text/x-python",
   "name": "python",
   "nbconvert_exporter": "python",
   "pygments_lexer": "ipython3",
   "version": "3.9.6"
  }
 },
 "nbformat": 4,
 "nbformat_minor": 2
}
