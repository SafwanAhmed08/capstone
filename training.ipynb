{
 "cells": [
  {
   "cell_type": "code",
   "execution_count": 2,
   "id": "fa90e0f4",
   "metadata": {},
   "outputs": [],
   "source": [
    "import torch\n",
    "import torch.nn as nn\n",
    "import torch.optim as optim\n",
    "from torch.utils.data import DataLoader, TensorDataset\n",
    "import numpy as np\n",
    "from sklearn.preprocessing import StandardScaler\n",
    "import joblib\n"
   ]
  },
  {
   "cell_type": "code",
   "execution_count": 3,
   "id": "1040177f",
   "metadata": {},
   "outputs": [],
   "source": [
    "class AnomalyAutoencoder(nn.Module):\n",
    "    def __init__(self, input_dim):\n",
    "        super(AnomalyAutoencoder, self).__init__()\n",
    "        self.encoder = nn.Sequential(\n",
    "            nn.Linear(input_dim, 64),\n",
    "            nn.ReLU(),\n",
    "            nn.Linear(64, 32),\n",
    "            nn.ReLU(),\n",
    "            nn.Linear(32, 16)\n",
    "        )\n",
    "        self.decoder = nn.Sequential(\n",
    "            nn.Linear(16, 32),\n",
    "            nn.ReLU(),\n",
    "            nn.Linear(32, 64),\n",
    "            nn.ReLU(),\n",
    "            nn.Linear(64, input_dim)\n",
    "        )\n",
    "\n",
    "    def forward(self, x):\n",
    "        return self.decoder(self.encoder(x))\n"
   ]
  },
  {
   "cell_type": "code",
   "execution_count": 4,
   "id": "84a3ce17",
   "metadata": {},
   "outputs": [],
   "source": [
    "def train_autoencoder(model, dataloader, epochs=50, lr=1e-4):\n",
    "    criterion = nn.MSELoss()\n",
    "    optimizer = optim.Adam(model.parameters(), lr=lr)\n",
    "    model.train()\n",
    "\n",
    "    for epoch in range(epochs):\n",
    "        total_loss = 0\n",
    "        for batch in dataloader:\n",
    "            batch = batch[0].float()\n",
    "            optimizer.zero_grad()\n",
    "            output = model(batch)\n",
    "            loss = criterion(output, batch)\n",
    "            loss.backward()\n",
    "            optimizer.step()\n",
    "            total_loss += loss.item()\n",
    "        print(f\"Epoch {epoch+1}/{epochs}, Loss: {total_loss / len(dataloader):.6f}\")\n"
   ]
  },
  {
   "cell_type": "code",
   "execution_count": 5,
   "id": "800017e6",
   "metadata": {},
   "outputs": [],
   "source": [
    "def calculate_threshold(model, validation_loader):\n",
    "    model.eval()\n",
    "    errors = []\n",
    "\n",
    "    with torch.no_grad():\n",
    "        for batch in validation_loader:\n",
    "            batch = batch[0].float()\n",
    "            output = model(batch)\n",
    "            mse = torch.mean((batch - output) ** 2, dim=1)\n",
    "            errors.extend(mse.cpu().numpy())\n",
    "\n",
    "    errors = np.array(errors)\n",
    "    threshold = np.percentile(errors, 99)\n",
    "    print(f\"Calculated anomaly threshold: {threshold:.6f}\")\n",
    "    return threshold\n"
   ]
  },
  {
   "cell_type": "code",
   "execution_count": 6,
   "id": "1fc34a44",
   "metadata": {},
   "outputs": [],
   "source": [
    "def detect_anomaly(sample, model, threshold):\n",
    "    model.eval()\n",
    "    sample = sample.float().unsqueeze(0)  # add batch dimension\n",
    "    with torch.no_grad():\n",
    "        reconstructed = model(sample)\n",
    "        loss = torch.mean((sample - reconstructed) ** 2).item()\n",
    "        return (loss > threshold), loss\n"
   ]
  },
  {
   "cell_type": "code",
   "execution_count": 7,
   "id": "7365fb87",
   "metadata": {},
   "outputs": [],
   "source": [
    "def hybrid_detection_pipeline(sample, ae_model, dnn_model, threshold):\n",
    "    sample_tensor = torch.tensor(sample, dtype=torch.float32)\n",
    "    is_anomaly, score = detect_anomaly(sample_tensor, ae_model, threshold)\n",
    "\n",
    "    if is_anomaly:\n",
    "        dnn_model.eval()\n",
    "        with torch.no_grad():\n",
    "            prediction = dnn_model(sample_tensor.unsqueeze(0))  # batch size 1\n",
    "            predicted_class = torch.argmax(prediction, dim=1).item()\n",
    "        return f\"Anomaly (score={score:.4f}) → Attack Type: {predicted_class}\"\n",
    "    else:\n",
    "        return f\"Benign (score={score:.4f})\"\n"
   ]
  },
  {
   "cell_type": "code",
   "execution_count": 8,
   "id": "9e47e09d",
   "metadata": {},
   "outputs": [
    {
     "data": {
      "text/plain": [
       "['standard_scaler.pkl']"
      ]
     },
     "execution_count": 8,
     "metadata": {},
     "output_type": "execute_result"
    }
   ],
   "source": [
    "scaler = StandardScaler()\n",
    "joblib.dump(scaler, \"standard_scaler.pkl\")\n"
   ]
  },
  {
   "cell_type": "code",
   "execution_count": 9,
   "id": "4bf012c8",
   "metadata": {},
   "outputs": [],
   "source": [
    "scaler = joblib.load(\"standard_scaler.pkl\")\n",
    "\n",
    "\n",
    "X_train = np.load('./preprocessing/X_train_benign.npy')\n",
    "X_val = np.load('./preprocessing/X_val_benign.npy')\n",
    "\n",
    "X_train_scaled = scaler.fit_transform(X_train)\n",
    "X_val_scaled = scaler.transform(X_val) \n",
    "\n",
    "\n",
    "# Prepare dataloaders\n",
    "train_loader = DataLoader(TensorDataset(torch.tensor(X_train_scaled)), batch_size=128, shuffle=True)\n",
    "val_loader = DataLoader(TensorDataset(torch.tensor(X_val_scaled)), batch_size=128, shuffle=False)\n",
    "\n",
    "# Define and train autoencoder\n"
   ]
  },
  {
   "cell_type": "code",
   "execution_count": null,
   "id": "babd73a6",
   "metadata": {},
   "outputs": [],
   "source": [
    "input_dim = X_train.shape[1]\n",
    "autoencoder = AnomalyAutoencoder(input_dim)\n",
    "train_autoencoder(autoencoder, train_loader, epochs=50)\n",
    "\n",
    "# Calculate threshold from validation set\n",
    "threshold = calculate_threshold(autoencoder, val_loader)\n",
    "\n",
    "# Save model and threshold\n",
    "torch.save(autoencoder.state_dict(), \"autoencoder.pth\")\n",
    "np.save(\"threshold.npy\", threshold)"
   ]
  },
  {
   "cell_type": "code",
   "execution_count": 20,
   "id": "f505a8a2",
   "metadata": {},
   "outputs": [
    {
     "name": "stdout",
     "output_type": "stream",
     "text": [
      "Loaded threshold: 0.0060612448\n"
     ]
    },
    {
     "name": "stderr",
     "output_type": "stream",
     "text": [
      "/var/folders/md/bzc6yhvn2ddd3gdvys2gv5sr0000gn/T/ipykernel_45261/596427498.py:6: FutureWarning: You are using `torch.load` with `weights_only=False` (the current default value), which uses the default pickle module implicitly. It is possible to construct malicious pickle data which will execute arbitrary code during unpickling (See https://github.com/pytorch/pytorch/blob/main/SECURITY.md#untrusted-models for more details). In a future release, the default value for `weights_only` will be flipped to `True`. This limits the functions that could be executed during unpickling. Arbitrary objects will no longer be allowed to be loaded via this mode unless they are explicitly allowlisted by the user via `torch.serialization.add_safe_globals`. We recommend you start setting `weights_only=True` for any use case where you don't have full control of the loaded file. Please open an issue on GitHub for any issues related to this experimental feature.\n",
      "  model.load_state_dict(torch.load(\"autoencoder.pth\"))\n"
     ]
    }
   ],
   "source": [
    "# Make sure input_dim matches your data\n",
    "input_dim = X_train.shape[1]  # or set manually if X_train is not in memory\n",
    "\n",
    "# Initialize model and load weights\n",
    "model = AnomalyAutoencoder(input_dim)\n",
    "model.load_state_dict(torch.load(\"autoencoder.pth\"))\n",
    "model.eval()\n",
    "\n",
    "# Load threshold\n",
    "threshold = np.load(\"threshold.npy\")\n",
    "\n",
    "print(\"Loaded threshold:\", threshold)\n"
   ]
  },
  {
   "cell_type": "code",
   "execution_count": 17,
   "id": "e4b86fb9",
   "metadata": {},
   "outputs": [],
   "source": [
    "X_attack = np.load('./preprocessing/X_attack.npy')\n",
    "X_attack_scaled = scaler.transform(X_attack)"
   ]
  },
  {
   "cell_type": "code",
   "execution_count": 18,
   "id": "a9bbe368",
   "metadata": {},
   "outputs": [],
   "source": [
    "attack_loader = DataLoader(TensorDataset(torch.tensor(X_attack_scaled).float()), batch_size=128, shuffle=False)\n"
   ]
  },
  {
   "cell_type": "code",
   "execution_count": null,
   "id": "c7a49244",
   "metadata": {},
   "outputs": [
    {
     "ename": "AttributeError",
     "evalue": "'str' object has no attribute 'eval'",
     "output_type": "error",
     "traceback": [
      "\u001b[0;31m---------------------------------------------------------------------------\u001b[0m",
      "\u001b[0;31mAttributeError\u001b[0m                            Traceback (most recent call last)",
      "Cell \u001b[0;32mIn[21], line 13\u001b[0m\n\u001b[1;32m     10\u001b[0m             errors\u001b[38;5;241m.\u001b[39mextend(mse\u001b[38;5;241m.\u001b[39mcpu()\u001b[38;5;241m.\u001b[39mnumpy())\n\u001b[1;32m     11\u001b[0m     \u001b[38;5;28;01mreturn\u001b[39;00m np\u001b[38;5;241m.\u001b[39marray(errors)\n\u001b[0;32m---> 13\u001b[0m errors_benign \u001b[38;5;241m=\u001b[39m \u001b[43mget_reconstruction_errors\u001b[49m\u001b[43m(\u001b[49m\u001b[43mautoencoder\u001b[49m\u001b[43m,\u001b[49m\u001b[43m \u001b[49m\u001b[43mval_loader\u001b[49m\u001b[43m)\u001b[49m\n\u001b[1;32m     14\u001b[0m errors_attack \u001b[38;5;241m=\u001b[39m get_reconstruction_errors(autoencoder, attack_loader)\n",
      "Cell \u001b[0;32mIn[21], line 2\u001b[0m, in \u001b[0;36mget_reconstruction_errors\u001b[0;34m(model, data_loader)\u001b[0m\n\u001b[1;32m      1\u001b[0m \u001b[38;5;28;01mdef\u001b[39;00m\u001b[38;5;250m \u001b[39m\u001b[38;5;21mget_reconstruction_errors\u001b[39m(model, data_loader):\n\u001b[0;32m----> 2\u001b[0m     \u001b[43mmodel\u001b[49m\u001b[38;5;241;43m.\u001b[39;49m\u001b[43meval\u001b[49m()\n\u001b[1;32m      3\u001b[0m     errors \u001b[38;5;241m=\u001b[39m []\n\u001b[1;32m      5\u001b[0m     \u001b[38;5;28;01mwith\u001b[39;00m torch\u001b[38;5;241m.\u001b[39mno_grad():\n",
      "\u001b[0;31mAttributeError\u001b[0m: 'str' object has no attribute 'eval'"
     ]
    }
   ],
   "source": [
    "def get_reconstruction_errors(model, data_loader):\n",
    "    model.eval()\n",
    "    errors = []\n",
    "\n",
    "    with torch.no_grad():\n",
    "        for batch in data_loader:\n",
    "            batch = batch[0].float()\n",
    "            output = model(batch)\n",
    "            mse = torch.mean((batch - output) ** 2, dim=1)  # per-sample error\n",
    "            errors.extend(mse.cpu().numpy())\n",
    "    return np.array(errors)\n",
    "\n",
    "errors_benign = get_reconstruction_errors(model, val_loader)\n",
    "errors_attack = get_reconstruction_errors(model, attack_loader)\n"
   ]
  },
  {
   "cell_type": "code",
   "execution_count": null,
   "id": "fa1bd596",
   "metadata": {},
   "outputs": [],
   "source": []
  }
 ],
 "metadata": {
  "kernelspec": {
   "display_name": "Python 3",
   "language": "python",
   "name": "python3"
  },
  "language_info": {
   "codemirror_mode": {
    "name": "ipython",
    "version": 3
   },
   "file_extension": ".py",
   "mimetype": "text/x-python",
   "name": "python",
   "nbconvert_exporter": "python",
   "pygments_lexer": "ipython3",
   "version": "3.9.6"
  }
 },
 "nbformat": 4,
 "nbformat_minor": 5
}
